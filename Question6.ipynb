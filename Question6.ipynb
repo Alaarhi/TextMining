{
 "cells": [
  {
   "cell_type": "markdown",
   "metadata": {},
   "source": [
    "## Text Mining Project Pipeline\n",
    "0. Read questionnaire data from csv file\n",
    "1. Initialize raw corpus (for example, select Q1 answers only)\n",
    "2. Text cleaning (NLTK library)\n",
    "3. Text representation using BOW-tfidf model (Scikit-learn library)\n",
    "4. Topic modeling\n",
    "5. Clustering **[optional]**\n",
    "6. Predictive modeling\n",
    "7. Visualization and interpretation of final results"
   ]
  },
  {
   "cell_type": "code",
   "execution_count": 1,
   "metadata": {},
   "outputs": [],
   "source": [
    "import pandas as pd  \n",
    "import numpy as np "
   ]
  },
  {
   "cell_type": "code",
   "execution_count": 2,
   "metadata": {},
   "outputs": [],
   "source": [
    "from matplotlib import pyplot as plt\n",
    "%matplotlib inline\n",
    "plt.rcParams['font.size'] = 14"
   ]
  },
  {
   "cell_type": "markdown",
   "metadata": {},
   "source": [
    "## 1) Read questionnaire data"
   ]
  },
  {
   "cell_type": "code",
   "execution_count": 3,
   "metadata": {},
   "outputs": [],
   "source": [
    "# Read data from a CSV file : this will return a DataFrame object\n",
    "df = pd.read_csv(\"QuestionnaireData_12Nov2018.csv\")"
   ]
  },
  {
   "cell_type": "code",
   "execution_count": 4,
   "metadata": {
    "scrolled": true
   },
   "outputs": [
    {
     "data": {
      "text/html": [
       "<div>\n",
       "<style scoped>\n",
       "    .dataframe tbody tr th:only-of-type {\n",
       "        vertical-align: middle;\n",
       "    }\n",
       "\n",
       "    .dataframe tbody tr th {\n",
       "        vertical-align: top;\n",
       "    }\n",
       "\n",
       "    .dataframe thead th {\n",
       "        text-align: right;\n",
       "    }\n",
       "</style>\n",
       "<table border=\"1\" class=\"dataframe\">\n",
       "  <thead>\n",
       "    <tr style=\"text-align: right;\">\n",
       "      <th></th>\n",
       "      <th>Timestamp</th>\n",
       "      <th>Votre âge</th>\n",
       "      <th>Sexe</th>\n",
       "      <th>Etat civil</th>\n",
       "      <th>Niveau d'étude</th>\n",
       "      <th>Etablissement d'études</th>\n",
       "      <th>Situation professionnelle</th>\n",
       "      <th>Région</th>\n",
       "      <th>Domaine d'études</th>\n",
       "      <th>Quel est le CODE de la personne qui vous a envoyé ce formulaire ? (Cela doit etre un nombre entre 1 et 52. Ecrire \"autre\" si vous ne l'avez pas)</th>\n",
       "      <th>Q1 : Qu'est-ce qui vous ferait rester en Tunisie ?</th>\n",
       "      <th>Q2 : Quel salaire vous fera rester en Tunisie ?</th>\n",
       "      <th>Q3 : Qu'est-ce qui encouragerait les étrangers à venir en Tunisie ?</th>\n",
       "      <th>Q4 : Qu'est-ce qui vous ferait partir à l'étranger ?</th>\n",
       "      <th>Q5 : Quelle est la différence au point de vue social entre la Tunisie et l'étranger ?</th>\n",
       "      <th>Q6 : Quelle est la différence au point de vue professionnel entre la Tunisie et l'étranger ?</th>\n",
       "    </tr>\n",
       "  </thead>\n",
       "  <tbody>\n",
       "    <tr>\n",
       "      <th>0</th>\n",
       "      <td>11/2/2018 12:24</td>\n",
       "      <td>20-25</td>\n",
       "      <td>Homme</td>\n",
       "      <td>Célibataire</td>\n",
       "      <td>Mastère</td>\n",
       "      <td>A University not appearing in this list</td>\n",
       "      <td>Etudiant</td>\n",
       "      <td>Autre</td>\n",
       "      <td>Sciences de l'Ingénieur</td>\n",
       "      <td>Autre</td>\n",
       "      <td>Rien de rien</td>\n",
       "      <td>Pas une question de salaire</td>\n",
       "      <td>Digitalisation de services, meilleure infrastr...</td>\n",
       "      <td>Plus de respect enver l'homme, meilleure quali...</td>\n",
       "      <td>Mediocrité mentale, pas de respect...</td>\n",
       "      <td>Au niveau de l hierarchie das les societes, Re...</td>\n",
       "    </tr>\n",
       "    <tr>\n",
       "      <th>1</th>\n",
       "      <td>11/1/2018 16:07</td>\n",
       "      <td>31 et plus</td>\n",
       "      <td>Homme</td>\n",
       "      <td>Marié</td>\n",
       "      <td>Licence</td>\n",
       "      <td>ATFP</td>\n",
       "      <td>en chômage</td>\n",
       "      <td>Grand Tunis</td>\n",
       "      <td>biologie medical</td>\n",
       "      <td>23</td>\n",
       "      <td>Ma famille</td>\n",
       "      <td>1700 DT</td>\n",
       "      <td>je pense que le climat modéré qui séduit beauc...</td>\n",
       "      <td>je pense la recherche d opportunité</td>\n",
       "      <td>la tolérance</td>\n",
       "      <td>les perspectives d évolution</td>\n",
       "    </tr>\n",
       "    <tr>\n",
       "      <th>2</th>\n",
       "      <td>10/31/2018 10:48</td>\n",
       "      <td>20-25</td>\n",
       "      <td>Homme</td>\n",
       "      <td>Célibataire</td>\n",
       "      <td>Licence</td>\n",
       "      <td>Autre</td>\n",
       "      <td>Etudiant</td>\n",
       "      <td>Grand Tunis</td>\n",
       "      <td>Economie et gestion</td>\n",
       "      <td>3</td>\n",
       "      <td>Rien</td>\n",
       "      <td>30 000 dt</td>\n",
       "      <td>Tourisme</td>\n",
       "      <td>Mode de vie quotidienne</td>\n",
       "      <td>Mentalité</td>\n",
       "      <td>Respect</td>\n",
       "    </tr>\n",
       "    <tr>\n",
       "      <th>3</th>\n",
       "      <td>10/31/2018 13:03</td>\n",
       "      <td>20-25</td>\n",
       "      <td>Homme</td>\n",
       "      <td>Célibataire</td>\n",
       "      <td>Licence</td>\n",
       "      <td>CFT</td>\n",
       "      <td>Etudiant</td>\n",
       "      <td>Grand Tunis</td>\n",
       "      <td>Informatique</td>\n",
       "      <td>3</td>\n",
       "      <td>L'éspoir</td>\n",
       "      <td>900</td>\n",
       "      <td>Bon, je serai pas d'accord sur ce point si il ...</td>\n",
       "      <td>Les codes d'étiques</td>\n",
       "      <td>Le respect et la dignité</td>\n",
       "      <td>L'assiduité</td>\n",
       "    </tr>\n",
       "    <tr>\n",
       "      <th>4</th>\n",
       "      <td>10/31/2018 19:29</td>\n",
       "      <td>20-25</td>\n",
       "      <td>Homme</td>\n",
       "      <td>Célibataire</td>\n",
       "      <td>Licence</td>\n",
       "      <td>Columbia University</td>\n",
       "      <td>Etudiant</td>\n",
       "      <td>Autre</td>\n",
       "      <td>Sciences humaines et sociales</td>\n",
       "      <td>44</td>\n",
       "      <td>La famille</td>\n",
       "      <td>10,000 DT/mois</td>\n",
       "      <td>Le soleil</td>\n",
       "      <td>Meilleure education</td>\n",
       "      <td>La Tunisie pourrait devenir un peu plus toléra...</td>\n",
       "      <td>Le travail est plus complexe dans certains dom...</td>\n",
       "    </tr>\n",
       "  </tbody>\n",
       "</table>\n",
       "</div>"
      ],
      "text/plain": [
       "          Timestamp   Votre âge   Sexe   Etat civil Niveau d'étude  \\\n",
       "0   11/2/2018 12:24       20-25  Homme  Célibataire        Mastère   \n",
       "1   11/1/2018 16:07  31 et plus  Homme        Marié        Licence   \n",
       "2  10/31/2018 10:48       20-25  Homme  Célibataire        Licence   \n",
       "3  10/31/2018 13:03       20-25  Homme  Célibataire        Licence   \n",
       "4  10/31/2018 19:29       20-25  Homme  Célibataire        Licence   \n",
       "\n",
       "                    Etablissement d'études Situation professionnelle  \\\n",
       "0  A University not appearing in this list                  Etudiant   \n",
       "1                                     ATFP                en chômage   \n",
       "2                                   Autre                   Etudiant   \n",
       "3                                      CFT                  Etudiant   \n",
       "4                      Columbia University                  Etudiant   \n",
       "\n",
       "        Région               Domaine d'études  \\\n",
       "0        Autre        Sciences de l'Ingénieur   \n",
       "1  Grand Tunis               biologie medical   \n",
       "2  Grand Tunis            Economie et gestion   \n",
       "3  Grand Tunis                   Informatique   \n",
       "4        Autre  Sciences humaines et sociales   \n",
       "\n",
       "  Quel est le CODE de la personne qui vous a envoyé ce formulaire ? (Cela doit etre un nombre entre 1 et 52. Ecrire \"autre\" si vous ne l'avez pas)  \\\n",
       "0                                              Autre                                                                                                 \n",
       "1                                                 23                                                                                                 \n",
       "2                                                  3                                                                                                 \n",
       "3                                                  3                                                                                                 \n",
       "4                                                 44                                                                                                 \n",
       "\n",
       "  Q1 : Qu'est-ce qui vous ferait rester en Tunisie ?  \\\n",
       "0                                       Rien de rien   \n",
       "1                                         Ma famille   \n",
       "2                                               Rien   \n",
       "3                                           L'éspoir   \n",
       "4                                        La famille    \n",
       "\n",
       "  Q2 : Quel salaire vous fera rester en Tunisie ?  \\\n",
       "0                     Pas une question de salaire   \n",
       "1                                         1700 DT   \n",
       "2                                       30 000 dt   \n",
       "3                                             900   \n",
       "4                                  10,000 DT/mois   \n",
       "\n",
       "  Q3 : Qu'est-ce qui encouragerait les étrangers à venir en Tunisie ?  \\\n",
       "0  Digitalisation de services, meilleure infrastr...                    \n",
       "1  je pense que le climat modéré qui séduit beauc...                    \n",
       "2                                          Tourisme                     \n",
       "3  Bon, je serai pas d'accord sur ce point si il ...                    \n",
       "4                                          Le soleil                    \n",
       "\n",
       "  Q4 : Qu'est-ce qui vous ferait partir à l'étranger ?   \\\n",
       "0  Plus de respect enver l'homme, meilleure quali...      \n",
       "1               je pense la recherche d opportunité       \n",
       "2                           Mode de vie quotidienne       \n",
       "3                                Les codes d'étiques      \n",
       "4                                Meilleure education      \n",
       "\n",
       "  Q5 : Quelle est la différence au point de vue social entre la Tunisie et l'étranger ?  \\\n",
       "0              Mediocrité mentale, pas de respect...                                      \n",
       "1                                      la tolérance                                       \n",
       "2                                         Mentalité                                       \n",
       "3                           Le respect et la dignité                                      \n",
       "4  La Tunisie pourrait devenir un peu plus toléra...                                      \n",
       "\n",
       "  Q6 : Quelle est la différence au point de vue professionnel entre la Tunisie et l'étranger ?   \n",
       "0  Au niveau de l hierarchie das les societes, Re...                                             \n",
       "1                      les perspectives d évolution                                              \n",
       "2                                           Respect                                              \n",
       "3                                        L'assiduité                                             \n",
       "4  Le travail est plus complexe dans certains dom...                                             "
      ]
     },
     "execution_count": 4,
     "metadata": {},
     "output_type": "execute_result"
    }
   ],
   "source": [
    "df.head()"
   ]
  },
  {
   "cell_type": "code",
   "execution_count": 5,
   "metadata": {},
   "outputs": [
    {
     "data": {
      "text/html": [
       "<div>\n",
       "<style scoped>\n",
       "    .dataframe tbody tr th:only-of-type {\n",
       "        vertical-align: middle;\n",
       "    }\n",
       "\n",
       "    .dataframe tbody tr th {\n",
       "        vertical-align: top;\n",
       "    }\n",
       "\n",
       "    .dataframe thead th {\n",
       "        text-align: right;\n",
       "    }\n",
       "</style>\n",
       "<table border=\"1\" class=\"dataframe\">\n",
       "  <thead>\n",
       "    <tr style=\"text-align: right;\">\n",
       "      <th></th>\n",
       "      <th>Q6 : Quelle est la différence au point de vue professionnel entre la Tunisie et l'étranger ?</th>\n",
       "    </tr>\n",
       "  </thead>\n",
       "  <tbody>\n",
       "    <tr>\n",
       "      <th>0</th>\n",
       "      <td>Au niveau de l hierarchie das les societes, Re...</td>\n",
       "    </tr>\n",
       "    <tr>\n",
       "      <th>1</th>\n",
       "      <td>les perspectives d évolution</td>\n",
       "    </tr>\n",
       "    <tr>\n",
       "      <th>2</th>\n",
       "      <td>Respect</td>\n",
       "    </tr>\n",
       "    <tr>\n",
       "      <th>3</th>\n",
       "      <td>L'assiduité</td>\n",
       "    </tr>\n",
       "    <tr>\n",
       "      <th>4</th>\n",
       "      <td>Le travail est plus complexe dans certains dom...</td>\n",
       "    </tr>\n",
       "    <tr>\n",
       "      <th>5</th>\n",
       "      <td>Les marchés en tunisie ne sont pas assez grand...</td>\n",
       "    </tr>\n",
       "    <tr>\n",
       "      <th>6</th>\n",
       "      <td>Difficulte, Inspecification, Retard dans tous ...</td>\n",
       "    </tr>\n",
       "  </tbody>\n",
       "</table>\n",
       "</div>"
      ],
      "text/plain": [
       "  Q6 : Quelle est la différence au point de vue professionnel entre la Tunisie et l'étranger ? \n",
       "0  Au niveau de l hierarchie das les societes, Re...                                           \n",
       "1                      les perspectives d évolution                                            \n",
       "2                                           Respect                                            \n",
       "3                                        L'assiduité                                           \n",
       "4  Le travail est plus complexe dans certains dom...                                           \n",
       "5  Les marchés en tunisie ne sont pas assez grand...                                           \n",
       "6  Difficulte, Inspecification, Retard dans tous ...                                           "
      ]
     },
     "execution_count": 5,
     "metadata": {},
     "output_type": "execute_result"
    }
   ],
   "source": [
    "pd.DataFrame(df.iloc[:,15]).head(7)"
   ]
  },
  {
   "cell_type": "code",
   "execution_count": 6,
   "metadata": {},
   "outputs": [
    {
     "data": {
      "text/html": [
       "<div>\n",
       "<style scoped>\n",
       "    .dataframe tbody tr th:only-of-type {\n",
       "        vertical-align: middle;\n",
       "    }\n",
       "\n",
       "    .dataframe tbody tr th {\n",
       "        vertical-align: top;\n",
       "    }\n",
       "\n",
       "    .dataframe thead th {\n",
       "        text-align: right;\n",
       "    }\n",
       "</style>\n",
       "<table border=\"1\" class=\"dataframe\">\n",
       "  <thead>\n",
       "    <tr style=\"text-align: right;\">\n",
       "      <th></th>\n",
       "      <th>Q6 : Quelle est la différence au point de vue professionnel entre la Tunisie et l'étranger ?</th>\n",
       "    </tr>\n",
       "  </thead>\n",
       "  <tbody>\n",
       "    <tr>\n",
       "      <th>je ne sais pas</th>\n",
       "      <td>3</td>\n",
       "    </tr>\n",
       "    <tr>\n",
       "      <th>Incomparable</th>\n",
       "      <td>2</td>\n",
       "    </tr>\n",
       "    <tr>\n",
       "      <th>Plus d'opportunités à l'étranger</th>\n",
       "      <td>2</td>\n",
       "    </tr>\n",
       "    <tr>\n",
       "      <th>Les opportunités</th>\n",
       "      <td>2</td>\n",
       "    </tr>\n",
       "    <tr>\n",
       "      <th>La rigueur</th>\n",
       "      <td>1</td>\n",
       "    </tr>\n",
       "    <tr>\n",
       "      <th>la façon avec laquelle on gère les choses / le concept de professionnalisme /</th>\n",
       "      <td>1</td>\n",
       "    </tr>\n",
       "    <tr>\n",
       "      <th>Ce point là est un peu nuancé. Comparer les 2 au niveau professionnel serait difficie car les 2 peuvent nous apporter des opportunités professionnelles, comme on peut trouver des sociétés/startups au sein desquels on se sent mal à l'aise, maltraités, ou abusé.</th>\n",
       "      <td>1</td>\n",
       "    </tr>\n",
       "  </tbody>\n",
       "</table>\n",
       "</div>"
      ],
      "text/plain": [
       "                                                    Q6 : Quelle est la différence au point de vue professionnel entre la Tunisie et l'étranger ? \n",
       "je ne sais pas                                                                                      3                                            \n",
       "Incomparable                                                                                        2                                            \n",
       "Plus d'opportunités à l'étranger                                                                    2                                            \n",
       "Les opportunités                                                                                    2                                            \n",
       "La rigueur                                                                                          1                                            \n",
       "la façon avec laquelle on gère les choses / le ...                                                  1                                            \n",
       "Ce point là est un peu nuancé. Comparer les 2 a...                                                  1                                            "
      ]
     },
     "execution_count": 6,
     "metadata": {},
     "output_type": "execute_result"
    }
   ],
   "source": [
    "pd.DataFrame(df.iloc[:,15].value_counts()).head(7)"
   ]
  },
  {
   "cell_type": "markdown",
   "metadata": {},
   "source": [
    "****"
   ]
  },
  {
   "cell_type": "markdown",
   "metadata": {},
   "source": [
    "## 2) Prepare corpus for analyzing Q6\n",
    "\n",
    "Terminology:\n",
    "- Corpus = list of documents\n",
    "- Document = string (sequence of characters)"
   ]
  },
  {
   "cell_type": "code",
   "execution_count": 320,
   "metadata": {},
   "outputs": [],
   "source": [
    "Q6_corpus = df.iloc[:,15].tolist()"
   ]
  },
  {
   "cell_type": "code",
   "execution_count": 321,
   "metadata": {},
   "outputs": [],
   "source": [
    "import re\n",
    "from nltk import FreqDist\n",
    "from tabulate import tabulate"
   ]
  },
  {
   "cell_type": "markdown",
   "metadata": {},
   "source": [
    "## 3) Data Cleaning using NLTK\n",
    "\n",
    "The Pipeline:\n",
    "1. Language identification\n",
    "2. Remove useless characters\n",
    "3. Convert to lowercase\n",
    "4. Tokenization\n",
    "5. Stemming"
   ]
  },
  {
   "cell_type": "markdown",
   "metadata": {},
   "source": [
    "### Language identification\n"
   ]
  },
  {
   "cell_type": "code",
   "execution_count": 322,
   "metadata": {},
   "outputs": [],
   "source": [
    "# Load library module for language identification\n",
    "from nltk.classify.textcat import TextCat\n",
    "\n",
    "# You will have to download some resources the first time that you use this library\n",
    "import nltk\n",
    "#nltk.download('crubadan')"
   ]
  },
  {
   "cell_type": "code",
   "execution_count": 323,
   "metadata": {},
   "outputs": [],
   "source": [
    "# create class instance\n",
    "tc = TextCat()"
   ]
  },
  {
   "cell_type": "code",
   "execution_count": 325,
   "metadata": {},
   "outputs": [
    {
     "name": "stdout",
     "output_type": "stream",
     "text": [
      "Au niveau de l hierarchie das les societes, Rendement x 1000, l idee de \"mosmar fi 7it\"... \n",
      "eng\n"
     ]
    }
   ],
   "source": [
    "# quick test on first document in corpus\n",
    "print(Q6_corpus[0])\n",
    "print(tc.guess_language(Q6_corpus[0]))"
   ]
  },
  {
   "cell_type": "markdown",
   "metadata": {},
   "source": [
    "#  First method to identify Language"
   ]
  },
  {
   "cell_type": "code",
   "execution_count": 326,
   "metadata": {},
   "outputs": [],
   "source": [
    "#import detectlanguage\n",
    "\n",
    "#detectlanguage.configuration.api_key = \"4b5995068d0483e35b610d91fd551e05\"\n",
    "\n",
    "# Enable secure mode (SSL) if you are passing sensitive data\n",
    "# detectlanguage.configuration.secure = True\n",
    "\n",
    "#detectlanguage.detect(\"Buenos dias señor\")\n",
    "#for doc in Q6_corpus:\n",
    " #   res1 =[detectlanguage.detect(doc)]\n",
    "    #print(doc)"
   ]
  },
  {
   "cell_type": "markdown",
   "metadata": {},
   "source": [
    "#  Second method to identify Language"
   ]
  },
  {
   "cell_type": "code",
   "execution_count": 327,
   "metadata": {},
   "outputs": [],
   "source": [
    "res = [tc.guess_language(doc) for doc in Q6_corpus]"
   ]
  },
  {
   "cell_type": "code",
   "execution_count": 328,
   "metadata": {},
   "outputs": [
    {
     "data": {
      "text/plain": [
       "fra     212\n",
       "eng       9\n",
       "eng       6\n",
       "cat       5\n",
       "ita       4\n",
       "lld       2\n",
       "lat       2\n",
       "abk       2\n",
       "sun       2\n",
       "pol       1\n",
       "dan       1\n",
       "lnc       1\n",
       "nap       1\n",
       "deu       1\n",
       "rcf       1\n",
       "ltz       1\n",
       "ssw       1\n",
       "kha       1\n",
       "pih       1\n",
       "src       1\n",
       "bug       1\n",
       "arb       1\n",
       "epo       1\n",
       "dtype: int64"
      ]
     },
     "execution_count": 328,
     "metadata": {},
     "output_type": "execute_result"
    }
   ],
   "source": [
    "pd.Series(res).value_counts()"
   ]
  },
  {
   "cell_type": "code",
   "execution_count": 329,
   "metadata": {},
   "outputs": [
    {
     "data": {
      "text/plain": [
       "<matplotlib.axes._subplots.AxesSubplot at 0x2690dcf84e0>"
      ]
     },
     "execution_count": 329,
     "metadata": {},
     "output_type": "execute_result"
    },
    {
     "data": {
      "image/png": "[encoded data removed]",
      "text/plain": [
       "<matplotlib.figure.Figure at 0x2690dd84470>"
      ]
     },
     "metadata": {},
     "output_type": "display_data"
    }
   ],
   "source": [
    "pd.Series(res).value_counts().plot(kind='bar')"
   ]
  },
  {
   "cell_type": "code",
   "execution_count": 330,
   "metadata": {},
   "outputs": [
    {
     "data": {
      "text/plain": [
       "[('fra', 'les perspectives d évolution '),\n",
       " ('fra', \"L'assiduité\"),\n",
       " ('fra',\n",
       "  \"Le travail est plus complexe dans certains domaines à l'étranger (La finance)\"),\n",
       " ('fra',\n",
       "  \"Les marchés en tunisie ne sont pas assez grands comme a l'étranger, \"),\n",
       " ('fra', 'Salaire et conditions humanitaires '),\n",
       " ('fra', 'Le carrière'),\n",
       " ('fra', 'sécurité des employés , motivation ,expérience et formation '),\n",
       " ('fra',\n",
       "  \"De point de vue études, en Tunisie, il y'a des écoles où on n’apprend pas de grande chose, alors qu'à l'étranger une bonne éducation est bien offerte.\\n\\nDe point de vue travail, à l'étranger, les gens respectent plus le sens du travail; l'horaire etc. A l'étranger, on peut facilement trouver un emploi qui correspond au diplôme d'études obtenu. Aussi, on peut travailler partout sans perdre du respect, il n y a pas de différence entre l'employeur et l'emlpoyé, ou encore entre le dirigeant et l'ouvrier; chacun est respecté par tout le monde!\"),\n",
       " ('fra',\n",
       "  \"Les moyens d'enseignement et de l'industrie à l'étranger sont beaucoup plus élaborés ou avancés. On a une diversité dans le choix de parcours et une diversité d'implantation des entreprises où on peut s'intégrer.\"),\n",
       " ('fra',\n",
       "  \"à l'étranger ils donnent la valeur de la personne, le respect, l'évolution professionnel, la justice entre les employés, tu travail tu trouveras, ici tu dois être un grand hypocrite/menteur pour s'évoluer dans ta carrière. \"),\n",
       " ('fra',\n",
       "  'Je ne suis pas encore fait une image assez claire du milieu professionnel pour pouvoir comparer.'),\n",
       " ('fra',\n",
       "  \"A l'étranger, ils gagnent beaucoup plus d'argent avec un niveau de vie meilleur sur tous les plans. les boulots sont beaucoup plus challenging et les ingénieurs sont très bien valorisés.\"),\n",
       " ('fra', 'La notion du travail .'),\n",
       " ('fra',\n",
       "  \"Condition de travail sont favorable à l'étranger. Concernant mon domaine d'étude (l’ingénierie ) il est mieux reconnaissant à l'étranger qu' à la Tunisie. En Tunisie l'ingénieur n'exerce pas tellement son métier. \"),\n",
       " ('fra', 'je ne sais pas'),\n",
       " ('fra', 'je ne sais pas'),\n",
       " ('fra',\n",
       "  \"Le milieu professionnel est beaucoup plus développé en terme d'avancée technologique et savoir faire\"),\n",
       " ('fra', 'Ils sont mieux payés. quoi!!!'),\n",
       " ('fra', 'Compétence '),\n",
       " ('fra', \"Les moyens et les conditions du travail sont beaucoup mieux qu'ici\"),\n",
       " ('fra', \"Le nombre d'opportunités est grand.\"),\n",
       " ('fra', 'salaire plus motivante'),\n",
       " ('fra',\n",
       "  \"+- équivalent avec une léger avantage à l'Europe. En effet, en Tunisie des thématique riche à travailler le dans \"),\n",
       " ('fra', 'Conscience professionnelle'),\n",
       " ('fra', \"l'ingénieur est mieux à l'étranger qu'en Tunisie\"),\n",
       " ('fra',\n",
       "  \"Le secteur privé évolue lentement. Pour le secteur étatique, c'est scandaleux: pas de recherche, pas d'innovation, pas d'amélioration, une stagnation totale (sauf pour quelques cas). \"),\n",
       " ('fra',\n",
       "  \"Le salaire est plus élevé pour le même poste à l'étranger. Il y a plus de ponctualité et du travail sérieux surtout au secteur public à l'étranger.\"),\n",
       " ('fra', 'Adhésion au norme, perfection de travail, salaire adapté'),\n",
       " ('fra',\n",
       "  'A l’étranger, votre travail est valorisé et vous ressentez de la satisfaction'),\n",
       " ('fra',\n",
       "  \"À l'étranger on trouve plus de choix d'entreprises qui recrutent les ingénieurs, qui donnent valeur à leurs diplômes de grandes études. En conséquent l'ingénieur s'épanouit professionnellement et son rendement est plus important qu'en tunisie, qui offre pour un ingénieur qui a fait de grandes études des années d'attente et puis avec un peu de chance 500dt de salaire dans une entreprise qui les place en bas de l'échelle \"),\n",
       " ('fra',\n",
       "  \"les societes etrangers font beaucoup d'investissement au niveau humain et sur les competences personnelles. En Tunisie, il y a des societes que \"),\n",
       " ('fra',\n",
       "  'Respecter le cadre de travail, la ponctualité, le sérieux, le professionnalisme... '),\n",
       " ('fra',\n",
       "  'au secteur privé pas de difference presque. \\npour le secteur etatique, le profesionnalisme , le serieux, la volonté et surtout la motivation bien sur peut etre causé par le niveau de salaire et tout ...'),\n",
       " ('fra', \"Ailleurs, ils savent bien valoriser l'apport humain. \"),\n",
       " ('fra',\n",
       "  \"Meilleures opportunités de travail, meilleur salaire, plus d'appréciation aux initiatives des jeunes, un environnement de travail dynamique et sain, organisation administrative compacte...\"),\n",
       " ('fra', 'Opportunité de rebooster ta carière'),\n",
       " ('fra', 'la reconnaissance morale et rémunération par rapport votre effort'),\n",
       " ('fra', 'Respect au ingenieur '),\n",
       " ('fra', \"La valorisation du l'homme\"),\n",
       " ('fra', \"L'assiduité et la valeur du travail \"),\n",
       " ('fra', 'ponctualité et  discipline '),\n",
       " ('fra', \"On ne compare pas l'incomparable.\"),\n",
       " ('fra', 'pas une grande différence sauf au salaire haha'),\n",
       " ('fra',\n",
       "  \"L'étranger est plus professionnel en termes de plan de carrière, expérience, expertises techniques, encouragement à l'innovation\"),\n",
       " ('fra', 'Le sérieux, le professionnalisme '),\n",
       " ('fra', 'Facilités en terme de procédure'),\n",
       " ('fra', 'l’étranger donne une dimension internationale à votre carrière,'),\n",
       " ('fra', 'Salaires, environnement de travail..'),\n",
       " ('fra', 'les technologies utilisée et surtout les salaires '),\n",
       " ('fra',\n",
       "  'les différences majeures sont une bureaucratie archaïque et très souvent handicapante, la surexploitation vs un salaire qui subvient à peine aux besoins vitaux, un retard important au niveau de la digitalisation ... '),\n",
       " ('fra',\n",
       "  'La corruption existe partout mais malheureusement celle-ci domine dans notre pays... '),\n",
       " ('fra', 'Le professionnalisme'),\n",
       " ('fra', 'avancement rapide au niveau professionel'),\n",
       " ('fra', \"Plus d'opportunités à l'étranger\"),\n",
       " ('fra',\n",
       "  \"Généralement le travail à l'étranger est plus organisé, professionnel, sérieux et discipliné.\"),\n",
       " ('fra', \"environment de travail, le sérieux, l'humeur, le salaire\"),\n",
       " ('fra', 'Les opportunités'),\n",
       " ('fra', 'Je ne sais pas '),\n",
       " ('fra', 'salaire et environnement de travail'),\n",
       " ('fra', \"les relations entre l'employé et l'employeur\"),\n",
       " ('fra', 'le professionnalisme bien évidemment , la culture du travail '),\n",
       " ('fra', 'le coté formation des employés'),\n",
       " ('fra', 'Le salaire dépend des diplômes et des niveaux des salariées'),\n",
       " ('fra', 'le respect et le professionnalisme ainsi que les rémunérations'),\n",
       " ('fra', 'marché de travail '),\n",
       " ('fra', 'Le progrès scientifique'),\n",
       " ('fra', \"plus d'application, plus de possibilité à l'etranger\"),\n",
       " ('fra', 'professionnalisme respect et surtout salaire'),\n",
       " ('fra', 'En Tunisie on manque de professionnalisme au sein de nos sociétés.'),\n",
       " ('fra',\n",
       "  \"A l'étranger, il existe une meilleure valorisation des compétences.\"),\n",
       " ('fra',\n",
       "  'Notre travail est plus apprécié, la conscience des gens est plus forte, les conditions de travail sont moins sévères et bien sûre le salaire est plus motivant même si les coûts de vie à l’étranger sont plus cher '),\n",
       " ('fra', 'Ponctualité et conscience professionnelle '),\n",
       " ('fra',\n",
       "  \"En Tunisie, l'état détruit les industries manufacturières au profit des franchiseurs de marques étrangères. à l'étranger, les états soutiennent leurs industries manufacturières pour qu'ils se développent ailleurs.\"),\n",
       " ('fra',\n",
       "  'Respect et appréciation des efforts (moral et matériel), spécialité, organisation...   '),\n",
       " ('fra', 'Le respect des règlements et des institutions'),\n",
       " ('fra',\n",
       "  \"on trouve de bonnes conditions de travail à l'étranger  et même  des opportunités de recherche    \"),\n",
       " ('fra',\n",
       "  'Dans les sociétés publiques surtout il n’y a plus de professionnalisme '),\n",
       " ('fra',\n",
       "  \"à l'étranger je peux avoir un carrière professionnelle et je peux avancer \"),\n",
       " ('fra', 'T es payé pour ta compétence, les plafonds de salaire diffèrent '),\n",
       " ('fra',\n",
       "  \"À l'étanger, on est plus sérieux à délivrer son mieux et surtout ponctuel puisqu'on valorise le temps. Le Tunisien n'est pas très objectif et manque donc de professionalisme.\"),\n",
       " ('fra', 'En etranger on adorait le métier et on sacrifice pour le mériter'),\n",
       " ('fra', 'La sous-estimation du potentiel'),\n",
       " ('fra', \"technologie avancéée a l'etranger \"),\n",
       " ('fra', 'Meilleur niveau de vie '),\n",
       " ('fra',\n",
       "  \"À l'étranger, les expériences sont plus interessantes ainsi que les salaires\"),\n",
       " ('fra', 'Le sérieux et le professionnalisme'),\n",
       " ('fra', 'moins de chômage à l’étranger   '),\n",
       " ('fra',\n",
       "  'L’intégrité est quasi inexistante en Tunisie dans la plus part des domaines '),\n",
       " ('fra',\n",
       "  \"Ponctualité , respect , la valorisation de l'intervention des femmes...+ d'opportunité de travail ..+salaire ..conditions de travail qui ne refletent que la motivation .. La surveillance ..le contrôle ..ce qui engendre le sérieux l'assiduité ...\"),\n",
       " ('fra',\n",
       "  \"à l'étranger on peux avancer et  acquérir des nouvelles connaissances et on peux être à jour avec les nouvelles technologies \"),\n",
       " ('fra',\n",
       "  \"A l'étranger ,plus de professionnalisme et plus de respect des droits des employés.\"),\n",
       " ('fra', 'de loin '),\n",
       " ('fra', 'a l’Étranger le coté professionnel des choses est bien respecté '),\n",
       " ('fra', 'Sérieux'),\n",
       " ('fra', \"Plus d'opportunités à l'étranger\"),\n",
       " ('fra',\n",
       "  \"Le domaine de biologie marine, ressources halieutiques et environnement que j'étudie maintenant est plus valorisé et respectueux à l'étranger. \"),\n",
       " ('fra', 'Respect\\nLes droits \\nSalaire\\nAmbition\\nEncouragement'),\n",
       " ('fra', \"salaires\\nrespect\\ndroits\\nencouragement\\npas d'exploitation\"),\n",
       " ('fra', 'La méritocratie'),\n",
       " ('fra', \"A l'étranger ils payent plus et ils sont plus sérieux au travail.\"),\n",
       " ('fra', 'Les moyens financiers investis.'),\n",
       " ('fra', 'Respect, travail de groupe..'),\n",
       " ('fra', \"à l'étranger: environnement de travail motivant\"),\n",
       " ('fra', \"L'étranger est plus travailleux\"),\n",
       " ('fra',\n",
       "  \"à l'étranger les employeurs sont payés selon la valeur ajouté qu'il fournissent à l'entreprise contrairement qu'on Tunisie les salaires sont beaucoup sous estimés  \"),\n",
       " ('fra', 'expérience et expertise '),\n",
       " ('fra',\n",
       "  \"Les tunisiens ne sont pas sérieux et n'ont réellement pas d'ambitions, ils veulent vivre au jour le jour.\"),\n",
       " ('fra', 'Les métiers en étranger sont plus valorisés'),\n",
       " ('fra', 'On parle de différence quand il y a aussi des points communs '),\n",
       " ('fra', 'Les salaires et le passion au cours de travail '),\n",
       " ('fra',\n",
       "  \"Tout, tout est meilleur à l'étrangé -point de vue professionnel-, les salaire, la reconnaissance, les oppertunistés, les droits... TOUT\"),\n",
       " ('fra', 'La rigueur'),\n",
       " ('fra', 'Les valeurs du travail'),\n",
       " ('fra', 'Plus professionnel'),\n",
       " ('fra',\n",
       "  \"Valeurs présentes à l'étranger mais non pas en Tunisie :\\nValorisation du travail\\nInnovation et développement\\nEnvironnement professionnel propice au développement personnel \"),\n",
       " ('fra', 'professionnalisme, application et discipline '),\n",
       " ('fra', 'Plus d’opportunies'),\n",
       " ('fra', \"L'effort fourni au travail \"),\n",
       " ('fra',\n",
       "  \"on ne peut pas nier que la Tunisie est entrain de se développer rapidement ! mais on est encore loin d'être en concurrence ou coopération avec les pays développées disant la chine, l’Allemagne et japan \"),\n",
       " ('fra',\n",
       "  \"Les equipements, l'encouragement de la recherche scientifique, les systemes de management \"),\n",
       " ('fra',\n",
       "  'Vous etes concideré comme un ingénieur votre vraie valeur. Ici on vous recrute pour des taches de technicien et on vous demande de tout faire avec un salaire tres bas. On ne travaille jamais comme un ingénieur doit travailler. Aucune créativité et aucun effort, on applique c’est tout!'),\n",
       " ('fra', 'Rémunération!!!'),\n",
       " ('fra', 'Le professionnalisme , leur temps est dédié au travail concret '),\n",
       " ('fra',\n",
       "  \"Les compétences Tunisiennes ne manquent pas, mais ce sont les moyens qui sont absents et le manque de volonté de changement par rapport à l'étranger sur le plan professionnel. Aussi il manque un peu de sérieux dans l'exécution du travail dans le secteur public, qui est favorisé dans le secteur privé. \"),\n",
       " ('fra', \"L'expérience et la salaire el l'environnement de travail \"),\n",
       " ('fra',\n",
       "  \"Ce point là est un peu nuancé. Comparer les 2 au niveau professionnel serait difficie car les 2 peuvent nous apporter des opportunités professionnelles, comme on peut trouver des sociétés/startups au sein desquels on se sent mal à l'aise, maltraités, ou abusé. \"),\n",
       " ('fra', 'Beaucoup plus de qualité a  l etranger'),\n",
       " ('fra', \"être plus respecté et plus valorisé à l'étranger\"),\n",
       " ('fra', 'Je ne sais pas jai pas encore intégré le milieu professionnel'),\n",
       " ('fra', \"niveau d'études , technologies .\"),\n",
       " ('fra',\n",
       "  'Une plus grande motivation au sein des entreprises etrangeres, un encadrement de meilleure qualite, une insertion professionnelle et un suivi constant, un partage des informations facilite pour le bien de la science, une rigueur de travail, une ponctualite...'),\n",
       " ('fra', 'Les salaires '),\n",
       " ('fra',\n",
       "  'La recherche ,les investissements,la motivation ,le travail dure et bien-sûr le respect professionnel '),\n",
       " ('fra', 'Pas de différence'),\n",
       " ('fra', 'les conditions du travail'),\n",
       " ('fra',\n",
       "  \"La Tunisie est le pays du chômage surtout dans les domaines de la Biologie et la chimie, contrairement à l'étranger. A l'étranger on peut faire de la recherche dans des labos bien équipés, en Tunisie une thèse durera même 6 ou 7 ans faute de matériel. \"),\n",
       " ('fra', 'Valorisation des compétences'),\n",
       " ('fra', 'Les conditions favorables sont disponibles à l’étranger '),\n",
       " ('fra', 'étiques de travail et organisation'),\n",
       " ('fra',\n",
       "  'En tunisie on donne pas confiance aux gens, on prend pas des risques'),\n",
       " ('fra',\n",
       "  \"À l'étranger il y a plus d'opportunités dans le domaine des nouvelles technologies et un ingénieur débutant est bien mieux payé\"),\n",
       " ('fra',\n",
       "  \"Les postes proposés sur le marché d'emploi et l'évolution dans la carrière professionnelle\"),\n",
       " ('fra', 'Relation entre les différents supérieur hiérarchique et esprit\\n'),\n",
       " ('fra', 'Le salaire et les conditions du travail'),\n",
       " ('fra',\n",
       "  \"respet des employés, l'existance des vrais projets motivants, salaire bien sur\"),\n",
       " ('fra', 'Nouvelles technologies, salaires, opportunités de recherche'),\n",
       " ('fra', 'Le respect '),\n",
       " ('fra',\n",
       "  'Les conditions de travail, les salaires et les opportunités/perspectives professionnels'),\n",
       " ('fra', 'Meilleures opportunités du travail'),\n",
       " ('fra',\n",
       "  \"L'organisation, le professionnalisme, le respect, la motivation... \"),\n",
       " ('fra', \"plus d'opportunité \"),\n",
       " ('fra', 'Développement technologique'),\n",
       " ('fra', 'Le professionnalisme '),\n",
       " ('fra',\n",
       "  \"Tout depend du pays a l'etranger !! Il faut preciser le pays ou au moins la zone geographique. \"),\n",
       " ('fra',\n",
       "  'Un marché du travail plus dynamique et technologiquement avancé et donc avec des carrières introuvable en Tunisie'),\n",
       " ('fra', 'les compétences'),\n",
       " ('fra', 'Reconaissance et paiement'),\n",
       " ('fra',\n",
       "  'travailler sur des projets plus vastes et des sujets plus développés, des conditions de travail spéciales\\n'),\n",
       " ('fra', 'En Tunisie on est fainéant.'),\n",
       " ('fra', 'création de liens sociaux'),\n",
       " ('fra',\n",
       "  'la façon avec laquelle on gère les choses / le concept de professionnalisme /'),\n",
       " ('fra',\n",
       "  \"à l'étranger il y a embauchement et paiment respectueux donc c'est plus comfortable de travailler dehors de tunisie car il en a plus de chomage ice et même les salaires sont limités\"),\n",
       " ('fra',\n",
       "  'le seul capital qui nous reste , ces nos compétences en ingénierie et en  médecine, et en recherche scientifique ( avec tout mon respect pour les autres secteurs)'),\n",
       " ('fra', 'Aucune idée'),\n",
       " ('fra', 'le professionnalisme '),\n",
       " ('fra', \"c'est très horizontal, il n'y a pas trop de hiérarchie\"),\n",
       " ('fra',\n",
       "  \"a l'etranger, Ils sont ponctuelles  et ils encouragent et motivent les autres\"),\n",
       " ('fra', \"Ils ont la possibilité d'innover sans avoir la censure de l'état.\"),\n",
       " ('fra', 'les étrangers sont plus professionnels '),\n",
       " ('fra', \"La culture est plus développée à l'étranger qu'en Tunisie\"),\n",
       " ('fra', 'Les compétences techniques , le niveau de vie..'),\n",
       " ('fra',\n",
       "  \"C'est la qualité d'études reçues qui fait la différence au point de vue professionnelle après. Donc à l'étranger, ils ont une certaine avance par rapport à nous vue les excellents études reçues généralement.\"),\n",
       " ('fra',\n",
       "  \"En Tunisie on travaille pour avoir un bénéfice personnel on ne cherche pas a développé notre pays par contre à l'étranger c'est le contraire\"),\n",
       " ('fra',\n",
       "  \"Je pense qu'à l'étranger les salariés sont plus sérieux au travail et rigoureux. Et les employeurs apprécient et valorisent convenablement le travail de leurs employés.\"),\n",
       " ('fra', 'Je sais pas'),\n",
       " ('fra', 'Plus des offres de travail à l’étranger Dans divers domaines '),\n",
       " ('fra', 'la rentabilité '),\n",
       " ('fra', 'Le salaire \\nLa motivation\\nLa sérieusité'),\n",
       " ('fra',\n",
       "  \"l'indicateur de la productivité, qui est quasiment absent en Tunisie\"),\n",
       " ('fra', 'je ne sais pas'),\n",
       " ('fra', 'Les opportunités'),\n",
       " ('fra', \"L'apprentissage actif et permanent\"),\n",
       " ('fra',\n",
       "  'Croissance de buisness beacoup plus limitée et plus lente en Tunisie'),\n",
       " ('fra', 'plus organisé '),\n",
       " ('fra', 'Reconnaissance et récompense '),\n",
       " ('fra',\n",
       "  'l’économie de pays , environnement de travail ,  horaire de travail , les compétences '),\n",
       " ('fra', \"Manque de respect, absence d'encouragements en Tunisie\"),\n",
       " ('fra', 'Champs plus large '),\n",
       " ('fra',\n",
       "  \"A l'étranger mes gens respectent le temps et volorisent l'être humain beaucoup plus que la tunisie\"),\n",
       " ('fra',\n",
       "  'Les offres d’emploi, le salaire, les conditions de travail y compris le respect mutuel entre le patron et les employés, les heures de travail et la qualité et la qualité de ce travail également.'),\n",
       " ('fra', \"Accés à l'information;salaire; encouragement...\"),\n",
       " ('fra', 'Le salaire, les conditions de travail'),\n",
       " ('fra', 'Les règles aussi'),\n",
       " ('fra', 'Plus professionnel ponctuel organisé respectueux '),\n",
       " ('fra', 'Même chose que la question precedente...'),\n",
       " ('fra',\n",
       "  'Évolution dans la carrière très compliquée, une grande interférence entre les relations personnelles et professionnelles et manque de reconnaissance des efforts réalisés (on dit jamais merci pour votre effort)'),\n",
       " ('fra',\n",
       "  \"L'existence des lois bien structurés et un volontés de l'état à investir dans la nouvelle tech et dans l’éducation.\"),\n",
       " ('fra', \"moins de matériels,moins d'opportunité de recherche\"),\n",
       " ('fra', \"On n'a pas de professionnalisme en tunisie xD\"),\n",
       " ('fra',\n",
       "  \"Il' y a une grande différence à l'étranger on peut travailler dans les grandes entreprises et être dans la pointe du prgrès scientifique.\"),\n",
       " ('fra',\n",
       "  \"L'écosystème est bien plus développé à l'étranger. Les opportunités sont plus nombreuses et la concurrence est plus rude. Plus de concurrence, donc plus d'implication dans le travail. En revanche en Tunisie, le territoire est encore vierge donc il peut être plus facile d'avoir de l'impact (et ne pas se faire manger par les grands). \"),\n",
       " ('fra',\n",
       "  \"Dans l'étranger les gens sont plus professionnels, un rendement plus effectif,  et avec plus d'honnêteté\"),\n",
       " ('fra', 'Environnement de travaille '),\n",
       " ('fra', 'La qualite du travail'),\n",
       " ('fra', \"Le professionnalisme et l'engagement \"),\n",
       " ('fra', \"Le nombre d'opprtunités\"),\n",
       " ('fra', 'le professionnalisme'),\n",
       " ('fra', 'Respect et qualité '),\n",
       " ('fra',\n",
       "  'Les tunisiens travail juste pour gangné l argent n est pas pour le pays'),\n",
       " ('fra', 'Le respect'),\n",
       " ('fra', \"De meilleurs opportunités et surtout le respect de l'employé\"),\n",
       " ('fra',\n",
       "  'Tout dépend de ce que l\\'on veut dire par \"à l’étranger\". la question est trop vague.')]"
      ]
     },
     "execution_count": 330,
     "metadata": {},
     "output_type": "execute_result"
    }
   ],
   "source": [
    "[(res[i],doc) for i,doc in enumerate(Q6_corpus) if res[i] == 'fra']"
   ]
  },
  {
   "cell_type": "code",
   "execution_count": 331,
   "metadata": {},
   "outputs": [],
   "source": [
    "# a quick heuristic method for removing non-French documents from corpus\n",
    "Q6_corpus_fr = [doc for i,doc in enumerate(Q6_corpus) if res[i] != 'eng']"
   ]
  },
  {
   "cell_type": "code",
   "execution_count": 332,
   "metadata": {},
   "outputs": [
    {
     "data": {
      "text/plain": [
       "[False, True, True, True, True]"
      ]
     },
     "execution_count": 332,
     "metadata": {},
     "output_type": "execute_result"
    }
   ],
   "source": [
    "doc_filter_1 = [res[i] != 'eng' for i,doc in enumerate(Q6_corpus)]\n",
    "assert(np.sum(doc_filter_1) == len(Q6_corpus_fr))\n",
    "doc_filter_1[0:5]"
   ]
  },
  {
   "cell_type": "markdown",
   "metadata": {},
   "source": [
    "### Remove non-word characters + Convert to lowercase + Tokenize"
   ]
  },
  {
   "cell_type": "code",
   "execution_count": 333,
   "metadata": {},
   "outputs": [],
   "source": [
    "# This tokenization method throws away all non-word characters (word characters = letters, digits, _ )\n",
    "from nltk.tokenize import RegexpTokenizer\n",
    "tokenizer = RegexpTokenizer('[^_\\W]+')"
   ]
  },
  {
   "cell_type": "code",
   "execution_count": 334,
   "metadata": {},
   "outputs": [],
   "source": [
    "Q6_corpus_fr_words = [tokenizer.tokenize(doc.lower()) for doc in Q6_corpus_fr]"
   ]
  },
  {
   "cell_type": "markdown",
   "metadata": {},
   "source": [
    "### Remove stopwords\n",
    "We will use NLTK's default list of stop worsd for the French language."
   ]
  },
  {
   "cell_type": "code",
   "execution_count": 335,
   "metadata": {},
   "outputs": [
    {
     "name": "stderr",
     "output_type": "stream",
     "text": [
      "[nltk_data] Downloading package stopwords to\n",
      "[nltk_data]     C:\\Users\\alaa\\AppData\\Roaming\\nltk_data...\n",
      "[nltk_data]   Package stopwords is already up-to-date!\n"
     ]
    },
    {
     "data": {
      "text/plain": [
       "True"
      ]
     },
     "execution_count": 335,
     "metadata": {},
     "output_type": "execute_result"
    }
   ],
   "source": [
    "from nltk.corpus import stopwords\n",
    "import nltk\n",
    "nltk.download('stopwords')"
   ]
  },
  {
   "cell_type": "code",
   "execution_count": 336,
   "metadata": {},
   "outputs": [],
   "source": [
    "stop_words_fr = stopwords.words('french')"
   ]
  },
  {
   "cell_type": "code",
   "execution_count": 337,
   "metadata": {
    "scrolled": true
   },
   "outputs": [
    {
     "name": "stdout",
     "output_type": "stream",
     "text": [
      "287\n"
     ]
    }
   ],
   "source": [
    "newStopWords = ['les','alors','alors' ,'au', 'aucuns' ,'aussi', 'autre', 'avant', 'avec', 'avoir', 'bon', 'car', 'ce', 'cela',\n",
    "                'ces', 'ceux', 'chaque', 'ci', 'comme','comment' ,'dans', 'des', 'du' ,'dedans', 'dehors','depuis', 'devrait', \n",
    "                'doit', 'donc', 'dos', 'début', 'elle','elles', 'en' ,'encore' ,'essai', 'est','et' ,'eu', 'fait', 'faites', \n",
    "                'fois', 'font', 'hors', 'ici', 'il', 'ils', 'je','juste' ,'la', 'le', 'les', 'leur', 'là', 'ma', 'maintenant',\n",
    "                'mais', 'mes', 'mine' ,'moins' ,'mon' ,'mot' ,'même', 'ni', 'nommés', 'notre', 'nous', 'ou', 'où', 'par',\n",
    "                'parce', 'pas', 'peut' ,'peu', 'plupart', 'pour','pays', 'pourquoi', 'quand' ,'que', 'quel', 'quelle' ,'quelles' ,\n",
    "                'quels', 'qui' ,'sa', 'sans' ,'ses', 'seulement', 'si', 'sien', 'son', 'sont', 'sous' ,'soyez', 'sujet',\n",
    "                'sur', 'ta', 'tandis' ,'tellement', 'tels', 'tes' ,'ton' ,'tous', 'tout', 'trop', 'très' ,'tu', 'voient',\n",
    "                'vont', 'votre', 'vous', 'vu', 'ça', 'étaient','état', 'étions', 'été', 'être','a','tunisie', 'tunisia',\n",
    "                'tunis', 'bien', 'mieux', 'sais', 'leurs','certain','plus','ainsi','tunisiens',\"professionnel\"]\n",
    "\n",
    "stop_words_fr.extend(newStopWords)\n",
    "\n",
    "print(len(stop_words_fr))"
   ]
  },
  {
   "cell_type": "code",
   "execution_count": 338,
   "metadata": {},
   "outputs": [
    {
     "name": "stdout",
     "output_type": "stream",
     "text": [
      "['au', 'aux', 'avec', 'ce', 'ces', 'dans', 'de', 'des', 'du', 'elle', 'en', 'et', 'eux', 'il', 'je', 'la', 'le', 'leur', 'lui', 'ma', 'mais', 'me', 'même', 'mes', 'moi', 'mon', 'ne', 'nos', 'notre', 'nous', 'on', 'ou', 'par', 'pas', 'pour', 'qu', 'que', 'qui', 'sa', 'se', 'ses', 'son', 'sur', 'ta', 'te', 'tes', 'toi', 'ton', 'tu', 'un', 'une', 'vos', 'votre', 'vous', 'c', 'd', 'j', 'l', 'à', 'm', 'n', 's', 't', 'y', 'été', 'étée', 'étées', 'étés', 'étant', 'étante', 'étants', 'étantes', 'suis', 'es', 'est', 'sommes', 'êtes', 'sont', 'serai', 'seras', 'sera', 'serons', 'serez', 'seront', 'serais', 'serait', 'serions', 'seriez', 'seraient', 'étais', 'était', 'étions', 'étiez', 'étaient', 'fus', 'fut', 'fûmes', 'fûtes', 'furent', 'sois', 'soit', 'soyons', 'soyez', 'soient', 'fusse', 'fusses', 'fût', 'fussions', 'fussiez', 'fussent', 'ayant', 'ayante', 'ayantes', 'ayants', 'eu', 'eue', 'eues', 'eus', 'ai', 'as', 'avons', 'avez', 'ont', 'aurai', 'auras', 'aura', 'aurons', 'aurez', 'auront', 'aurais', 'aurait', 'aurions', 'auriez', 'auraient', 'avais', 'avait', 'avions', 'aviez', 'avaient', 'eut', 'eûmes', 'eûtes', 'eurent', 'aie', 'aies', 'ait', 'ayons', 'ayez', 'aient', 'eusse', 'eusses', 'eût', 'eussions', 'eussiez', 'eussent', 'les', 'alors', 'alors', 'au', 'aucuns', 'aussi', 'autre', 'avant', 'avec', 'avoir', 'bon', 'car', 'ce', 'cela', 'ces', 'ceux', 'chaque', 'ci', 'comme', 'comment', 'dans', 'des', 'du', 'dedans', 'dehors', 'depuis', 'devrait', 'doit', 'donc', 'dos', 'début', 'elle', 'elles', 'en', 'encore', 'essai', 'est', 'et', 'eu', 'fait', 'faites', 'fois', 'font', 'hors', 'ici', 'il', 'ils', 'je', 'juste', 'la', 'le', 'les', 'leur', 'là', 'ma', 'maintenant', 'mais', 'mes', 'mine', 'moins', 'mon', 'mot', 'même', 'ni', 'nommés', 'notre', 'nous', 'ou', 'où', 'par', 'parce', 'pas', 'peut', 'peu', 'plupart', 'pour', 'pays', 'pourquoi', 'quand', 'que', 'quel', 'quelle', 'quelles', 'quels', 'qui', 'sa', 'sans', 'ses', 'seulement', 'si', 'sien', 'son', 'sont', 'sous', 'soyez', 'sujet', 'sur', 'ta', 'tandis', 'tellement', 'tels', 'tes', 'ton', 'tous', 'tout', 'trop', 'très', 'tu', 'voient', 'vont', 'votre', 'vous', 'vu', 'ça', 'étaient', 'état', 'étions', 'été', 'être', 'a', 'tunisie', 'tunisia', 'tunis', 'bien', 'mieux', 'sais', 'leurs', 'certain', 'plus', 'ainsi', 'tunisiens', 'professionnel']\n"
     ]
    }
   ],
   "source": [
    "print(stop_words_fr)"
   ]
  },
  {
   "cell_type": "code",
   "execution_count": 339,
   "metadata": {},
   "outputs": [],
   "source": [
    "Q6_corpus_fr_words_2 = [[word for word in doc  if word not in stop_words_fr] for doc in Q6_corpus_fr_words]"
   ]
  },
  {
   "cell_type": "code",
   "execution_count": 340,
   "metadata": {},
   "outputs": [
    {
     "data": {
      "text/plain": [
       "['perspectives', 'évolution']"
      ]
     },
     "execution_count": 340,
     "metadata": {},
     "output_type": "execute_result"
    }
   ],
   "source": [
    "Q6_corpus_fr_words_2[0]  # the first document in the new corpus"
   ]
  },
  {
   "cell_type": "markdown",
   "metadata": {},
   "source": [
    "### Visualize distribution of word lengths\n",
    "This is useful for getting ideas about stemming approach (in the next step) ..."
   ]
  },
  {
   "cell_type": "code",
   "execution_count": 341,
   "metadata": {},
   "outputs": [
    {
     "data": {
      "text/plain": [
       "(set, 722)"
      ]
     },
     "execution_count": 341,
     "metadata": {},
     "output_type": "execute_result"
    }
   ],
   "source": [
    "# create list of all words in corpus\n",
    "words = {word for doc in Q6_corpus_fr_words_2 for word in doc}\n",
    "type(words),len(words)"
   ]
  },
  {
   "cell_type": "code",
   "execution_count": 342,
   "metadata": {},
   "outputs": [],
   "source": [
    "S = pd.Series([len(word) for word in words])"
   ]
  },
  {
   "cell_type": "code",
   "execution_count": 343,
   "metadata": {},
   "outputs": [
    {
     "data": {
      "text/plain": [
       "count    722.000000\n",
       "mean       7.493075\n",
       "std        2.902595\n",
       "min        1.000000\n",
       "25%        5.000000\n",
       "50%        7.000000\n",
       "75%        9.000000\n",
       "max       19.000000\n",
       "dtype: float64"
      ]
     },
     "execution_count": 343,
     "metadata": {},
     "output_type": "execute_result"
    }
   ],
   "source": [
    "S.describe()"
   ]
  },
  {
   "cell_type": "code",
   "execution_count": 344,
   "metadata": {},
   "outputs": [
    {
     "data": {
      "image/png": "[encoded data removed]",
      "text/plain": [
       "<matplotlib.figure.Figure at 0x2690cf82588>"
      ]
     },
     "metadata": {},
     "output_type": "display_data"
    }
   ],
   "source": [
    "fig = S.plot(kind='hist', title=\"word length\")"
   ]
  },
  {
   "cell_type": "code",
   "execution_count": 345,
   "metadata": {},
   "outputs": [
    {
     "data": {
      "text/plain": [
       "['vs',\n",
       " 'to',\n",
       " '7',\n",
       " 'fi',\n",
       " 'up',\n",
       " 'من',\n",
       " 'و',\n",
       " 'of',\n",
       " 'ti',\n",
       " 'w',\n",
       " '0',\n",
       " 'f',\n",
       " 'el',\n",
       " 'so',\n",
       " 'm1',\n",
       " '2',\n",
       " 'we',\n",
       " 'xd',\n",
       " '6',\n",
       " 'in']"
      ]
     },
     "execution_count": 345,
     "metadata": {},
     "output_type": "execute_result"
    }
   ],
   "source": [
    "# which words have length <= 2\n",
    "[word for word in words if len(word)<=2]"
   ]
  },
  {
   "cell_type": "code",
   "execution_count": 346,
   "metadata": {},
   "outputs": [
    {
     "data": {
      "text/plain": [
       "['nombreuses',\n",
       " 'possibilité',\n",
       " 'créativité',\n",
       " 'professionnellement',\n",
       " 'employeurs',\n",
       " 'disponibles',\n",
       " 'embauchement',\n",
       " 'ingénieurs',\n",
       " 'horizontal',\n",
       " 'compétences',\n",
       " 'respectueux',\n",
       " 'experience',\n",
       " 'correspond',\n",
       " 'competences',\n",
       " 'opportunités',\n",
       " 'technicien',\n",
       " 'valorisent',\n",
       " 'technologiquement',\n",
       " 'specialement',\n",
       " 'discipliné',\n",
       " 'travailleux',\n",
       " 'exploitation',\n",
       " 'maltraités',\n",
       " 'amélioration',\n",
       " 'concernant',\n",
       " 'contrairement',\n",
       " 'etrangeres',\n",
       " 'equipements',\n",
       " 'institutions',\n",
       " 'reconaissance',\n",
       " 'croissance',\n",
       " 'ingénierie',\n",
       " 'motivation',\n",
       " 'environment',\n",
       " 'investissements',\n",
       " 'internationale',\n",
       " 'territoire',\n",
       " 'instabilite',\n",
       " 'apprécient',\n",
       " 'profesionnalisme',\n",
       " 'bureaucratie',\n",
       " 'introuvable',\n",
       " 'conséquent',\n",
       " 'compliquée',\n",
       " 'management',\n",
       " 'technologique',\n",
       " 'meilleures',\n",
       " 'perfection',\n",
       " 'enseignement',\n",
       " 'conscience',\n",
       " 'coopération',\n",
       " 'corruption',\n",
       " 'challenging',\n",
       " 'professionnels',\n",
       " 'fournissent',\n",
       " 'rémunération',\n",
       " 'conditions',\n",
       " 'oppertunistés',\n",
       " 'respectent',\n",
       " 'ingnieurie',\n",
       " 'ponctualite',\n",
       " 'administrative',\n",
       " 'encouragement',\n",
       " 'commitment',\n",
       " 'stagnation',\n",
       " 'scandaleux',\n",
       " 'développer',\n",
       " 'ponctualité',\n",
       " 'structurés',\n",
       " 'opprtunités',\n",
       " 'incomparable',\n",
       " 'expertises',\n",
       " 'différence',\n",
       " 'productivité',\n",
       " 'valorisation',\n",
       " 'règlements',\n",
       " 'développés',\n",
       " 'développement',\n",
       " 'écosystème',\n",
       " 'organisation',\n",
       " 'convenablement',\n",
       " 'surexploitation',\n",
       " 'opportunies',\n",
       " 'estimation',\n",
       " 'développées',\n",
       " 'financiers',\n",
       " 'expériences',\n",
       " 'population',\n",
       " 'technologies',\n",
       " 'différences',\n",
       " 'soutiennent',\n",
       " 'hiérarchique',\n",
       " 'humanitaires',\n",
       " 'informations',\n",
       " 'avancement',\n",
       " 'généralement',\n",
       " 'travailler',\n",
       " 'développée',\n",
       " 'méritocratie',\n",
       " 'encadrement',\n",
       " 'satisfaction',\n",
       " 'inexistante',\n",
       " 'comfortable',\n",
       " 'réellement',\n",
       " 'application',\n",
       " 'ponctuelles',\n",
       " 'difficulte',\n",
       " 'geographique',\n",
       " 'difference',\n",
       " 'reconnaissance',\n",
       " 'interessantes',\n",
       " 'entreprise',\n",
       " 'spécialité',\n",
       " 'différents',\n",
       " 'entreprises',\n",
       " 'manufacturières',\n",
       " 'ressources',\n",
       " 'évidemment',\n",
       " 'engagement',\n",
       " 'digitalisation',\n",
       " 'encouragent',\n",
       " 'expérience',\n",
       " 'interférence',\n",
       " 'connaissances',\n",
       " 'intervention',\n",
       " 'industries',\n",
       " 'développent',\n",
       " 'rapidement',\n",
       " 'perspectives',\n",
       " 'franchiseurs',\n",
       " 'halieutiques',\n",
       " 'facilement',\n",
       " 'thématique',\n",
       " 'appréciation',\n",
       " 'innovation',\n",
       " 'apprentissage',\n",
       " 'hiérarchie',\n",
       " 'inspecification',\n",
       " 'professionnelles',\n",
       " 'tunisiennes',\n",
       " 'équivalent',\n",
       " 'sérieusité',\n",
       " 'reconnaissant',\n",
       " 'personnelles',\n",
       " 'encouragements',\n",
       " 'favorables',\n",
       " 'professionalisme',\n",
       " 'compliquee',\n",
       " 'concurrence',\n",
       " 'compétence',\n",
       " 'excellents',\n",
       " 'récompense',\n",
       " 'scientifique',\n",
       " 'opportunité',\n",
       " 'environnement',\n",
       " 'initiatives',\n",
       " 'handicapante',\n",
       " 'incomparables',\n",
       " 'discipline',\n",
       " 'surveillance',\n",
       " 'rémunérations',\n",
       " 'investissement',\n",
       " 'professionel',\n",
       " 'étrangères',\n",
       " 'professionnelle',\n",
       " 'information',\n",
       " 'dtermination',\n",
       " 'precedente',\n",
       " 'changement',\n",
       " 'rentabilité',\n",
       " 'technologie',\n",
       " 'malheureusement',\n",
       " 'techniques',\n",
       " 'implication',\n",
       " 'implantation',\n",
       " 'indicateur',\n",
       " 'volorisent',\n",
       " 'professionnalisme']"
      ]
     },
     "execution_count": 346,
     "metadata": {},
     "output_type": "execute_result"
    }
   ],
   "source": [
    "# words that contain more than 10 charcters\n",
    "[word for word in words if len(word)>=10]"
   ]
  },
  {
   "cell_type": "markdown",
   "metadata": {},
   "source": [
    "### Word normalization\n",
    "- All stemming methods are heuristic; there is no best method.\n",
    "- I will try two different methods: snowball method and my own quick method (see details below)."
   ]
  },
  {
   "cell_type": "code",
   "execution_count": 347,
   "metadata": {},
   "outputs": [],
   "source": [
    "from nltk.stem.snowball import PorterStemmer"
   ]
  },
  {
   "cell_type": "code",
   "execution_count": 348,
   "metadata": {},
   "outputs": [],
   "source": [
    "# Stemming method 1: Snowball method from NLTK\n",
    "stemmer = PorterStemmer()\n",
    "Q6_corpus_fr_words_3_1 = [[stemmer.stem(word) for word in doc] for doc in Q6_corpus_fr_words_2]"
   ]
  },
  {
   "cell_type": "code",
   "execution_count": 349,
   "metadata": {},
   "outputs": [],
   "source": [
    "temp = [[word[0:len(word)-1] if (len(word)>=7 and word.endswith('s')) else word for word in doc] for doc in Q6_corpus_fr_words_2]\n",
    "\n",
    "Q6_corpus_fr_words_3_2 = [[word[0:10] for word in doc] for doc in temp]"
   ]
  },
  {
   "cell_type": "code",
   "execution_count": 350,
   "metadata": {},
   "outputs": [
    {
     "data": {
      "text/plain": [
       "[['perspectives', 'évolution'],\n",
       " ['respect'],\n",
       " ['assiduité'],\n",
       " ['travail', 'complexe', 'certains', 'domaines', 'étranger', 'finance'],\n",
       " ['marchés', 'assez', 'grands', 'étranger']]"
      ]
     },
     "execution_count": 350,
     "metadata": {},
     "output_type": "execute_result"
    }
   ],
   "source": [
    "Q6_corpus_fr_words_2[0:5]"
   ]
  },
  {
   "cell_type": "code",
   "execution_count": 351,
   "metadata": {},
   "outputs": [
    {
     "data": {
      "text/plain": [
       "[['perspect', 'évolut'],\n",
       " ['respect'],\n",
       " ['assiduité'],\n",
       " ['travail', 'complex', 'certain', 'domain', 'étranger', 'financ'],\n",
       " ['marché', 'assez', 'grand', 'étranger']]"
      ]
     },
     "execution_count": 351,
     "metadata": {},
     "output_type": "execute_result"
    }
   ],
   "source": [
    "Q6_corpus_fr_words_3_1[0:5]"
   ]
  },
  {
   "cell_type": "code",
   "execution_count": 352,
   "metadata": {},
   "outputs": [
    {
     "data": {
      "text/plain": [
       "[['perspectiv', 'évolution'],\n",
       " ['respect'],\n",
       " ['assiduité'],\n",
       " ['travail', 'complexe', 'certain', 'domaine', 'étranger', 'finance'],\n",
       " ['marché', 'assez', 'grands', 'étranger'],\n",
       " ['difficulte',\n",
       "  'inspecific',\n",
       "  'retard',\n",
       "  'domaine',\n",
       "  'instabilit',\n",
       "  'devise',\n",
       "  'compliquee'],\n",
       " ['salaire', 'condition', 'humanitair'],\n",
       " ['carrière'],\n",
       " ['مافماش',\n",
       "  'تكمبين',\n",
       "  'و',\n",
       "  'قفة',\n",
       "  'و',\n",
       "  'طلوع',\n",
       "  'على',\n",
       "  'ضهر',\n",
       "  'غيرو',\n",
       "  'و',\n",
       "  'قلة',\n",
       "  'احترام',\n",
       "  'مابين',\n",
       "  'بعضنا',\n",
       "  'ترجمة',\n",
       "  'غير',\n",
       "  'متوفرة',\n",
       "  'بلغة',\n",
       "  'أخرى',\n",
       "  'لأنها',\n",
       "  'من',\n",
       "  'صنع',\n",
       "  'العرب',\n",
       "  'فقط'],\n",
       " ['sécurité', 'employé', 'motivation', 'expérience', 'formation'],\n",
       " ['point',\n",
       "  'vue',\n",
       "  'études',\n",
       "  'écoles',\n",
       "  'apprend',\n",
       "  'grande',\n",
       "  'chose',\n",
       "  'étranger',\n",
       "  'bonne',\n",
       "  'éducation',\n",
       "  'offerte',\n",
       "  'point',\n",
       "  'vue',\n",
       "  'travail',\n",
       "  'étranger',\n",
       "  'gens',\n",
       "  'respectent',\n",
       "  'sens',\n",
       "  'travail',\n",
       "  'horaire',\n",
       "  'etc',\n",
       "  'étranger',\n",
       "  'facilement',\n",
       "  'trouver',\n",
       "  'emploi',\n",
       "  'correspond',\n",
       "  'diplôme',\n",
       "  'études',\n",
       "  'obtenu',\n",
       "  'travailler',\n",
       "  'partout',\n",
       "  'perdre',\n",
       "  'respect',\n",
       "  'différence',\n",
       "  'entre',\n",
       "  'employeur',\n",
       "  'emlpoyé',\n",
       "  'entre',\n",
       "  'dirigeant',\n",
       "  'ouvrier',\n",
       "  'chacun',\n",
       "  'respecté',\n",
       "  'monde'],\n",
       " ['moyens',\n",
       "  'enseigneme',\n",
       "  'industrie',\n",
       "  'étranger',\n",
       "  'beaucoup',\n",
       "  'élaboré',\n",
       "  'avancé',\n",
       "  'diversité',\n",
       "  'choix',\n",
       "  'parcour',\n",
       "  'diversité',\n",
       "  'implantati',\n",
       "  'entreprise',\n",
       "  'intégrer'],\n",
       " ['étranger',\n",
       "  'donnent',\n",
       "  'valeur',\n",
       "  'personne',\n",
       "  'respect',\n",
       "  'évolution',\n",
       "  'justice',\n",
       "  'entre',\n",
       "  'employé',\n",
       "  'travail',\n",
       "  'trouvera',\n",
       "  'dois',\n",
       "  'grand',\n",
       "  'hypocrite',\n",
       "  'menteur',\n",
       "  'évoluer',\n",
       "  'carrière'],\n",
       " ['recherche'],\n",
       " ['image', 'assez', 'claire', 'milieu', 'pouvoir', 'comparer'],\n",
       " ['étranger',\n",
       "  'gagnent',\n",
       "  'beaucoup',\n",
       "  'argent',\n",
       "  'niveau',\n",
       "  'vie',\n",
       "  'meilleur',\n",
       "  'plans',\n",
       "  'boulot',\n",
       "  'beaucoup',\n",
       "  'challengin',\n",
       "  'ingénieur',\n",
       "  'valorisé'],\n",
       " ['notion', 'travail'],\n",
       " ['commitment'],\n",
       " ['condition',\n",
       "  'travail',\n",
       "  'favorable',\n",
       "  'étranger',\n",
       "  'concernant',\n",
       "  'domaine',\n",
       "  'étude',\n",
       "  'ingénierie',\n",
       "  'reconnaiss',\n",
       "  'étranger',\n",
       "  'ingénieur',\n",
       "  'exerce',\n",
       "  'métier'],\n",
       " ['rien']]"
      ]
     },
     "execution_count": 352,
     "metadata": {},
     "output_type": "execute_result"
    }
   ],
   "source": [
    "Q6_corpus_fr_words_3_2[0:20]"
   ]
  },
  {
   "cell_type": "markdown",
   "metadata": {},
   "source": [
    "### Visualize distribution of document lengths"
   ]
  },
  {
   "cell_type": "code",
   "execution_count": 353,
   "metadata": {},
   "outputs": [],
   "source": [
    "L = [len(doc) for doc in Q6_corpus_fr_words_3_2]"
   ]
  },
  {
   "cell_type": "code",
   "execution_count": 354,
   "metadata": {},
   "outputs": [
    {
     "data": {
      "text/plain": [
       "count    249.000000\n",
       "mean       5.317269\n",
       "std        7.829312\n",
       "min        0.000000\n",
       "25%        2.000000\n",
       "50%        3.000000\n",
       "75%        6.000000\n",
       "max       93.000000\n",
       "dtype: float64"
      ]
     },
     "execution_count": 354,
     "metadata": {},
     "output_type": "execute_result"
    }
   ],
   "source": [
    "pd.Series(L).describe()"
   ]
  },
  {
   "cell_type": "code",
   "execution_count": 355,
   "metadata": {},
   "outputs": [
    {
     "data": {
      "image/png": "[encoded data removed]",
      "text/plain": [
       "<matplotlib.figure.Figure at 0x2690cf86fd0>"
      ]
     },
     "metadata": {},
     "output_type": "display_data"
    }
   ],
   "source": [
    "u = pd.Series(L).plot(kind='hist', title='document length')"
   ]
  },
  {
   "cell_type": "code",
   "execution_count": 356,
   "metadata": {},
   "outputs": [
    {
     "data": {
      "text/plain": [
       "1    49\n",
       "2    41\n",
       "3    37\n",
       "5    23\n",
       "4    21\n",
       "6    15\n",
       "0     9\n",
       "dtype: int64"
      ]
     },
     "execution_count": 356,
     "metadata": {},
     "output_type": "execute_result"
    }
   ],
   "source": [
    "pd.Series(L).value_counts().head(7)"
   ]
  },
  {
   "cell_type": "code",
   "execution_count": 357,
   "metadata": {},
   "outputs": [
    {
     "data": {
      "text/plain": [
       "professionnalisme    5\n",
       "respect              3\n",
       "salaire              3\n",
       "incomparable         2\n",
       "motivation           2\n",
       "discipline           2\n",
       "opportunités         2\n",
       "opportunité          1\n",
       "incomparables        1\n",
       "commitment           1\n",
       "dtype: int64"
      ]
     },
     "execution_count": 357,
     "metadata": {},
     "output_type": "execute_result"
    }
   ],
   "source": [
    "# Display documents that contain only one word\n",
    "pd.Series([' '.join(doc) for doc in Q6_corpus_fr_words_2 if len(doc)==1]).value_counts().head(10)"
   ]
  },
  {
   "cell_type": "code",
   "execution_count": 358,
   "metadata": {},
   "outputs": [
    {
     "data": {
      "text/plain": [
       "sérieux professionnalisme     2\n",
       "opportunités étranger         2\n",
       "technologie ingnieurie        1\n",
       "ponctualité discipline        1\n",
       "conscience professionnelle    1\n",
       "option carriere               1\n",
       "conditions travail            1\n",
       "perspectives évolution        1\n",
       "marché travail                1\n",
       "valorisation compétences      1\n",
       "dtype: int64"
      ]
     },
     "execution_count": 358,
     "metadata": {},
     "output_type": "execute_result"
    }
   ],
   "source": [
    "# Display documents that contain 2 words\n",
    "pd.Series([' '.join(doc) for doc in Q6_corpus_fr_words_2 if len(doc)==2]).value_counts().head(10)"
   ]
  },
  {
   "cell_type": "code",
   "execution_count": 359,
   "metadata": {},
   "outputs": [
    {
     "data": {
      "text/plain": [
       "salaire conditions travail                2\n",
       "respect travail groupe                    1\n",
       "ponctualité conscience professionnelle    1\n",
       "création liens sociaux                    1\n",
       "jai intégré milieu                        1\n",
       "respect règlements institutions           1\n",
       "niveau études technologies                1\n",
       "chose question precedente                 1\n",
       "moyens financiers investis                1\n",
       "application possibilité etranger          1\n",
       "dtype: int64"
      ]
     },
     "execution_count": 359,
     "metadata": {},
     "output_type": "execute_result"
    }
   ],
   "source": [
    "# Display documents that contain 3 words\n",
    "pd.Series([' '.join(doc) for doc in Q6_corpus_fr_words_2 if len(doc)==3]).value_counts().head(10)"
   ]
  },
  {
   "cell_type": "markdown",
   "metadata": {},
   "source": [
    "******"
   ]
  },
  {
   "cell_type": "markdown",
   "metadata": {},
   "source": [
    "### Visualize Distribution of Words"
   ]
  },
  {
   "cell_type": "code",
   "execution_count": 360,
   "metadata": {},
   "outputs": [],
   "source": [
    "# we will compare the distribution of words of the following three different corpora.\n",
    "fdist2 = FreqDist([c for c in [word for doc in Q6_corpus_fr_words_2 for word in doc]])\n",
    "fdist3 = FreqDist([c for c in [word for doc in Q6_corpus_fr_words_3_1 for word in doc]])\n",
    "fdist4 = FreqDist([c for c in [word for doc in Q6_corpus_fr_words_3_2 for word in doc]])"
   ]
  },
  {
   "cell_type": "code",
   "execution_count": 361,
   "metadata": {},
   "outputs": [
    {
     "data": {
      "text/plain": [
       "(1324, 1324, 1324)"
      ]
     },
     "execution_count": 361,
     "metadata": {},
     "output_type": "execute_result"
    }
   ],
   "source": [
    "# total number of words in this corpus\n",
    "fdist2.N(),fdist3.N(),fdist4.N()"
   ]
  },
  {
   "cell_type": "code",
   "execution_count": 362,
   "metadata": {},
   "outputs": [
    {
     "data": {
      "text/plain": [
       "(722, 629, 669)"
      ]
     },
     "execution_count": 362,
     "metadata": {},
     "output_type": "execute_result"
    }
   ],
   "source": [
    "# number of UNIQUE words in this corpus\n",
    "fdist2.B(),fdist3.B(),fdist4.B()"
   ]
  },
  {
   "cell_type": "code",
   "execution_count": 363,
   "metadata": {},
   "outputs": [
    {
     "data": {
      "text/plain": [
       "[('travail', 56),\n",
       " ('étranger', 54),\n",
       " ('salaire', 30),\n",
       " ('respect', 23),\n",
       " ('professionnalisme', 20),\n",
       " ('opportunités', 14),\n",
       " ('sérieux', 13),\n",
       " ('conditions', 12),\n",
       " ('motivation', 11),\n",
       " ('salaires', 11),\n",
       " ('beaucoup', 9),\n",
       " ('recherche', 9),\n",
       " ('niveau', 9),\n",
       " ('environnement', 9),\n",
       " ('surtout', 8),\n",
       " ('carrière', 7),\n",
       " ('employés', 7),\n",
       " ('études', 7),\n",
       " ('entre', 7),\n",
       " ('ingénieur', 7)]"
      ]
     },
     "execution_count": 363,
     "metadata": {},
     "output_type": "execute_result"
    }
   ],
   "source": [
    "# 10 most frequent words in this corpus\n",
    "fdist2.most_common(20)"
   ]
  },
  {
   "cell_type": "code",
   "execution_count": 364,
   "metadata": {},
   "outputs": [
    {
     "data": {
      "text/plain": [
       "[('travail', 65),\n",
       " ('étranger', 55),\n",
       " ('salair', 41),\n",
       " ('respect', 26),\n",
       " ('professionnalism', 20),\n",
       " ('opportunité', 18),\n",
       " ('motiv', 15),\n",
       " ('condit', 13),\n",
       " ('sérieux', 13),\n",
       " ('grand', 12),\n",
       " ('professionnel', 12),\n",
       " ('employé', 9),\n",
       " ('beaucoup', 9),\n",
       " ('recherch', 9),\n",
       " ('niveau', 9),\n",
       " ('meilleur', 9),\n",
       " ('ingénieur', 9),\n",
       " ('compétenc', 9),\n",
       " ('environn', 9),\n",
       " ('domain', 8)]"
      ]
     },
     "execution_count": 364,
     "metadata": {},
     "output_type": "execute_result"
    }
   ],
   "source": [
    "fdist3.most_common(20)"
   ]
  },
  {
   "cell_type": "code",
   "execution_count": 365,
   "metadata": {},
   "outputs": [
    {
     "data": {
      "text/plain": [
       "[('travail', 56),\n",
       " ('étranger', 55),\n",
       " ('salaire', 41),\n",
       " ('profession', 35),\n",
       " ('respect', 23),\n",
       " ('opportunit', 18),\n",
       " ('condition', 13),\n",
       " ('sérieux', 13),\n",
       " ('motivation', 11),\n",
       " ('technologi', 10),\n",
       " ('employé', 9),\n",
       " ('beaucoup', 9),\n",
       " ('recherche', 9),\n",
       " ('niveau', 9),\n",
       " ('ingénieur', 9),\n",
       " ('compétence', 9),\n",
       " ('environnem', 9),\n",
       " ('domaine', 8),\n",
       " ('carrière', 8),\n",
       " ('grande', 8)]"
      ]
     },
     "execution_count": 365,
     "metadata": {},
     "output_type": "execute_result"
    }
   ],
   "source": [
    "fdist4.most_common(20)"
   ]
  },
  {
   "cell_type": "code",
   "execution_count": 366,
   "metadata": {},
   "outputs": [
    {
     "data": {
      "image/png": "[encoded data removed]",
      "text/plain": [
       "<matplotlib.figure.Figure at 0x2690cf90dd8>"
      ]
     },
     "metadata": {},
     "output_type": "display_data"
    },
    {
     "data": {
      "image/png": "[encoded data removed]",
      "text/plain": [
       "<matplotlib.figure.Figure at 0x2690cf90d30>"
      ]
     },
     "metadata": {},
     "output_type": "display_data"
    },
    {
     "data": {
      "image/png": "[encoded data removed]",
      "text/plain": [
       "<matplotlib.figure.Figure at 0x2691239ea58>"
      ]
     },
     "metadata": {},
     "output_type": "display_data"
    }
   ],
   "source": [
    "# cumulative frequency distribution of top 20 words in this corpus\n",
    "fdist2.plot(20,cumulative=True)\n",
    "fdist3.plot(20,cumulative=True)\n",
    "fdist4.plot(20,cumulative=True)"
   ]
  },
  {
   "cell_type": "markdown",
   "metadata": {},
   "source": [
    "******"
   ]
  },
  {
   "cell_type": "markdown",
   "metadata": {},
   "source": [
    "## 4) Document representation with BOW-tfidf version"
   ]
  },
  {
   "cell_type": "code",
   "execution_count": 367,
   "metadata": {},
   "outputs": [
    {
     "data": {
      "text/plain": [
       "(list, str, 249)"
      ]
     },
     "execution_count": 367,
     "metadata": {},
     "output_type": "execute_result"
    }
   ],
   "source": [
    "# setup the cleaned corpus\n",
    "Q6_corpus_fr_clean = [' '.join(doc) for doc in Q6_corpus_fr_words_3_2]\n",
    "type(Q6_corpus_fr_clean),type(Q6_corpus_fr_clean[0]), len(Q6_corpus_fr_clean)"
   ]
  },
  {
   "cell_type": "code",
   "execution_count": 368,
   "metadata": {},
   "outputs": [],
   "source": [
    "max_words = 50\n",
    "maxdf = 0.9\n",
    "mindf = 2"
   ]
  },
  {
   "cell_type": "code",
   "execution_count": 369,
   "metadata": {},
   "outputs": [],
   "source": [
    "from sklearn.feature_extraction.text import CountVectorizer"
   ]
  },
  {
   "cell_type": "code",
   "execution_count": 370,
   "metadata": {},
   "outputs": [],
   "source": [
    "tf_bow_model = CountVectorizer(max_df=maxdf, min_df=mindf, max_features=max_words, stop_words=stop_words_fr)"
   ]
  },
  {
   "cell_type": "code",
   "execution_count": 371,
   "metadata": {},
   "outputs": [
    {
     "data": {
      "text/plain": [
       "CountVectorizer(analyzer='word', binary=False, decode_error='strict',\n",
       "        dtype=<class 'numpy.int64'>, encoding='utf-8', input='content',\n",
       "        lowercase=True, max_df=0.9, max_features=50, min_df=2,\n",
       "        ngram_range=(1, 1), preprocessor=None,\n",
       "        stop_words=['au', 'aux', 'avec', 'ce', 'ces', 'dans', 'de', 'des', 'du', 'elle', 'en', 'et', 'eux', 'il', 'je', 'la', 'le', 'leur', 'lui', 'ma', 'mais', 'me', 'même', 'mes', 'moi', 'mon', 'ne', 'nos', 'notre', 'nous', 'on', 'ou', 'par', 'pas', 'pour', 'qu', 'que', 'qui', 'sa', 'se', 'ses', 'son', 's...'tunis', 'bien', 'mieux', 'sais', 'leurs', 'certain', 'plus', 'ainsi', 'tunisiens', 'professionnel'],\n",
       "        strip_accents=None, token_pattern='(?u)\\\\b\\\\w\\\\w+\\\\b',\n",
       "        tokenizer=None, vocabulary=None)"
      ]
     },
     "execution_count": 371,
     "metadata": {},
     "output_type": "execute_result"
    }
   ],
   "source": [
    "tf_bow_model.fit(Q6_corpus_fr_clean)"
   ]
  },
  {
   "cell_type": "code",
   "execution_count": 372,
   "metadata": {},
   "outputs": [
    {
     "name": "stdout",
     "output_type": "stream",
     "text": [
      "<class 'list'>\n",
      "50\n",
      "['beaucoup', 'carrière', 'compétence', 'condition', 'différence', 'domaine', 'effort', 'employé', 'encouragem', 'entre', 'entreprise', 'environnem', 'etranger', 'expérience', 'faire', 'gens', 'grande', 'incomparab', 'ingénieur', 'manque', 'meilleur', 'motivation', 'moyens', 'niveau', 'nouvelle', 'opportunit', 'organisati', 'peux', 'point', 'ponctualit', 'profession', 'qualité', 'recherche', 'reconnaiss', 'respect', 'salaire', 'scientifiq', 'secteur', 'surtout', 'sérieux', 'technologi', 'travail', 'travailler', 'valeur', 'valorisati', 'valorisé', 'vie', 'vue', 'étranger', 'études']\n"
     ]
    }
   ],
   "source": [
    "## verify the vocabulary (remember that each feature corresponds to one vocabulary word)\n",
    "tf_bow_vocab = tf_bow_model.get_feature_names()\n",
    "print(type(tf_bow_vocab))\n",
    "print(len(tf_bow_vocab))\n",
    "print(tf_bow_vocab)"
   ]
  },
  {
   "cell_type": "code",
   "execution_count": 373,
   "metadata": {},
   "outputs": [
    {
     "data": {
      "text/plain": [
       "{'500dt',\n",
       " 'absence',\n",
       " 'absent',\n",
       " 'abusé',\n",
       " 'accés',\n",
       " 'acquérir',\n",
       " 'actif',\n",
       " 'adapté',\n",
       " 'adem',\n",
       " 'adhésion',\n",
       " 'administra',\n",
       " 'adorait',\n",
       " 'ailleur',\n",
       " 'aise',\n",
       " 'ajouté',\n",
       " 'ala',\n",
       " 'allemagne',\n",
       " 'amateur',\n",
       " 'ambition',\n",
       " 'améliorati',\n",
       " 'and',\n",
       " 'années',\n",
       " 'ans',\n",
       " 'applicatio',\n",
       " 'applique',\n",
       " 'apport',\n",
       " 'apporter',\n",
       " 'apprend',\n",
       " 'apprentiss',\n",
       " 'appréciati',\n",
       " 'apprécient',\n",
       " 'apprécié',\n",
       " 'après',\n",
       " 'archaïque',\n",
       " 'argent',\n",
       " 'assez',\n",
       " 'assiduité',\n",
       " 'attente',\n",
       " 'aucun',\n",
       " 'aucune',\n",
       " 'autres',\n",
       " 'avance',\n",
       " 'avancement',\n",
       " 'avancer',\n",
       " 'avancé',\n",
       " 'avancée',\n",
       " 'avancéée',\n",
       " 'avantage',\n",
       " 'ayy',\n",
       " 'bagri',\n",
       " 'bas',\n",
       " 'beacoup',\n",
       " 'bel',\n",
       " 'besoin',\n",
       " 'biologie',\n",
       " 'bonne',\n",
       " 'bonnes',\n",
       " 'boulot',\n",
       " 'buisnes',\n",
       " 'bureaucrat',\n",
       " 'bénéfice',\n",
       " 'cadre',\n",
       " 'calson',\n",
       " 'capital',\n",
       " 'carière',\n",
       " 'carriere',\n",
       " 'cas',\n",
       " 'castro',\n",
       " 'causé',\n",
       " 'celle',\n",
       " 'censure',\n",
       " 'certaine',\n",
       " 'chacun',\n",
       " 'challengin',\n",
       " 'champs',\n",
       " 'chance',\n",
       " 'changement',\n",
       " 'cher',\n",
       " 'cherche',\n",
       " 'chimie',\n",
       " 'chine',\n",
       " 'choix',\n",
       " 'chomage',\n",
       " 'chose',\n",
       " 'choses',\n",
       " 'chômage',\n",
       " 'claire',\n",
       " 'comfortabl',\n",
       " 'commitment',\n",
       " 'commun',\n",
       " 'compacte',\n",
       " 'compare',\n",
       " 'comparer',\n",
       " 'competence',\n",
       " 'complexe',\n",
       " 'compliquee',\n",
       " 'compliquée',\n",
       " 'compri',\n",
       " 'concept',\n",
       " 'concernant',\n",
       " 'concideré',\n",
       " 'concret',\n",
       " 'concurrenc',\n",
       " 'confiance',\n",
       " 'connaissan',\n",
       " 'conscience',\n",
       " 'constant',\n",
       " 'conséquent',\n",
       " 'contraire',\n",
       " 'contrairem',\n",
       " 'contre',\n",
       " 'contrôle',\n",
       " 'convenable',\n",
       " 'coopératio',\n",
       " 'correspond',\n",
       " 'corruption',\n",
       " 'coté',\n",
       " 'cours',\n",
       " 'coûts',\n",
       " 'croissance',\n",
       " 'création',\n",
       " 'créativité',\n",
       " 'culture',\n",
       " 'dabbegh',\n",
       " 'dabegh',\n",
       " 'darhom',\n",
       " 'demande',\n",
       " 'depend',\n",
       " 'desquel',\n",
       " 'devise',\n",
       " 'difference',\n",
       " 'difficie',\n",
       " 'difficulte',\n",
       " 'diffèrent',\n",
       " 'différent',\n",
       " 'digitalisa',\n",
       " 'dimension',\n",
       " 'diplôme',\n",
       " 'dire',\n",
       " 'dirigeant',\n",
       " 'disant',\n",
       " 'discipline',\n",
       " 'discipliné',\n",
       " 'disponible',\n",
       " 'dit',\n",
       " 'divers',\n",
       " 'diversité',\n",
       " 'dois',\n",
       " 'domine',\n",
       " 'donne',\n",
       " 'donnent',\n",
       " 'droits',\n",
       " 'dterminati',\n",
       " 'dure',\n",
       " 'durera',\n",
       " 'dynamique',\n",
       " 'débutant',\n",
       " 'dédié',\n",
       " 'délivrer',\n",
       " 'dépend',\n",
       " 'détruit',\n",
       " 'développem',\n",
       " 'développen',\n",
       " 'développer',\n",
       " 'développé',\n",
       " 'développée',\n",
       " 'earth',\n",
       " 'edha',\n",
       " 'effectif',\n",
       " 'effet',\n",
       " 'el',\n",
       " 'embaucheme',\n",
       " 'emlpoyé',\n",
       " 'emploi',\n",
       " 'employeur',\n",
       " 'encadremen',\n",
       " 'encouragen',\n",
       " 'engagement',\n",
       " 'engendre',\n",
       " 'enseigneme',\n",
       " 'entrain',\n",
       " 'environmen',\n",
       " 'equipement',\n",
       " 'esprit',\n",
       " 'estimation',\n",
       " 'estimé',\n",
       " 'etatique',\n",
       " 'etc',\n",
       " 'etes',\n",
       " 'ethics',\n",
       " 'etrangere',\n",
       " 'etre',\n",
       " 'europe',\n",
       " 'evolution',\n",
       " 'excellent',\n",
       " 'exerce',\n",
       " 'existance',\n",
       " 'existe',\n",
       " 'existence',\n",
       " 'experience',\n",
       " 'expertise',\n",
       " 'exploitati',\n",
       " 'exécution',\n",
       " 'facile',\n",
       " 'facilement',\n",
       " 'facilite',\n",
       " 'facilité',\n",
       " 'fainéant',\n",
       " 'faut',\n",
       " 'faute',\n",
       " 'favorable',\n",
       " 'favorisé',\n",
       " 'façon',\n",
       " 'felhin',\n",
       " 'femmes',\n",
       " 'fi',\n",
       " 'finance',\n",
       " 'financier',\n",
       " 'first',\n",
       " 'formation',\n",
       " 'forte',\n",
       " 'fourni',\n",
       " 'fournissen',\n",
       " 'franchiseu',\n",
       " 'fyn',\n",
       " 'gagnent',\n",
       " 'gangné',\n",
       " 'geographiq',\n",
       " 'grand',\n",
       " 'grands',\n",
       " 'groupe',\n",
       " 'gère',\n",
       " 'généraleme',\n",
       " 'haha',\n",
       " 'halieutiqu',\n",
       " 'handicapan',\n",
       " 'hawwa',\n",
       " 'heures',\n",
       " 'hiérarchie',\n",
       " 'hiérarchiq',\n",
       " 'homme',\n",
       " 'honnêteté',\n",
       " 'horaire',\n",
       " 'horizontal',\n",
       " 'howwa',\n",
       " 'humain',\n",
       " 'human',\n",
       " 'humanitair',\n",
       " 'humeur',\n",
       " 'hyeto',\n",
       " 'hypocrite',\n",
       " 'i3aytolo',\n",
       " 'i3ish',\n",
       " 'ice',\n",
       " 'idée',\n",
       " 'ikon',\n",
       " 'image',\n",
       " 'impact',\n",
       " 'implantati',\n",
       " 'implicatio',\n",
       " 'important',\n",
       " 'in',\n",
       " 'inajjim',\n",
       " 'inajmo',\n",
       " 'indicateur',\n",
       " 'industrie',\n",
       " 'inexistant',\n",
       " 'informatio',\n",
       " 'ingenieur',\n",
       " 'ingnieurie',\n",
       " 'ingénierie',\n",
       " 'initiative',\n",
       " 'innovation',\n",
       " 'innover',\n",
       " 'insertion',\n",
       " 'inspecific',\n",
       " 'instabilit',\n",
       " 'institutio',\n",
       " 'interessan',\n",
       " 'interféren',\n",
       " 'internatio',\n",
       " 'interventi',\n",
       " 'introuvabl',\n",
       " 'intégrer',\n",
       " 'intégrité',\n",
       " 'intégré',\n",
       " 'investi',\n",
       " 'investir',\n",
       " 'investisse',\n",
       " 'jai',\n",
       " 'jamais',\n",
       " 'japan',\n",
       " 'jdyda',\n",
       " 'jeunes',\n",
       " 'jour',\n",
       " 'justice',\n",
       " 'ken',\n",
       " 'keno',\n",
       " 'khalifa',\n",
       " 'kife',\n",
       " 'labos',\n",
       " 'laquelle',\n",
       " 'large',\n",
       " 'lente',\n",
       " 'lentement',\n",
       " 'liens',\n",
       " 'limité',\n",
       " 'limitée',\n",
       " 'lkol',\n",
       " 'loin',\n",
       " 'lois',\n",
       " 'léger',\n",
       " 'm1',\n",
       " 'majeure',\n",
       " 'mal',\n",
       " 'malheureus',\n",
       " 'maltraité',\n",
       " 'management',\n",
       " 'manger',\n",
       " 'manquent',\n",
       " 'manufactur',\n",
       " 'marché',\n",
       " 'mariem',\n",
       " 'marine',\n",
       " 'marque',\n",
       " 'matériel',\n",
       " 'meilleure',\n",
       " 'mentalité',\n",
       " 'menteur',\n",
       " 'merci',\n",
       " 'meshi',\n",
       " 'mia',\n",
       " 'milieu',\n",
       " 'minimum',\n",
       " 'mlahhim',\n",
       " 'mokho',\n",
       " 'monde',\n",
       " 'moral',\n",
       " 'morale',\n",
       " 'motivant',\n",
       " 'motivante',\n",
       " 'motivent',\n",
       " 'msattik',\n",
       " 'mutuel',\n",
       " 'médecine',\n",
       " 'mériter',\n",
       " 'méritocrat',\n",
       " 'métier',\n",
       " 'need',\n",
       " 'nier',\n",
       " 'niveaux',\n",
       " 'nombre',\n",
       " 'nombreuse',\n",
       " 'non',\n",
       " 'norme',\n",
       " 'notion',\n",
       " 'nuancé',\n",
       " 'objectif',\n",
       " 'obtenu',\n",
       " 'of',\n",
       " 'offerte',\n",
       " 'offre',\n",
       " 'offres',\n",
       " 'oppertunis',\n",
       " 'opportunie',\n",
       " 'opprtunité',\n",
       " 'option',\n",
       " 'organisé',\n",
       " 'ouvrier',\n",
       " 'paiement',\n",
       " 'paiment',\n",
       " 'parcour',\n",
       " 'parle',\n",
       " 'part',\n",
       " 'partage',\n",
       " 'partout',\n",
       " 'passion',\n",
       " 'patron',\n",
       " 'payent',\n",
       " 'payé',\n",
       " 'payés',\n",
       " 'peine',\n",
       " 'pense',\n",
       " 'perdre',\n",
       " 'perfection',\n",
       " 'permanent',\n",
       " 'personne',\n",
       " 'personnel',\n",
       " 'personnell',\n",
       " 'perspectiv',\n",
       " 'peuvent',\n",
       " 'place',\n",
       " 'plafond',\n",
       " 'plan',\n",
       " 'plans',\n",
       " 'pointe',\n",
       " 'points',\n",
       " 'ponctuel',\n",
       " 'ponctuelle',\n",
       " 'population',\n",
       " 'possibilit',\n",
       " 'poste',\n",
       " 'postes',\n",
       " 'potentiel',\n",
       " 'pouvoir',\n",
       " 'precedente',\n",
       " 'preciser',\n",
       " 'prend',\n",
       " 'presque',\n",
       " 'prgrès',\n",
       " 'privé',\n",
       " 'pro',\n",
       " 'procédure',\n",
       " 'productivi',\n",
       " 'profesionn',\n",
       " 'profit',\n",
       " 'progrè',\n",
       " 'projet',\n",
       " 'propice',\n",
       " 'proposé',\n",
       " 'présente',\n",
       " 'public',\n",
       " 'publique',\n",
       " 'puis',\n",
       " 'puisqu',\n",
       " 'qualite',\n",
       " 'quasi',\n",
       " 'quasiment',\n",
       " 'quelque',\n",
       " 'question',\n",
       " 'quoi',\n",
       " 'rajel',\n",
       " 'rajil',\n",
       " 'rap',\n",
       " 'rapide',\n",
       " 'rapidement',\n",
       " 'rapport',\n",
       " 'really',\n",
       " 'reaserch',\n",
       " 'rebooster',\n",
       " 'reconaissa',\n",
       " 'recrute',\n",
       " 'recrutent',\n",
       " 'refletent',\n",
       " 'relation',\n",
       " 'rendement',\n",
       " 'rentabilit',\n",
       " 'respcet',\n",
       " 'respectent',\n",
       " 'respecter',\n",
       " 'respectueu',\n",
       " 'respecté',\n",
       " 'respet',\n",
       " 'ressentez',\n",
       " 'ressource',\n",
       " 'reste',\n",
       " 'retard',\n",
       " 'revanche',\n",
       " 'reçues',\n",
       " 'riche',\n",
       " 'rien',\n",
       " 'rigoureux',\n",
       " 'rigueur',\n",
       " 'risque',\n",
       " 'rjel',\n",
       " 'roho',\n",
       " 'rude',\n",
       " 'règlement',\n",
       " 'règles',\n",
       " 'réalisé',\n",
       " 'récompense',\n",
       " 'réellement',\n",
       " 'rémunérati',\n",
       " 'sacrifice',\n",
       " 'sain',\n",
       " 'salarié',\n",
       " 'salariée',\n",
       " 'satisfacti',\n",
       " 'sauf',\n",
       " 'savent',\n",
       " 'savoir',\n",
       " 'scandaleux',\n",
       " 'science',\n",
       " 'sein',\n",
       " 'selon',\n",
       " 'sens',\n",
       " 'sent',\n",
       " 'serieux',\n",
       " 'seul',\n",
       " 'shaab',\n",
       " 'shaabha',\n",
       " 'smaan',\n",
       " 'so',\n",
       " 'sociaux',\n",
       " 'societe',\n",
       " 'société',\n",
       " 'soutiennen',\n",
       " 'souvent',\n",
       " 'specialeme',\n",
       " 'spéciale',\n",
       " 'spécialité',\n",
       " 'stagnation',\n",
       " 'stand',\n",
       " 'startup',\n",
       " 'structuré',\n",
       " 'subvient',\n",
       " 'suivi',\n",
       " 'sujets',\n",
       " 'supérieur',\n",
       " 'surexploit',\n",
       " 'surveillan',\n",
       " 'systeme',\n",
       " 'sécurité',\n",
       " 'sérieusité',\n",
       " 'sévère',\n",
       " 'sûr',\n",
       " 'sûre',\n",
       " 'taa',\n",
       " 'taches',\n",
       " 'tastika',\n",
       " 'tech',\n",
       " 'technicien',\n",
       " 'technique',\n",
       " 'temps',\n",
       " 'terme',\n",
       " 'termes',\n",
       " 'territoire',\n",
       " 'thèse',\n",
       " 'thématique',\n",
       " 'ti',\n",
       " 'to',\n",
       " 'toilette',\n",
       " 'tones',\n",
       " 'totale',\n",
       " 'travaille',\n",
       " 'travailleu',\n",
       " 'tres',\n",
       " 'trouve',\n",
       " 'trouver',\n",
       " 'trouvera',\n",
       " 'tunisien',\n",
       " 'tunisienne',\n",
       " 'up',\n",
       " 'utilisée',\n",
       " 'vague',\n",
       " 'valorise',\n",
       " 'valorisent',\n",
       " 'valoriser',\n",
       " 'vastes',\n",
       " 'veulent',\n",
       " 'veut',\n",
       " 'vierge',\n",
       " 'vitaux',\n",
       " 'vivre',\n",
       " 'volonté',\n",
       " 'volorisent',\n",
       " 'vraie',\n",
       " 'vrais',\n",
       " 'vs',\n",
       " 'wala',\n",
       " 'we',\n",
       " 'work',\n",
       " 'xd',\n",
       " 'yaamlo',\n",
       " 'yaarfsh',\n",
       " 'yitfarrij',\n",
       " 'zone',\n",
       " 'échelle',\n",
       " 'écoles',\n",
       " 'économie',\n",
       " 'écosystème',\n",
       " 'éducation',\n",
       " 'également',\n",
       " 'élaboré',\n",
       " 'élevé',\n",
       " 'épanouit',\n",
       " 'équipé',\n",
       " 'équivalent',\n",
       " 'étanger',\n",
       " 'étatique',\n",
       " 'états',\n",
       " 'étique',\n",
       " 'étrangère',\n",
       " 'étrangé',\n",
       " 'étude',\n",
       " 'étudie',\n",
       " 'évidemment',\n",
       " 'évolue',\n",
       " 'évoluer',\n",
       " 'évolution',\n",
       " 'أخرى',\n",
       " 'احترام',\n",
       " 'العرب',\n",
       " 'بعضنا',\n",
       " 'بلغة',\n",
       " 'ترجمة',\n",
       " 'تكمبين',\n",
       " 'صنع',\n",
       " 'ضهر',\n",
       " 'طلوع',\n",
       " 'على',\n",
       " 'غير',\n",
       " 'غيرو',\n",
       " 'فقط',\n",
       " 'قفة',\n",
       " 'قلة',\n",
       " 'لأنها',\n",
       " 'مابين',\n",
       " 'مافماش',\n",
       " 'متوفرة',\n",
       " 'من'}"
      ]
     },
     "execution_count": 373,
     "metadata": {},
     "output_type": "execute_result"
    }
   ],
   "source": [
    "tf_bow_model.stop_words_"
   ]
  },
  {
   "cell_type": "code",
   "execution_count": 374,
   "metadata": {},
   "outputs": [],
   "source": [
    "from sklearn.feature_extraction.text import TfidfVectorizer"
   ]
  },
  {
   "cell_type": "code",
   "execution_count": 375,
   "metadata": {},
   "outputs": [
    {
     "data": {
      "text/plain": [
       "TfidfVectorizer(analyzer='word', binary=False, decode_error='strict',\n",
       "        dtype=<class 'numpy.int64'>, encoding='utf-8', input='content',\n",
       "        lowercase=True, max_df=0.9, max_features=50, min_df=2,\n",
       "        ngram_range=(1, 1), norm='l2', preprocessor=None, smooth_idf=True,\n",
       "        stop_words=['au', 'aux', 'avec', 'ce', 'ces', 'dans', 'de', 'des', 'du', 'elle', 'en', 'et', 'eux', 'il', 'je', 'la', 'le', 'leur', 'lui', 'ma', 'mais', 'me', 'même', 'mes', 'moi', 'mon', 'ne', 'nos', 'notre', 'nous', 'on', 'ou', 'par', 'pas', 'pour', 'qu', 'que', 'qui', 'sa', 'se', 'ses', 'son', 's...'tunis', 'bien', 'mieux', 'sais', 'leurs', 'certain', 'plus', 'ainsi', 'tunisiens', 'professionnel'],\n",
       "        strip_accents=None, sublinear_tf=False,\n",
       "        token_pattern='(?u)\\\\b\\\\w\\\\w+\\\\b', tokenizer=None, use_idf=True,\n",
       "        vocabulary=None)"
      ]
     },
     "execution_count": 375,
     "metadata": {},
     "output_type": "execute_result"
    }
   ],
   "source": [
    "tfidf_model = TfidfVectorizer(max_df=maxdf, min_df=mindf, max_features=max_words, stop_words=stop_words_fr, use_idf = True)\n",
    "tfidf_model.fit(Q6_corpus_fr_clean)"
   ]
  },
  {
   "cell_type": "code",
   "execution_count": 376,
   "metadata": {},
   "outputs": [
    {
     "name": "stdout",
     "output_type": "stream",
     "text": [
      "50\n",
      "['beaucoup', 'carrière', 'compétence', 'condition', 'différence', 'domaine', 'effort', 'employé', 'encouragem', 'entre', 'entreprise', 'environnem', 'etranger', 'expérience', 'faire', 'gens', 'grande', 'incomparab', 'ingénieur', 'manque', 'meilleur', 'motivation', 'moyens', 'niveau', 'nouvelle', 'opportunit', 'organisati', 'peux', 'point', 'ponctualit', 'profession', 'qualité', 'recherche', 'reconnaiss', 'respect', 'salaire', 'scientifiq', 'secteur', 'surtout', 'sérieux', 'technologi', 'travail', 'travailler', 'valeur', 'valorisati', 'valorisé', 'vie', 'vue', 'étranger', 'études']\n"
     ]
    }
   ],
   "source": [
    "tfidf_vocab = tfidf_model.get_feature_names()\n",
    "print(len(tfidf_vocab))\n",
    "print(tfidf_vocab)"
   ]
  },
  {
   "cell_type": "code",
   "execution_count": 377,
   "metadata": {},
   "outputs": [
    {
     "data": {
      "text/html": [
       "<div>\n",
       "<style scoped>\n",
       "    .dataframe tbody tr th:only-of-type {\n",
       "        vertical-align: middle;\n",
       "    }\n",
       "\n",
       "    .dataframe tbody tr th {\n",
       "        vertical-align: top;\n",
       "    }\n",
       "\n",
       "    .dataframe thead th {\n",
       "        text-align: right;\n",
       "    }\n",
       "</style>\n",
       "<table border=\"1\" class=\"dataframe\">\n",
       "  <thead>\n",
       "    <tr style=\"text-align: right;\">\n",
       "      <th></th>\n",
       "      <th>IDF</th>\n",
       "      <th>Word</th>\n",
       "    </tr>\n",
       "  </thead>\n",
       "  <tbody>\n",
       "    <tr>\n",
       "      <th>48</th>\n",
       "      <td>2.589635</td>\n",
       "      <td>vivre</td>\n",
       "    </tr>\n",
       "    <tr>\n",
       "      <th>41</th>\n",
       "      <td>2.629641</td>\n",
       "      <td>tolérance</td>\n",
       "    </tr>\n",
       "    <tr>\n",
       "      <th>35</th>\n",
       "      <td>2.783791</td>\n",
       "      <td>service</td>\n",
       "    </tr>\n",
       "    <tr>\n",
       "      <th>30</th>\n",
       "      <td>2.937942</td>\n",
       "      <td>racisme</td>\n",
       "    </tr>\n",
       "    <tr>\n",
       "      <th>34</th>\n",
       "      <td>3.343407</td>\n",
       "      <td>salaire</td>\n",
       "    </tr>\n",
       "    <tr>\n",
       "      <th>25</th>\n",
       "      <td>3.577022</td>\n",
       "      <td>nouvelle</td>\n",
       "    </tr>\n",
       "    <tr>\n",
       "      <th>39</th>\n",
       "      <td>3.882404</td>\n",
       "      <td>surtout</td>\n",
       "    </tr>\n",
       "    <tr>\n",
       "      <th>3</th>\n",
       "      <td>3.882404</td>\n",
       "      <td>civisme</td>\n",
       "    </tr>\n",
       "    <tr>\n",
       "      <th>21</th>\n",
       "      <td>4.036554</td>\n",
       "      <td>meilleur</td>\n",
       "    </tr>\n",
       "    <tr>\n",
       "      <th>40</th>\n",
       "      <td>4.123566</td>\n",
       "      <td>sécurité</td>\n",
       "    </tr>\n",
       "  </tbody>\n",
       "</table>\n",
       "</div>"
      ],
      "text/plain": [
       "         IDF       Word\n",
       "48  2.589635      vivre\n",
       "41  2.629641  tolérance\n",
       "35  2.783791    service\n",
       "30  2.937942    racisme\n",
       "34  3.343407    salaire\n",
       "25  3.577022   nouvelle\n",
       "39  3.882404    surtout\n",
       "3   3.882404    civisme\n",
       "21  4.036554   meilleur\n",
       "40  4.123566   sécurité"
      ]
     },
     "execution_count": 377,
     "metadata": {},
     "output_type": "execute_result"
    }
   ],
   "source": [
    "# Sort vocabulary words in ASCENDING order of IDF value (from most frequent to least frequent)\n",
    "pd.DataFrame(dict(Word=vocab,IDF=tfidf_model.idf_)).sort_values(\"IDF\", inplace=False, ascending = True).head(10)"
   ]
  },
  {
   "cell_type": "code",
   "execution_count": 378,
   "metadata": {},
   "outputs": [
    {
     "data": {
      "text/plain": [
       "set()"
      ]
     },
     "execution_count": 378,
     "metadata": {},
     "output_type": "execute_result"
    }
   ],
   "source": [
    "# compare vocabularies of TF model and TFIDF model\n",
    "set(tfidf_vocab) - set(tf_bow_vocab)"
   ]
  },
  {
   "cell_type": "code",
   "execution_count": 379,
   "metadata": {},
   "outputs": [],
   "source": [
    "# Calculate DTM of our corpus\n",
    "tfidf_dtm = tfidf_model.transform(Q6_corpus_fr_clean)"
   ]
  },
  {
   "cell_type": "code",
   "execution_count": 380,
   "metadata": {},
   "outputs": [
    {
     "name": "stdout",
     "output_type": "stream",
     "text": [
      "<class 'scipy.sparse.csr.csr_matrix'>\n",
      "(249, 50)\n",
      "492\n"
     ]
    }
   ],
   "source": [
    "# Verify the type and size of this matrix\n",
    "print(type(tfidf_dtm))\n",
    "print(tfidf_dtm.shape)\n",
    "# Number of non-zero values in this matrix\n",
    "print(tfidf_dtm.nnz)"
   ]
  },
  {
   "cell_type": "code",
   "execution_count": 381,
   "metadata": {},
   "outputs": [
    {
     "name": "stdout",
     "output_type": "stream",
     "text": [
      "<class 'numpy.ndarray'>\n",
      "(249, 1)\n",
      "[0 1 0 3 1 1 2 1 0 3]\n"
     ]
    }
   ],
   "source": [
    "# How many vocabulary terms are there in every document?\n",
    "nb_terms_per_doc = np.array((tfidf_dtm>0).sum(axis=1))\n",
    "print(type(nb_terms_per_doc))\n",
    "print(nb_terms_per_doc.shape)\n",
    "print(nb_terms_per_doc[0:10,0])"
   ]
  },
  {
   "cell_type": "code",
   "execution_count": 382,
   "metadata": {},
   "outputs": [
    {
     "name": "stdout",
     "output_type": "stream",
     "text": [
      "<class 'numpy.ndarray'>\n",
      "(1, 50)\n",
      "[ 8  8  9 13  7  8  5  9  6  6]\n"
     ]
    }
   ],
   "source": [
    "# In how many documents does each vocabulary term occur? -- Called the (absolute) document frequency (DF) of a term.\n",
    "doc_freq = np.array((tfidf_dtm>0).sum(axis=0))\n",
    "print(type(doc_freq))\n",
    "print(doc_freq.shape)\n",
    "print(doc_freq[0,0:10])"
   ]
  },
  {
   "cell_type": "code",
   "execution_count": 383,
   "metadata": {},
   "outputs": [
    {
     "name": "stdout",
     "output_type": "stream",
     "text": [
      "<class 'numpy.ndarray'>\n",
      "(1, 50)\n",
      "[0.03212851 0.03212851 0.03614458 0.05220884 0.02811245]\n"
     ]
    }
   ],
   "source": [
    "  # relative frequency i.e. proportion\n",
    "rel_doc_freq = doc_freq / tfidf_dtm.shape[0]\n",
    "print(type(rel_doc_freq))\n",
    "print(rel_doc_freq.shape)\n",
    "print(rel_doc_freq[0,0:5])"
   ]
  },
  {
   "cell_type": "code",
   "execution_count": 384,
   "metadata": {},
   "outputs": [
    {
     "data": {
      "text/html": [
       "<div>\n",
       "<style scoped>\n",
       "    .dataframe tbody tr th:only-of-type {\n",
       "        vertical-align: middle;\n",
       "    }\n",
       "\n",
       "    .dataframe tbody tr th {\n",
       "        vertical-align: top;\n",
       "    }\n",
       "\n",
       "    .dataframe thead th {\n",
       "        text-align: right;\n",
       "    }\n",
       "</style>\n",
       "<table border=\"1\" class=\"dataframe\">\n",
       "  <thead>\n",
       "    <tr style=\"text-align: right;\">\n",
       "      <th></th>\n",
       "      <th>IDF</th>\n",
       "      <th>df</th>\n",
       "      <th>rel_df</th>\n",
       "      <th>word</th>\n",
       "    </tr>\n",
       "  </thead>\n",
       "  <tbody>\n",
       "    <tr>\n",
       "      <th>0</th>\n",
       "      <td>4.324236</td>\n",
       "      <td>8</td>\n",
       "      <td>0.032129</td>\n",
       "      <td>beaucoup</td>\n",
       "    </tr>\n",
       "    <tr>\n",
       "      <th>1</th>\n",
       "      <td>4.324236</td>\n",
       "      <td>8</td>\n",
       "      <td>0.032129</td>\n",
       "      <td>carrière</td>\n",
       "    </tr>\n",
       "    <tr>\n",
       "      <th>2</th>\n",
       "      <td>4.218876</td>\n",
       "      <td>9</td>\n",
       "      <td>0.036145</td>\n",
       "      <td>compétence</td>\n",
       "    </tr>\n",
       "    <tr>\n",
       "      <th>3</th>\n",
       "      <td>3.882404</td>\n",
       "      <td>13</td>\n",
       "      <td>0.052209</td>\n",
       "      <td>condition</td>\n",
       "    </tr>\n",
       "    <tr>\n",
       "      <th>4</th>\n",
       "      <td>4.442019</td>\n",
       "      <td>7</td>\n",
       "      <td>0.028112</td>\n",
       "      <td>différence</td>\n",
       "    </tr>\n",
       "  </tbody>\n",
       "</table>\n",
       "</div>"
      ],
      "text/plain": [
       "        IDF  df    rel_df        word\n",
       "0  4.324236   8  0.032129    beaucoup\n",
       "1  4.324236   8  0.032129    carrière\n",
       "2  4.218876   9  0.036145  compétence\n",
       "3  3.882404  13  0.052209   condition\n",
       "4  4.442019   7  0.028112  différence"
      ]
     },
     "execution_count": 384,
     "metadata": {},
     "output_type": "execute_result"
    }
   ],
   "source": [
    "# put results in a data frame for easy visualization\n",
    "u = pd.DataFrame(dict(word=tfidf_model.get_feature_names(),IDF=tfidf_model.idf_, df = doc_freq.ravel(), rel_df = rel_doc_freq.ravel()))\n",
    "u.head()"
   ]
  },
  {
   "cell_type": "code",
   "execution_count": 385,
   "metadata": {},
   "outputs": [
    {
     "data": {
      "text/html": [
       "<div>\n",
       "<style scoped>\n",
       "    .dataframe tbody tr th:only-of-type {\n",
       "        vertical-align: middle;\n",
       "    }\n",
       "\n",
       "    .dataframe tbody tr th {\n",
       "        vertical-align: top;\n",
       "    }\n",
       "\n",
       "    .dataframe thead th {\n",
       "        text-align: right;\n",
       "    }\n",
       "</style>\n",
       "<table border=\"1\" class=\"dataframe\">\n",
       "  <thead>\n",
       "    <tr style=\"text-align: right;\">\n",
       "      <th></th>\n",
       "      <th>IDF</th>\n",
       "      <th>df</th>\n",
       "      <th>rel_df</th>\n",
       "      <th>word</th>\n",
       "    </tr>\n",
       "  </thead>\n",
       "  <tbody>\n",
       "    <tr>\n",
       "      <th>48</th>\n",
       "      <td>2.589635</td>\n",
       "      <td>50</td>\n",
       "      <td>0.200803</td>\n",
       "      <td>étranger</td>\n",
       "    </tr>\n",
       "    <tr>\n",
       "      <th>41</th>\n",
       "      <td>2.629641</td>\n",
       "      <td>48</td>\n",
       "      <td>0.192771</td>\n",
       "      <td>travail</td>\n",
       "    </tr>\n",
       "    <tr>\n",
       "      <th>35</th>\n",
       "      <td>2.783791</td>\n",
       "      <td>41</td>\n",
       "      <td>0.164659</td>\n",
       "      <td>salaire</td>\n",
       "    </tr>\n",
       "    <tr>\n",
       "      <th>30</th>\n",
       "      <td>2.937942</td>\n",
       "      <td>35</td>\n",
       "      <td>0.140562</td>\n",
       "      <td>profession</td>\n",
       "    </tr>\n",
       "    <tr>\n",
       "      <th>34</th>\n",
       "      <td>3.343407</td>\n",
       "      <td>23</td>\n",
       "      <td>0.092369</td>\n",
       "      <td>respect</td>\n",
       "    </tr>\n",
       "  </tbody>\n",
       "</table>\n",
       "</div>"
      ],
      "text/plain": [
       "         IDF  df    rel_df        word\n",
       "48  2.589635  50  0.200803    étranger\n",
       "41  2.629641  48  0.192771     travail\n",
       "35  2.783791  41  0.164659     salaire\n",
       "30  2.937942  35  0.140562  profession\n",
       "34  3.343407  23  0.092369     respect"
      ]
     },
     "execution_count": 385,
     "metadata": {},
     "output_type": "execute_result"
    }
   ],
   "source": [
    "u.sort_values(\"IDF\", inplace=False, ascending = True).head()"
   ]
  },
  {
   "cell_type": "markdown",
   "metadata": {},
   "source": [
    "### Remove documents that contain 0 vocabulary words"
   ]
  },
  {
   "cell_type": "code",
   "execution_count": 386,
   "metadata": {},
   "outputs": [
    {
     "data": {
      "text/plain": [
       "(249,)"
      ]
     },
     "execution_count": 386,
     "metadata": {},
     "output_type": "execute_result"
    }
   ],
   "source": [
    "nb_terms_per_doc = nb_terms_per_doc.ravel()  # convert to a 1D array\n",
    "nb_terms_per_doc.shape"
   ]
  },
  {
   "cell_type": "code",
   "execution_count": 387,
   "metadata": {},
   "outputs": [
    {
     "data": {
      "text/plain": [
       "1     77\n",
       "0     55\n",
       "2     40\n",
       "3     34\n",
       "4     16\n",
       "5     10\n",
       "7      7\n",
       "6      7\n",
       "11     1\n",
       "9      1\n",
       "8      1\n",
       "dtype: int64"
      ]
     },
     "execution_count": 387,
     "metadata": {},
     "output_type": "execute_result"
    }
   ],
   "source": [
    "pd.Series(nb_terms_per_doc.ravel()).value_counts()"
   ]
  },
  {
   "cell_type": "code",
   "execution_count": 388,
   "metadata": {},
   "outputs": [
    {
     "data": {
      "text/plain": [
       "<matplotlib.axes._subplots.AxesSubplot at 0x2690d6eb550>"
      ]
     },
     "execution_count": 388,
     "metadata": {},
     "output_type": "execute_result"
    },
    {
     "data": {
      "image/png": "[encoded data removed]",
      "text/plain": [
       "<matplotlib.figure.Figure at 0x2690d9270b8>"
      ]
     },
     "metadata": {},
     "output_type": "display_data"
    }
   ],
   "source": [
    "pd.Series(nb_terms_per_doc.ravel()).value_counts().plot(kind='bar')"
   ]
  },
  {
   "cell_type": "code",
   "execution_count": 389,
   "metadata": {},
   "outputs": [],
   "source": [
    "idx = nb_terms_per_doc>0\n",
    "tfidf_dtm_cropped = tfidf_dtm[nb_terms_per_doc>0,:]\n",
    "Q6_corpus_fr_clean_cropped = [Q6_corpus_fr_clean[i] for i,x in enumerate(idx) if x]"
   ]
  },
  {
   "cell_type": "code",
   "execution_count": 390,
   "metadata": {},
   "outputs": [],
   "source": [
    "doc_filter_2 = nb_terms_per_doc>0\n",
    "assert(np.sum(doc_filter_2) == len(Q6_corpus_fr_clean_cropped))"
   ]
  },
  {
   "cell_type": "code",
   "execution_count": 391,
   "metadata": {},
   "outputs": [
    {
     "name": "stdout",
     "output_type": "stream",
     "text": [
      "(249, 50)\n",
      "(194, 50)\n"
     ]
    }
   ],
   "source": [
    "print(tfidf_dtm.shape)\n",
    "print(tfidf_dtm_cropped.shape)"
   ]
  },
  {
   "cell_type": "code",
   "execution_count": 392,
   "metadata": {},
   "outputs": [
    {
     "name": "stdout",
     "output_type": "stream",
     "text": [
      "249\n",
      "194\n"
     ]
    }
   ],
   "source": [
    "print(len(Q6_corpus_fr_clean))\n",
    "print(len(Q6_corpus_fr_clean_cropped))"
   ]
  },
  {
   "cell_type": "code",
   "execution_count": 393,
   "metadata": {},
   "outputs": [
    {
     "data": {
      "text/plain": [
       "['perspectiv évolution',\n",
       " 'assiduité',\n",
       " 'مافماش تكمبين و قفة و طلوع على ضهر غيرو و قلة احترام مابين بعضنا ترجمة غير متوفرة بلغة أخرى لأنها من صنع العرب فقط',\n",
       " 'image assez claire milieu pouvoir comparer',\n",
       " 'commitment',\n",
       " 'rien',\n",
       " '',\n",
       " '',\n",
       " 'payés quoi',\n",
       " 'profesionn',\n",
       " 'ailleur savent valoriser apport humain',\n",
       " 'option carriere',\n",
       " 'facilité terme procédure',\n",
       " 'corruption existe partout malheureus celle domine',\n",
       " '',\n",
       " 'mentalité',\n",
       " '',\n",
       " 'estimation potentiel',\n",
       " 'shaabha mokho mlahhim w msattik tastika bagri felhin ken f smaan ala w castro w i3aytolo bel rap w m1 fi mokho ken calson taa mariem dabegh shaab tones yaarfsh kife i3ish hyeto w shaab tones specialeme rjel keno inajmo yaamlo population jdyda f tones ti ayy rajel ken inajjim ikon adem 2 0 adem rajil hawwa first human in earth w edha lkol fyn f el toilette taa darhom w howwa yitfarrij f mia khalifa wala yitfarrij f mariem dabbegh so shaab tones meshi ala roho we need to stand up really',\n",
       " 'loin',\n",
       " 'amateur',\n",
       " 'evolution',\n",
       " 'méritocrat',\n",
       " '',\n",
       " 'rigueur',\n",
       " '',\n",
       " 'opportunie',\n",
       " 'nier entrain développer rapidement loin concurrenc coopératio développée disant chine allemagne japan',\n",
       " 'rémunérati',\n",
       " 'jai intégré milieu',\n",
       " 'pro',\n",
       " 'discipline',\n",
       " '',\n",
       " 'reconaissa paiement',\n",
       " 'fainéant',\n",
       " 'création liens sociaux',\n",
       " 'aucune idée',\n",
       " 'horizontal hiérarchie',\n",
       " 'possibilit innover censure',\n",
       " 'formation experience',\n",
       " 'argent',\n",
       " '',\n",
       " 'rentabilit',\n",
       " 'indicateur productivi quasiment absent',\n",
       " '',\n",
       " 'perfection',\n",
       " 'discipline',\n",
       " 'apprentiss actif permanent',\n",
       " 'croissance buisnes beacoup limitée lente',\n",
       " 'organisé',\n",
       " 'champs large',\n",
       " 'règles',\n",
       " 'ponctuel organisé respectueu',\n",
       " 'chose question precedente',\n",
       " 'nombre opprtunité']"
      ]
     },
     "execution_count": 393,
     "metadata": {},
     "output_type": "execute_result"
    }
   ],
   "source": [
    "# Show documents that were removed because they contain 0 vocabulary terms\n",
    "[Q6_corpus_fr_clean[i] for i,x in enumerate(idx) if not x]"
   ]
  },
  {
   "cell_type": "markdown",
   "metadata": {},
   "source": [
    "*****"
   ]
  },
  {
   "cell_type": "markdown",
   "metadata": {},
   "source": [
    "## 5) Topic Modeling using LDA method\n",
    "- **Input:** DTM matrix; corresponding vocabulary list; number of topics\n",
    "- **Output:** LDA topics"
   ]
  },
  {
   "cell_type": "code",
   "execution_count": 469,
   "metadata": {},
   "outputs": [],
   "source": [
    "dtm = tfidf_dtm_cropped\n",
    "vocab = tfidf_vocab\n",
    "Nb_Topics = 2"
   ]
  },
  {
   "cell_type": "code",
   "execution_count": 470,
   "metadata": {},
   "outputs": [],
   "source": [
    "from sklearn.decomposition import LatentDirichletAllocation"
   ]
  },
  {
   "cell_type": "code",
   "execution_count": 471,
   "metadata": {},
   "outputs": [
    {
     "name": "stdout",
     "output_type": "stream",
     "text": [
      "<class 'numpy.ndarray'>\n",
      "(2, 50)\n"
     ]
    }
   ],
   "source": [
    "# create instance of class\n",
    "lda = LatentDirichletAllocation(n_components=Nb_Topics, learning_method='online', random_state=2019)\n",
    "lda.fit(dtm)\n",
    "assert(Nb_Topics == lda.components_.shape[0])\n",
    "print(type(lda.components_))\n",
    "print(lda.components_.shape)\n",
    "lda.components_.sum(axis=1)\n",
    "lda_doc_weights = lda.transform(dtm)"
   ]
  },
  {
   "cell_type": "code",
   "execution_count": 472,
   "metadata": {},
   "outputs": [
    {
     "name": "stdout",
     "output_type": "stream",
     "text": [
      "<class 'numpy.ndarray'>\n",
      "(194, 2)\n"
     ]
    }
   ],
   "source": [
    "print(type(lda_doc_weights))\n",
    "print(lda_doc_weights.shape)"
   ]
  },
  {
   "cell_type": "code",
   "execution_count": 473,
   "metadata": {},
   "outputs": [
    {
     "data": {
      "text/plain": [
       "array([1., 1., 1., 1., 1., 1., 1., 1., 1., 1., 1., 1., 1., 1., 1., 1., 1.,\n",
       "       1., 1., 1., 1., 1., 1., 1., 1., 1., 1., 1., 1., 1., 1., 1., 1., 1.,\n",
       "       1., 1., 1., 1., 1., 1., 1., 1., 1., 1., 1., 1., 1., 1., 1., 1., 1.,\n",
       "       1., 1., 1., 1., 1., 1., 1., 1., 1., 1., 1., 1., 1., 1., 1., 1., 1.,\n",
       "       1., 1., 1., 1., 1., 1., 1., 1., 1., 1., 1., 1., 1., 1., 1., 1., 1.,\n",
       "       1., 1., 1., 1., 1., 1., 1., 1., 1., 1., 1., 1., 1., 1., 1., 1., 1.,\n",
       "       1., 1., 1., 1., 1., 1., 1., 1., 1., 1., 1., 1., 1., 1., 1., 1., 1.,\n",
       "       1., 1., 1., 1., 1., 1., 1., 1., 1., 1., 1., 1., 1., 1., 1., 1., 1.,\n",
       "       1., 1., 1., 1., 1., 1., 1., 1., 1., 1., 1., 1., 1., 1., 1., 1., 1.,\n",
       "       1., 1., 1., 1., 1., 1., 1., 1., 1., 1., 1., 1., 1., 1., 1., 1., 1.,\n",
       "       1., 1., 1., 1., 1., 1., 1., 1., 1., 1., 1., 1., 1., 1., 1., 1., 1.,\n",
       "       1., 1., 1., 1., 1., 1., 1.])"
      ]
     },
     "execution_count": 473,
     "metadata": {},
     "output_type": "execute_result"
    }
   ],
   "source": [
    "# verify that the sum of each row = 1\n",
    "lda_doc_weights.sum(axis=1)"
   ]
  },
  {
   "cell_type": "code",
   "execution_count": 474,
   "metadata": {},
   "outputs": [],
   "source": [
    "# select the first row of the lda.components_ matrix\n",
    "x = lda.components_[0,:]"
   ]
  },
  {
   "cell_type": "code",
   "execution_count": 475,
   "metadata": {},
   "outputs": [
    {
     "name": "stdout",
     "output_type": "stream",
     "text": [
      "Top 10 words for each topic:\n",
      "\n",
      "Topic 0: étranger salaire respect opportunit condition technologi profession employé domaine carrière\n",
      "Topic 1: travail profession compétence sérieux motivation etranger environnem étranger incomparab recherche\n",
      "\n"
     ]
    }
   ],
   "source": [
    "N = 10\n",
    "\n",
    "print(\"Top 10 words for each topic:\")\n",
    "print()\n",
    "\n",
    "for i in range(Nb_Topics):\n",
    "    topic_weights = lda.components_[i,:]\n",
    "    print (\"Topic %d: \" % (i), end='')\n",
    "    print (\" \".join([vocab[j]\n",
    "                    for j in topic_weights.argsort()[:-N - 1:-1]]))\n",
    "print()"
   ]
  },
  {
   "cell_type": "code",
   "execution_count": 476,
   "metadata": {},
   "outputs": [
    {
     "name": "stdout",
     "output_type": "stream",
     "text": [
      "\n",
      "Topic 0\n",
      "          term  topic_weight\n",
      "48    étranger     18.386352\n",
      "35     salaire     17.418917\n",
      "34     respect     12.377918\n",
      "25  opportunit     12.093256\n",
      "3    condition      7.895024\n",
      "40  technologi      6.899473\n",
      "30  profession      6.836725\n",
      "7      employé      5.228164\n",
      "5      domaine      5.211751\n",
      "1     carrière      5.061608\n",
      "\n",
      "Topic 1\n",
      "          term  topic_weight\n",
      "41     travail     18.722081\n",
      "30  profession     16.818920\n",
      "2   compétence      6.582000\n",
      "39     sérieux      6.328733\n",
      "21  motivation      6.284594\n",
      "12    etranger      5.972521\n",
      "11  environnem      5.081693\n",
      "48    étranger      4.655551\n",
      "17  incomparab      4.632250\n",
      "32   recherche      4.366025\n"
     ]
    }
   ],
   "source": [
    "# The top 10 words and their weights in each topic\n",
    "for i in range(0,Nb_Topics):\n",
    "    print()\n",
    "    print(\"Topic\",i)\n",
    "    print(pd.DataFrame(dict(term=vocab, topic_weight= lda.components_[i,:])).sort_values(\"topic_weight\", ascending=False).head(10))"
   ]
  },
  {
   "cell_type": "markdown",
   "metadata": {},
   "source": [
    "#### Visualize topics as word clouds"
   ]
  },
  {
   "cell_type": "code",
   "execution_count": 477,
   "metadata": {},
   "outputs": [],
   "source": [
    "from PIL import Image\n",
    "from wordcloud import WordCloud, ImageColorGenerator\n",
    "Max_Words = 30\n",
    "wc = WordCloud(width = 1000, height = 500, min_font_size=4, max_words=Max_Words)"
   ]
  },
  {
   "cell_type": "code",
   "execution_count": 478,
   "metadata": {},
   "outputs": [
    {
     "name": "stdout",
     "output_type": "stream",
     "text": [
      "Topic 0\n"
     ]
    },
    {
     "data": {
      "image/png": "[encoded data removed]",
      "text/plain": [
       "<matplotlib.figure.Figure at 0x2691155e8d0>"
      ]
     },
     "metadata": {},
     "output_type": "display_data"
    },
    {
     "name": "stdout",
     "output_type": "stream",
     "text": [
      "Topic 1\n"
     ]
    },
    {
     "data": {
      "image/png": "[encoded data removed]",
      "text/plain": [
       "<matplotlib.figure.Figure at 0x26911662be0>"
      ]
     },
     "metadata": {},
     "output_type": "display_data"
    }
   ],
   "source": [
    "MaxFont = 150\n",
    "\n",
    "for i in range(Nb_Topics):\n",
    "    print(\"Topic\",i)\n",
    "    weighted_MF = int( MaxFont * np.max(lda.components_[i,:]) / np.max(lda.components_) )\n",
    "    d = dict(zip(vocab, lda.components_[i,:]))\n",
    "    z = wc.generate_from_frequencies(d, max_font_size=weighted_MF)\n",
    "    plt.figure(figsize=(15,8))\n",
    "    plt.imshow(z)\n",
    "    plt.axis(\"off\")\n",
    "    plt.show()"
   ]
  },
  {
   "cell_type": "markdown",
   "metadata": {},
   "source": [
    "### Naming the Topics"
   ]
  },
  {
   "cell_type": "code",
   "execution_count": 491,
   "metadata": {},
   "outputs": [],
   "source": [
    "topic_names = ['Salaire', 'Conditions du travail']"
   ]
  },
  {
   "cell_type": "markdown",
   "metadata": {},
   "source": [
    "### Understand and Interpret Document Weights"
   ]
  },
  {
   "cell_type": "markdown",
   "metadata": {},
   "source": [
    "#### Visualize documents as points in topic space"
   ]
  },
  {
   "cell_type": "code",
   "execution_count": 492,
   "metadata": {},
   "outputs": [
    {
     "data": {
      "text/plain": [
       "Text(0,0.5,'Conditions')"
      ]
     },
     "execution_count": 492,
     "metadata": {},
     "output_type": "execute_result"
    },
    {
     "data": {
      "image/png": "[encoded data removed]",
      "text/plain": [
       "<matplotlib.figure.Figure at 0x26912417908>"
      ]
     },
     "metadata": {},
     "output_type": "display_data"
    }
   ],
   "source": [
    "plt.scatter(lda_doc_weights[:,0],lda_doc_weights[:,1],s=2, marker=\"o\",color='blue')\n",
    "plt.xlabel('Salaire')\n",
    "plt.ylabel('Conditions')"
   ]
  },
  {
   "cell_type": "code",
   "execution_count": 493,
   "metadata": {},
   "outputs": [
    {
     "data": {
      "text/plain": [
       "Text(0,0.5,'Conditions')"
      ]
     },
     "execution_count": 493,
     "metadata": {},
     "output_type": "execute_result"
    },
    {
     "data": {
      "image/png": "[encoded data removed]",
      "text/plain": [
       "<matplotlib.figure.Figure at 0x2690cf98ba8>"
      ]
     },
     "metadata": {},
     "output_type": "display_data"
    }
   ],
   "source": [
    "plt.scatter(lda_doc_weights[:,0],lda_doc_weights[:,1],s=1, marker=\"o\",color='green')\n",
    "plt.xlabel('Salaire')\n",
    "plt.ylabel('Conditions')"
   ]
  },
  {
   "cell_type": "markdown",
   "metadata": {},
   "source": [
    "#### Visualize dominant topic of documents\n",
    "We define the 'dominant' topic of a document as the topic with the largest weight value for that document."
   ]
  },
  {
   "cell_type": "code",
   "execution_count": 494,
   "metadata": {},
   "outputs": [],
   "source": [
    "dom_topic_weights = pd.Series(np.max(lda_doc_weights,axis=1))\n",
    "dom_topic_labels = pd.Series(np.argmax(lda_doc_weights,axis=1))"
   ]
  },
  {
   "cell_type": "code",
   "execution_count": 495,
   "metadata": {},
   "outputs": [
    {
     "data": {
      "text/plain": [
       "0    103\n",
       "1     91\n",
       "dtype: int64"
      ]
     },
     "execution_count": 495,
     "metadata": {},
     "output_type": "execute_result"
    }
   ],
   "source": [
    "dom_topic_labels.value_counts()"
   ]
  },
  {
   "cell_type": "code",
   "execution_count": 496,
   "metadata": {},
   "outputs": [
    {
     "data": {
      "text/plain": [
       "<matplotlib.axes._subplots.AxesSubplot at 0x26911411940>"
      ]
     },
     "execution_count": 496,
     "metadata": {},
     "output_type": "execute_result"
    },
    {
     "data": {
      "image/png": "[encoded data removed]",
      "text/plain": [
       "<matplotlib.figure.Figure at 0x269123a7828>"
      ]
     },
     "metadata": {},
     "output_type": "display_data"
    }
   ],
   "source": [
    "dom_topic_labels.value_counts().plot(kind='bar')"
   ]
  },
  {
   "cell_type": "code",
   "execution_count": 497,
   "metadata": {
    "scrolled": true
   },
   "outputs": [
    {
     "data": {
      "text/plain": [
       "<matplotlib.axes._subplots.AxesSubplot at 0x2691144bc50>"
      ]
     },
     "execution_count": 497,
     "metadata": {},
     "output_type": "execute_result"
    },
    {
     "data": {
      "image/png": "[encoded data removed]",
      "text/plain": [
       "<matplotlib.figure.Figure at 0x26912386208>"
      ]
     },
     "metadata": {},
     "output_type": "display_data"
    }
   ],
   "source": [
    "dom_topic_weights.plot(kind='hist')"
   ]
  },
  {
   "cell_type": "code",
   "execution_count": 498,
   "metadata": {},
   "outputs": [
    {
     "data": {
      "text/plain": [
       "count    194.000000\n",
       "mean       0.719759\n",
       "std        0.073309\n",
       "min        0.502710\n",
       "25%        0.700980\n",
       "50%        0.741256\n",
       "75%        0.760245\n",
       "max        0.854627\n",
       "dtype: float64"
      ]
     },
     "execution_count": 498,
     "metadata": {},
     "output_type": "execute_result"
    }
   ],
   "source": [
    "dom_topic_weights.describe()"
   ]
  },
  {
   "cell_type": "code",
   "execution_count": 499,
   "metadata": {},
   "outputs": [
    {
     "data": {
      "text/plain": [
       "1"
      ]
     },
     "execution_count": 499,
     "metadata": {},
     "output_type": "execute_result"
    }
   ],
   "source": [
    "np.sum((dom_topic_weights>.66) & (dom_topic_weights<.67))"
   ]
  },
  {
   "cell_type": "code",
   "execution_count": 500,
   "metadata": {},
   "outputs": [
    {
     "data": {
      "text/plain": [
       "154"
      ]
     },
     "execution_count": 500,
     "metadata": {},
     "output_type": "execute_result"
    }
   ],
   "source": [
    "# How many documents have a clearly dominant topic?\n",
    "np.sum(dom_topic_weights>=0.666)"
   ]
  },
  {
   "cell_type": "code",
   "execution_count": 501,
   "metadata": {},
   "outputs": [
    {
     "data": {
      "text/plain": [
       "0"
      ]
     },
     "execution_count": 501,
     "metadata": {},
     "output_type": "execute_result"
    }
   ],
   "source": [
    "# How many documents do not have a clearly dominant topic\n",
    "np.sum(dom_topic_weights<=0.5)"
   ]
  },
  {
   "cell_type": "code",
   "execution_count": 502,
   "metadata": {},
   "outputs": [],
   "source": [
    "# Which documents do not have a clearly dominant topic\n",
    "for i,x in enumerate(dom_topic_weights):\n",
    "    if x<=0.5:\n",
    "        print(lda_doc_weights[i,:],Q6_corpus_fr_clean_cropped[i])"
   ]
  },
  {
   "cell_type": "markdown",
   "metadata": {},
   "source": [
    "### Label each document with corresponding dominant topic"
   ]
  },
  {
   "cell_type": "code",
   "execution_count": 503,
   "metadata": {},
   "outputs": [],
   "source": [
    "# create a new column and initialize all its elements to 'Unknown'\n",
    "df['Q6_category'] = \"Unknown\""
   ]
  },
  {
   "cell_type": "code",
   "execution_count": 504,
   "metadata": {},
   "outputs": [
    {
     "data": {
      "text/plain": [
       "(258, 249, 194)"
      ]
     },
     "execution_count": 504,
     "metadata": {},
     "output_type": "execute_result"
    }
   ],
   "source": [
    "len(doc_filter_1),len(doc_filter_2),len(dom_topic_labels)"
   ]
  },
  {
   "cell_type": "code",
   "execution_count": 505,
   "metadata": {},
   "outputs": [],
   "source": [
    "j = 0\n",
    "k = 0\n",
    "for i in range(df.shape[0]):\n",
    "    if doc_filter_1[i]:\n",
    "        if doc_filter_2[j]:\n",
    "            df.loc[i,'Q6_category'] = topic_names[dom_topic_labels[k]]\n",
    "            k=k+1\n",
    "        j=j+1"
   ]
  },
  {
   "cell_type": "code",
   "execution_count": 506,
   "metadata": {},
   "outputs": [
    {
     "data": {
      "text/plain": [
       "(249, 249)"
      ]
     },
     "execution_count": 506,
     "metadata": {},
     "output_type": "execute_result"
    }
   ],
   "source": [
    "np.sum(doc_filter_1),j"
   ]
  },
  {
   "cell_type": "code",
   "execution_count": 507,
   "metadata": {},
   "outputs": [
    {
     "data": {
      "text/plain": [
       "(194, 194)"
      ]
     },
     "execution_count": 507,
     "metadata": {},
     "output_type": "execute_result"
    }
   ],
   "source": [
    "np.sum(doc_filter_2),k"
   ]
  },
  {
   "cell_type": "code",
   "execution_count": 508,
   "metadata": {},
   "outputs": [
    {
     "data": {
      "text/plain": [
       "Salaire                  103\n",
       "Conditions du travail     91\n",
       "Unknown                   64\n",
       "Name: Q6_category, dtype: int64"
      ]
     },
     "execution_count": 508,
     "metadata": {},
     "output_type": "execute_result"
    }
   ],
   "source": [
    "df['Q6_category'].value_counts()"
   ]
  },
  {
   "cell_type": "code",
   "execution_count": 509,
   "metadata": {},
   "outputs": [
    {
     "data": {
      "text/plain": [
       "<matplotlib.axes._subplots.AxesSubplot at 0x269113239b0>"
      ]
     },
     "execution_count": 509,
     "metadata": {},
     "output_type": "execute_result"
    },
    {
     "data": {
      "image/png": "[encoded data removed]",
      "text/plain": [
       "<matplotlib.figure.Figure at 0x2690cfa47b8>"
      ]
     },
     "metadata": {},
     "output_type": "display_data"
    }
   ],
   "source": [
    "df['Q6_category'].value_counts().plot(kind='bar')"
   ]
  },
  {
   "cell_type": "markdown",
   "metadata": {},
   "source": [
    "*****"
   ]
  },
  {
   "cell_type": "markdown",
   "metadata": {},
   "source": [
    "## 6) Document Clustering"
   ]
  },
  {
   "cell_type": "code",
   "execution_count": 510,
   "metadata": {},
   "outputs": [],
   "source": [
    "from sklearn.cluster import KMeans\n",
    "from sklearn.metrics import silhouette_score"
   ]
  },
  {
   "cell_type": "code",
   "execution_count": 511,
   "metadata": {},
   "outputs": [],
   "source": [
    "dtm = tfidf_dtm_cropped"
   ]
  },
  {
   "cell_type": "markdown",
   "metadata": {},
   "source": [
    "### a) Using BOW feature vectors"
   ]
  },
  {
   "cell_type": "code",
   "execution_count": 512,
   "metadata": {},
   "outputs": [
    {
     "data": {
      "text/plain": [
       "KMeans(algorithm='auto', copy_x=True, init='k-means++', max_iter=300,\n",
       "    n_clusters=2, n_init=10, n_jobs=1, precompute_distances='auto',\n",
       "    random_state=10, tol=0.0001, verbose=0)"
      ]
     },
     "execution_count": 512,
     "metadata": {},
     "output_type": "execute_result"
    }
   ],
   "source": [
    "km = KMeans(n_clusters=2, random_state=10)\n",
    "km.fit(dtm)"
   ]
  },
  {
   "cell_type": "code",
   "execution_count": 513,
   "metadata": {},
   "outputs": [
    {
     "data": {
      "text/plain": [
       "163.87305706580466"
      ]
     },
     "execution_count": 513,
     "metadata": {},
     "output_type": "execute_result"
    }
   ],
   "source": [
    "# Sum of Squared Distances:\n",
    "km.inertia_"
   ]
  },
  {
   "cell_type": "code",
   "execution_count": 514,
   "metadata": {},
   "outputs": [
    {
     "data": {
      "text/plain": [
       "0    165\n",
       "1     29\n",
       "dtype: int64"
      ]
     },
     "execution_count": 514,
     "metadata": {},
     "output_type": "execute_result"
    }
   ],
   "source": [
    "# Number of documents in each cluster\n",
    "pd.Series(km.labels_).value_counts()"
   ]
  },
  {
   "cell_type": "markdown",
   "metadata": {},
   "source": [
    "### Elbow method"
   ]
  },
  {
   "cell_type": "code",
   "execution_count": 515,
   "metadata": {},
   "outputs": [],
   "source": [
    "K_values = range(1,11)\n",
    "Sum_of_squared_distances = []   \n",
    "for k in K_values:  \n",
    "    km = KMeans(n_clusters=k, random_state=10)  \n",
    "    km.fit(dtm) \n",
    "    Sum_of_squared_distances.append(km.inertia_)"
   ]
  },
  {
   "cell_type": "code",
   "execution_count": 516,
   "metadata": {},
   "outputs": [
    {
     "data": {
      "text/plain": [
       "[<matplotlib.lines.Line2D at 0x269117c3cf8>]"
      ]
     },
     "execution_count": 516,
     "metadata": {},
     "output_type": "execute_result"
    },
    {
     "data": {
      "image/png": "[encoded data removed]",
      "text/plain": [
       "<matplotlib.figure.Figure at 0x26911757a90>"
      ]
     },
     "metadata": {},
     "output_type": "display_data"
    }
   ],
   "source": [
    "plt.plot(K_values,Sum_of_squared_distances)"
   ]
  },
  {
   "cell_type": "markdown",
   "metadata": {},
   "source": [
    "### b) Using LDA weights"
   ]
  },
  {
   "cell_type": "code",
   "execution_count": 517,
   "metadata": {},
   "outputs": [
    {
     "data": {
      "text/plain": [
       "KMeans(algorithm='auto', copy_x=True, init='k-means++', max_iter=300,\n",
       "    n_clusters=2, n_init=10, n_jobs=1, precompute_distances='auto',\n",
       "    random_state=10, tol=0.0001, verbose=0)"
      ]
     },
     "execution_count": 517,
     "metadata": {},
     "output_type": "execute_result"
    }
   ],
   "source": [
    "# create instance of KMeans class\n",
    "km2 = KMeans(n_clusters=2, random_state=10)\n",
    "\n",
    "# run kMeans algorithm\n",
    "km2.fit(lda_doc_weights)"
   ]
  },
  {
   "cell_type": "code",
   "execution_count": 518,
   "metadata": {},
   "outputs": [
    {
     "data": {
      "text/plain": [
       "2.0687956377947296"
      ]
     },
     "execution_count": 518,
     "metadata": {},
     "output_type": "execute_result"
    }
   ],
   "source": [
    "# Determine the value of SSD (Sum of Squared Distances)\n",
    "km2.inertia_"
   ]
  },
  {
   "cell_type": "code",
   "execution_count": 519,
   "metadata": {},
   "outputs": [
    {
     "data": {
      "text/plain": [
       "0    103\n",
       "1     91\n",
       "dtype: int64"
      ]
     },
     "execution_count": 519,
     "metadata": {},
     "output_type": "execute_result"
    }
   ],
   "source": [
    "# Number of documents in each cluster\n",
    "pd.Series(km2.labels_).value_counts()"
   ]
  },
  {
   "cell_type": "markdown",
   "metadata": {},
   "source": [
    "### Elbow method\n",
    "Use the 'elbow' method in order to find best number of clusters."
   ]
  },
  {
   "cell_type": "code",
   "execution_count": 520,
   "metadata": {},
   "outputs": [],
   "source": [
    "K_values = range(1,11)\n",
    "Sum_of_squared_distances2 = []\n",
    "for k in K_values:\n",
    "    km_ = KMeans(n_clusters=k, random_state=6724)   # create instance of KMeans class\n",
    "    km_.fit(lda_doc_weights)\n",
    "    Sum_of_squared_distances2.append(km_.inertia_)"
   ]
  },
  {
   "cell_type": "code",
   "execution_count": 521,
   "metadata": {},
   "outputs": [
    {
     "data": {
      "text/plain": [
       "[<matplotlib.lines.Line2D at 0x26911826b70>]"
      ]
     },
     "execution_count": 521,
     "metadata": {},
     "output_type": "execute_result"
    },
    {
     "data": {
      "image/png": "[encoded data removed]",
      "text/plain": [
       "<matplotlib.figure.Figure at 0x26911711390>"
      ]
     },
     "metadata": {},
     "output_type": "display_data"
    }
   ],
   "source": [
    "# plot the SSD curve\n",
    "plt.plot(K_values,Sum_of_squared_distances2)\n",
    "#plt.ylim([0, 50])"
   ]
  },
  {
   "cell_type": "markdown",
   "metadata": {},
   "source": [
    "On remarque que le nombre de clusters est égale à 2."
   ]
  },
  {
   "cell_type": "markdown",
   "metadata": {},
   "source": [
    "****"
   ]
  },
  {
   "cell_type": "markdown",
   "metadata": {},
   "source": [
    "### Conclusion: Topic Modeling vs. Clustering\n",
    "Based on the above results:\n"
   ]
  },
  {
   "cell_type": "markdown",
   "metadata": {},
   "source": [
    "LDA est la methode la plus adéquate to cluster the documents in this corpus.\n",
    "Each cluster represent a topic."
   ]
  },
  {
   "cell_type": "markdown",
   "metadata": {},
   "source": [
    "*****"
   ]
  },
  {
   "cell_type": "markdown",
   "metadata": {},
   "source": [
    "## 7) Predictive Modeling\n",
    "We would like to extract a predictive model of the form: ``Q1_category = f(other non-text attributes)`` which will help us understand how the answers vary based on the characteristics of the respondent.\n",
    "\n",
    "Instructions:\n",
    "- You should use the following 8 predictor attributes which are all **categorical**: 'Votre âge', 'Sexe', 'Etat civil', 'Niveau d'étude', 'Etablissement d'études', 'Situation professionnelle', 'Région', 'Domaine d'études'.\n",
    "- The ``Timestamp`` attribute is obviously useless and that is why I do not incude it in the model.\n",
    "- Because the attributes 'Etablissement d'études' and 'Domaine d'études' have a large number of unique values, you should reduce their number of values to only 5 values by aggregating the least frequent values to a single category called 'Other'.\n",
    "- After training this model, determine which of the 8 attributes are the best predictors of the Q1_category, based on the parameter values of this model.\n",
    "- You should use either the **logistic regression** or **random forest** method to approximate the function ``f``."
   ]
  },
  {
   "cell_type": "markdown",
   "metadata": {},
   "source": [
    "#### a) Prepare data"
   ]
  },
  {
   "cell_type": "code",
   "execution_count": 522,
   "metadata": {},
   "outputs": [],
   "source": [
    "df2 = df.copy()"
   ]
  },
  {
   "cell_type": "code",
   "execution_count": 523,
   "metadata": {},
   "outputs": [
    {
     "data": {
      "text/plain": [
       "Index(['Timestamp', 'Votre âge', 'Sexe', 'Etat civil', 'Niveau d'étude',\n",
       "       'Etablissement d'études', 'Situation professionnelle', 'Région',\n",
       "       'Domaine d'études'],\n",
       "      dtype='object')"
      ]
     },
     "execution_count": 523,
     "metadata": {},
     "output_type": "execute_result"
    }
   ],
   "source": [
    "df2.columns[0:9]"
   ]
  },
  {
   "cell_type": "code",
   "execution_count": 524,
   "metadata": {},
   "outputs": [
    {
     "data": {
      "text/plain": [
       "Votre âge                    object\n",
       "Sexe                         object\n",
       "Etat civil                   object\n",
       "Niveau d'étude               object\n",
       "Etablissement d'études       object\n",
       "Situation professionnelle    object\n",
       "Région                       object\n",
       "Domaine d'études             object\n",
       "dtype: object"
      ]
     },
     "execution_count": 524,
     "metadata": {},
     "output_type": "execute_result"
    }
   ],
   "source": [
    "df2.dtypes[1:9]"
   ]
  },
  {
   "cell_type": "code",
   "execution_count": 525,
   "metadata": {},
   "outputs": [
    {
     "data": {
      "text/html": [
       "<div>\n",
       "<style scoped>\n",
       "    .dataframe tbody tr th:only-of-type {\n",
       "        vertical-align: middle;\n",
       "    }\n",
       "\n",
       "    .dataframe tbody tr th {\n",
       "        vertical-align: top;\n",
       "    }\n",
       "\n",
       "    .dataframe thead th {\n",
       "        text-align: right;\n",
       "    }\n",
       "</style>\n",
       "<table border=\"1\" class=\"dataframe\">\n",
       "  <thead>\n",
       "    <tr style=\"text-align: right;\">\n",
       "      <th></th>\n",
       "      <th>Votre âge</th>\n",
       "      <th>Sexe</th>\n",
       "      <th>Etat civil</th>\n",
       "      <th>Niveau d'étude</th>\n",
       "      <th>Etablissement d'études</th>\n",
       "      <th>Situation professionnelle</th>\n",
       "      <th>Région</th>\n",
       "      <th>Domaine d'études</th>\n",
       "    </tr>\n",
       "  </thead>\n",
       "  <tbody>\n",
       "    <tr>\n",
       "      <th>0</th>\n",
       "      <td>20-25</td>\n",
       "      <td>Homme</td>\n",
       "      <td>Célibataire</td>\n",
       "      <td>Mastère</td>\n",
       "      <td>A University not appearing in this list</td>\n",
       "      <td>Etudiant</td>\n",
       "      <td>Autre</td>\n",
       "      <td>Sciences de l'Ingénieur</td>\n",
       "    </tr>\n",
       "    <tr>\n",
       "      <th>1</th>\n",
       "      <td>31 et plus</td>\n",
       "      <td>Homme</td>\n",
       "      <td>Marié</td>\n",
       "      <td>Licence</td>\n",
       "      <td>ATFP</td>\n",
       "      <td>en chômage</td>\n",
       "      <td>Grand Tunis</td>\n",
       "      <td>biologie medical</td>\n",
       "    </tr>\n",
       "    <tr>\n",
       "      <th>2</th>\n",
       "      <td>20-25</td>\n",
       "      <td>Homme</td>\n",
       "      <td>Célibataire</td>\n",
       "      <td>Licence</td>\n",
       "      <td>Autre</td>\n",
       "      <td>Etudiant</td>\n",
       "      <td>Grand Tunis</td>\n",
       "      <td>Economie et gestion</td>\n",
       "    </tr>\n",
       "    <tr>\n",
       "      <th>3</th>\n",
       "      <td>20-25</td>\n",
       "      <td>Homme</td>\n",
       "      <td>Célibataire</td>\n",
       "      <td>Licence</td>\n",
       "      <td>CFT</td>\n",
       "      <td>Etudiant</td>\n",
       "      <td>Grand Tunis</td>\n",
       "      <td>Informatique</td>\n",
       "    </tr>\n",
       "    <tr>\n",
       "      <th>4</th>\n",
       "      <td>20-25</td>\n",
       "      <td>Homme</td>\n",
       "      <td>Célibataire</td>\n",
       "      <td>Licence</td>\n",
       "      <td>Columbia University</td>\n",
       "      <td>Etudiant</td>\n",
       "      <td>Autre</td>\n",
       "      <td>Sciences humaines et sociales</td>\n",
       "    </tr>\n",
       "  </tbody>\n",
       "</table>\n",
       "</div>"
      ],
      "text/plain": [
       "    Votre âge   Sexe   Etat civil Niveau d'étude  \\\n",
       "0       20-25  Homme  Célibataire        Mastère   \n",
       "1  31 et plus  Homme        Marié        Licence   \n",
       "2       20-25  Homme  Célibataire        Licence   \n",
       "3       20-25  Homme  Célibataire        Licence   \n",
       "4       20-25  Homme  Célibataire        Licence   \n",
       "\n",
       "                    Etablissement d'études Situation professionnelle  \\\n",
       "0  A University not appearing in this list                  Etudiant   \n",
       "1                                     ATFP                en chômage   \n",
       "2                                   Autre                   Etudiant   \n",
       "3                                      CFT                  Etudiant   \n",
       "4                      Columbia University                  Etudiant   \n",
       "\n",
       "        Région               Domaine d'études  \n",
       "0        Autre        Sciences de l'Ingénieur  \n",
       "1  Grand Tunis               biologie medical  \n",
       "2  Grand Tunis            Economie et gestion  \n",
       "3  Grand Tunis                   Informatique  \n",
       "4        Autre  Sciences humaines et sociales  "
      ]
     },
     "execution_count": 525,
     "metadata": {},
     "output_type": "execute_result"
    }
   ],
   "source": [
    "df2.iloc[:,1:9].head()"
   ]
  },
  {
   "cell_type": "code",
   "execution_count": 526,
   "metadata": {},
   "outputs": [
    {
     "data": {
      "text/plain": [
       "Votre âge                     3\n",
       "Sexe                          2\n",
       "Etat civil                    2\n",
       "Niveau d'étude                3\n",
       "Etablissement d'études       83\n",
       "Situation professionnelle     3\n",
       "Région                        4\n",
       "dtype: int64"
      ]
     },
     "execution_count": 526,
     "metadata": {},
     "output_type": "execute_result"
    }
   ],
   "source": [
    "# verify the number of distinct values in each predictor attribute\n",
    "df2.iloc[:,1:8].nunique(axis=0)"
   ]
  },
  {
   "cell_type": "code",
   "execution_count": 527,
   "metadata": {},
   "outputs": [
    {
     "data": {
      "text/plain": [
       "20-25         208\n",
       "26-30          34\n",
       "31 et plus     16\n",
       "Name: Votre âge, dtype: int64"
      ]
     },
     "execution_count": 527,
     "metadata": {},
     "output_type": "execute_result"
    }
   ],
   "source": [
    "df2['Votre âge'].value_counts()"
   ]
  },
  {
   "cell_type": "code",
   "execution_count": 528,
   "metadata": {},
   "outputs": [
    {
     "data": {
      "text/plain": [
       "<matplotlib.axes._subplots.AxesSubplot at 0x26911846be0>"
      ]
     },
     "execution_count": 528,
     "metadata": {},
     "output_type": "execute_result"
    },
    {
     "data": {
      "image/png": "[encoded data removed]",
      "text/plain": [
       "<matplotlib.figure.Figure at 0x2691183d470>"
      ]
     },
     "metadata": {},
     "output_type": "display_data"
    }
   ],
   "source": [
    "df2['Votre âge'].value_counts().plot(kind='bar')"
   ]
  },
  {
   "cell_type": "code",
   "execution_count": 529,
   "metadata": {},
   "outputs": [
    {
     "data": {
      "image/png": "[encoded data removed]",
      "text/plain": [
       "<matplotlib.figure.Figure at 0x2690dc38278>"
      ]
     },
     "metadata": {},
     "output_type": "display_data"
    }
   ],
   "source": [
    "from collections import Counter\n",
    "sent = df2[\"Sexe\"]\n",
    "\n",
    "## use Counter to count how many times each sentiment appears\n",
    "## and save each as a variable\n",
    "counter = Counter(sent)\n",
    "positive = counter['Femme']\n",
    "negative = counter['Homme']\n",
    "\n",
    "## declare the variables for the pie chart, using the Counter variables for “sizes”\n",
    "labels = 'Femme', 'Hommme'\n",
    "sizes = [positive, negative]\n",
    "colors = ['green', 'red']\n",
    "yourtext = \"Femme vs Homme:\"\n",
    "\n",
    "## use matplotlib to plot the chart\n",
    "plt.pie(sizes, labels = labels, colors = colors, shadow = True, startangle = 90)\n",
    "plt.title(\" \"+yourtext)\n",
    "plt.show()"
   ]
  },
  {
   "cell_type": "code",
   "execution_count": 530,
   "metadata": {},
   "outputs": [
    {
     "data": {
      "image/png": "[encoded data removed]",
      "text/plain": [
       "<matplotlib.figure.Figure at 0x269118de668>"
      ]
     },
     "metadata": {},
     "output_type": "display_data"
    }
   ],
   "source": [
    "from collections import Counter\n",
    "sent = df2[\"Etat civil\"]\n",
    "\n",
    "## use Counter to count how many times each sentiment appears\n",
    "## and save each as a variable\n",
    "counter = Counter(sent)\n",
    "positive = counter['Célibataire']\n",
    "negative = counter['Marié']\n",
    "\n",
    "## declare the variables for the pie chart, using the Counter variables for “sizes”\n",
    "labels =  'Célibataire', 'Marié'\n",
    "sizes = [positive, negative]\n",
    "colors = ['green', 'red']\n",
    "yourtext = \"Célibataire vs marié\"\n",
    "\n",
    "## use matplotlib to plot the chart\n",
    "plt.pie(sizes, labels = labels, colors = colors, shadow = True, startangle = 90)\n",
    "plt.title(\" \"+yourtext)\n",
    "plt.show()"
   ]
  },
  {
   "cell_type": "code",
   "execution_count": 531,
   "metadata": {},
   "outputs": [
    {
     "data": {
      "text/plain": [
       "<matplotlib.axes._subplots.AxesSubplot at 0x269118ac470>"
      ]
     },
     "execution_count": 531,
     "metadata": {},
     "output_type": "execute_result"
    },
    {
     "data": {
      "image/png": "[encoded data removed]",
      "text/plain": [
       "<matplotlib.figure.Figure at 0x269117a1128>"
      ]
     },
     "metadata": {},
     "output_type": "display_data"
    }
   ],
   "source": [
    "df2['Niveau d\\'étude'].value_counts().plot(kind='bar')"
   ]
  },
  {
   "cell_type": "code",
   "execution_count": 532,
   "metadata": {},
   "outputs": [
    {
     "data": {
      "text/plain": [
       "Grand Tunis    175\n",
       "Autre           62\n",
       "Sfax            12\n",
       "Sousse           9\n",
       "Name: Région, dtype: int64"
      ]
     },
     "execution_count": 532,
     "metadata": {},
     "output_type": "execute_result"
    }
   ],
   "source": [
    "df2['Région'].value_counts()"
   ]
  },
  {
   "cell_type": "code",
   "execution_count": 533,
   "metadata": {},
   "outputs": [
    {
     "data": {
      "text/plain": [
       "INSAT                                                 86\n",
       "ENIT                                                  38\n",
       "FST                                                   14\n",
       "ESSAI                                                 11\n",
       "ENSI                                                   6\n",
       "ESPRIT                                                 6\n",
       "ISSHT                                                  5\n",
       "Issht                                                  3\n",
       "ENSIT                                                  3\n",
       "ISI                                                    3\n",
       "Esprit                                                 3\n",
       "INAT                                                   3\n",
       "ESSECT                                                 2\n",
       "FSB                                                    2\n",
       "ENIM                                                   2\n",
       "ISG                                                    2\n",
       "ULT                                                    2\n",
       "Sup'Com                                                2\n",
       "sup'com                                                1\n",
       "Télécom ParisTech                                      1\n",
       "IHEC CARTHAGE                                          1\n",
       "ESSAT                                                  1\n",
       "Autre                                                  1\n",
       "ENICARTHAGE                                            1\n",
       "Tunis Business School                                  1\n",
       "ISSAT Mateur                                           1\n",
       "ISI (institut supérieur d'informatique)                1\n",
       "Iseah                                                  1\n",
       "ISET RADES                                             1\n",
       "TU Darmstadt                                           1\n",
       "                                                      ..\n",
       "UTC                                                    1\n",
       "Time University                                        1\n",
       "Supcom                                                 1\n",
       "ATFP                                                   1\n",
       "LMD                                                    1\n",
       "Enicar                                                 1\n",
       "ESAD                                                   1\n",
       "ipeis                                                  1\n",
       "EBS                                                    1\n",
       "Iset                                                   1\n",
       "ESC Tunis                                              1\n",
       "faculté de médecine de Sousse                          1\n",
       "CFT                                                    1\n",
       "ISET'COM                                               1\n",
       "Fphm                                                   1\n",
       "ESSTST                                                 1\n",
       "ISAMM                                                  1\n",
       "Sup'Com                                                1\n",
       "Faculté des Sciences Humaines et Sociales de Tunis     1\n",
       "ISG sousse                                             1\n",
       "Esstsm                                                 1\n",
       "Columbia University                                    1\n",
       "Faculté de droit                                       1\n",
       "Université central                                     1\n",
       "Medecine                                               1\n",
       "INAT (Mastère) et ISSA-CM (Diplôme d'ingénieur)        1\n",
       "Tunis Dauphine                                         1\n",
       "FPHM                                                   1\n",
       "IPSI                                                   1\n",
       "Faculté de médecine dentaire de monastir               1\n",
       "Name: Etablissement d'études, Length: 83, dtype: int64"
      ]
     },
     "execution_count": 533,
     "metadata": {},
     "output_type": "execute_result"
    }
   ],
   "source": [
    "# The \"Etablissement d'études\" attribute also has too many distinct values!\n",
    "df2['Etablissement d\\'études'].value_counts()"
   ]
  },
  {
   "cell_type": "code",
   "execution_count": 534,
   "metadata": {},
   "outputs": [
    {
     "data": {
      "text/plain": [
       "Other    109\n",
       "INSAT     86\n",
       "ENIT      38\n",
       "FST       14\n",
       "ESSAI     11\n",
       "Name: Etablissement d'études, dtype: int64"
      ]
     },
     "execution_count": 534,
     "metadata": {},
     "output_type": "execute_result"
    }
   ],
   "source": [
    "# Let's reduce the number of values of the \"Etablissement d'études\" attribute\n",
    "df2.loc[~df2['Etablissement d\\'études'].isin(['INSAT', 'ENIT','FST','ESSAI']),'Etablissement d\\'études'] = 'Other'\n",
    "df2['Etablissement d\\'études'].value_counts()"
   ]
  },
  {
   "cell_type": "code",
   "execution_count": 535,
   "metadata": {},
   "outputs": [
    {
     "data": {
      "text/plain": [
       "Sciences de l'Ingénieur                        181\n",
       "Sciences humaines et sociales                   14\n",
       "Economie et gestion                             12\n",
       "Médecine                                         5\n",
       "Informatique                                     4\n",
       "Réseaux informatiques et télécommunications      2\n",
       "Pharmacie                                        2\n",
       "Biologie industrielle                            2\n",
       "statistiques                                     1\n",
       "Informatique industrielle                        1\n",
       "Artistique                                       1\n",
       "Santé                                            1\n",
       "Agronomie                                        1\n",
       "Sciences de l'informatique                       1\n",
       "biologie medical                                 1\n",
       "Informatique (Génie Logiciel)                    1\n",
       "Biologie                                         1\n",
       "Informatique(développement)                      1\n",
       "BIOLOGIE                                         1\n",
       "Droit                                            1\n",
       "Kinésithérapie                                   1\n",
       "Science informatique                             1\n",
       "informatique de gestion                          1\n",
       "informatique                                     1\n",
       "Reseaux informatique et telecommunication        1\n",
       "Genie civil                                      1\n",
       "Systèmes, signaux et données.                    1\n",
       "Telecommunication                                1\n",
       "statistique et analyse de l'information          1\n",
       "Informatique développement                       1\n",
       "Réseaux et télécommunication                     1\n",
       "Gestion des TIC                                  1\n",
       "Architecture                                     1\n",
       "Expertise comptable                              1\n",
       "mathématique appliquée                           1\n",
       "Chimie                                           1\n",
       "Statistique et analyse de l'information          1\n",
       "Statistique et Analyse de l'information          1\n",
       "Marketing                                        1\n",
       "Economie et ingénierie agricoles                 1\n",
       "Génie énergétique                                1\n",
       "Optique                                          1\n",
       "Expertise Comptable                              1\n",
       "Sciences humaines, psychologie                   1\n",
       "Name: Domaine d'études, dtype: int64"
      ]
     },
     "execution_count": 535,
     "metadata": {},
     "output_type": "execute_result"
    }
   ],
   "source": [
    "# The \"Domaine d'études\" attribute also has too many distinct values!\n",
    "df2['Domaine d\\'études'].value_counts()"
   ]
  },
  {
   "cell_type": "code",
   "execution_count": 536,
   "metadata": {},
   "outputs": [],
   "source": [
    "# Let's reduce the number of distinct values of the \"Domaine d'études\" attribute to only 2\n",
    "# You can use a different way of doing this (for example, reduce to 5 values instead of 2)\n",
    "df2.loc[df2['Domaine d\\'études'] != 'Sciences de l\\'Ingénieur', 'Domaine d\\'études'] = 'Other'"
   ]
  },
  {
   "cell_type": "code",
   "execution_count": 537,
   "metadata": {},
   "outputs": [
    {
     "data": {
      "text/plain": [
       "Votre âge                    3\n",
       "Sexe                         2\n",
       "Etat civil                   2\n",
       "Niveau d'étude               3\n",
       "Etablissement d'études       5\n",
       "Situation professionnelle    3\n",
       "Région                       4\n",
       "Domaine d'études             2\n",
       "dtype: int64"
      ]
     },
     "execution_count": 537,
     "metadata": {},
     "output_type": "execute_result"
    }
   ],
   "source": [
    "# verify the number of distinct values in each predictor attribute\n",
    "df2.iloc[:,1:9].nunique(axis=0)"
   ]
  },
  {
   "cell_type": "code",
   "execution_count": 538,
   "metadata": {},
   "outputs": [
    {
     "data": {
      "text/plain": [
       "Sciences de l'Ingénieur    181\n",
       "Other                       77\n",
       "Name: Domaine d'études, dtype: int64"
      ]
     },
     "execution_count": 538,
     "metadata": {},
     "output_type": "execute_result"
    }
   ],
   "source": [
    "df2['Domaine d\\'études'].value_counts()"
   ]
  },
  {
   "cell_type": "markdown",
   "metadata": {},
   "source": [
    "#### b) Pattern extraction\n"
   ]
  },
  {
   "cell_type": "markdown",
   "metadata": {},
   "source": [
    "#Check the independence between the independent variables"
   ]
  },
  {
   "cell_type": "code",
   "execution_count": 541,
   "metadata": {},
   "outputs": [
    {
     "data": {
      "text/plain": [
       "[<matplotlib.lines.Line2D at 0x26911ac9b70>]"
      ]
     },
     "execution_count": 541,
     "metadata": {},
     "output_type": "execute_result"
    },
    {
     "data": {
      "image/png": "[encoded data removed]",
      "text/plain": [
       "<matplotlib.figure.Figure at 0x269114a7320>"
      ]
     },
     "metadata": {},
     "output_type": "display_data"
    }
   ],
   "source": [
    "res_class = LogisticRegression(random_state=0, solver='lbfgs',multi_class='multinomial').fit(data3, df2['Q6_category'])\n",
    "res_class.coef_[1]\n",
    "plt.plot(res_class.coef_[1])"
   ]
  },
  {
   "cell_type": "markdown",
   "metadata": {},
   "source": [
    "## Visualization and interpretation of results"
   ]
  },
  {
   "cell_type": "code",
   "execution_count": 542,
   "metadata": {},
   "outputs": [
    {
     "data": {
      "text/plain": [
       "<matplotlib.axes._subplots.AxesSubplot at 0x26911aba7b8>"
      ]
     },
     "execution_count": 542,
     "metadata": {},
     "output_type": "execute_result"
    },
    {
     "data": {
      "image/png": "[encoded data removed]",
      "text/plain": [
       "<matplotlib.figure.Figure at 0x269119837f0>"
      ]
     },
     "metadata": {},
     "output_type": "display_data"
    }
   ],
   "source": [
    "import seaborn as sns\n",
    "sns.countplot(x='Q6_category',hue='Sexe',data=df2)"
   ]
  },
  {
   "cell_type": "code",
   "execution_count": 543,
   "metadata": {},
   "outputs": [
    {
     "data": {
      "text/plain": [
       "<matplotlib.axes._subplots.AxesSubplot at 0x26911b3e2b0>"
      ]
     },
     "execution_count": 543,
     "metadata": {},
     "output_type": "execute_result"
    },
    {
     "data": {
      "image/png": "[encoded data removed]",
      "text/plain": [
       "<matplotlib.figure.Figure at 0x26911b10400>"
      ]
     },
     "metadata": {},
     "output_type": "display_data"
    }
   ],
   "source": [
    "sns.countplot(x='Q6_category',hue='Votre âge',data=df2)"
   ]
  },
  {
   "cell_type": "code",
   "execution_count": 544,
   "metadata": {},
   "outputs": [
    {
     "data": {
      "text/plain": [
       "<matplotlib.axes._subplots.AxesSubplot at 0x26911b36cf8>"
      ]
     },
     "execution_count": 544,
     "metadata": {},
     "output_type": "execute_result"
    },
    {
     "data": {
      "image/png": "[encoded data removed]",
      "text/plain": [
       "<matplotlib.figure.Figure at 0x26911b105c0>"
      ]
     },
     "metadata": {},
     "output_type": "display_data"
    }
   ],
   "source": [
    "sns.countplot(x='Q6_category',hue='Situation professionnelle',data=df2)"
   ]
  },
  {
   "cell_type": "code",
   "execution_count": 549,
   "metadata": {},
   "outputs": [
    {
     "data": {
      "text/plain": [
       "<matplotlib.axes._subplots.AxesSubplot at 0x26911dfb240>"
      ]
     },
     "execution_count": 549,
     "metadata": {},
     "output_type": "execute_result"
    },
    {
     "data": {
      "image/png": "[encoded data removed]",
      "text/plain": [
       "<matplotlib.figure.Figure at 0x26911bb8c88>"
      ]
     },
     "metadata": {},
     "output_type": "display_data"
    }
   ],
   "source": [
    "sns.countplot(x='Q6_category',hue=\"Etat civil\",data=df2)"
   ]
  },
  {
   "cell_type": "code",
   "execution_count": 546,
   "metadata": {},
   "outputs": [
    {
     "data": {
      "text/plain": [
       "<matplotlib.axes._subplots.AxesSubplot at 0x26911c137f0>"
      ]
     },
     "execution_count": 546,
     "metadata": {},
     "output_type": "execute_result"
    },
    {
     "data": {
      "image/png": "[encoded data removed]",
      "text/plain": [
       "<matplotlib.figure.Figure at 0x26911bffc88>"
      ]
     },
     "metadata": {},
     "output_type": "display_data"
    }
   ],
   "source": [
    "sns.countplot(x='Q6_category',hue=\"Niveau d'étude\",data=df2)"
   ]
  },
  {
   "cell_type": "code",
   "execution_count": 548,
   "metadata": {},
   "outputs": [
    {
     "data": {
      "text/plain": [
       "<matplotlib.axes._subplots.AxesSubplot at 0x26911d04a20>"
      ]
     },
     "execution_count": 548,
     "metadata": {},
     "output_type": "execute_result"
    },
    {
     "data": {
      "image/png": "[encoded data removed]",
      "text/plain": [
       "<matplotlib.figure.Figure at 0x26911bb2c18>"
      ]
     },
     "metadata": {},
     "output_type": "display_data"
    }
   ],
   "source": [
    "sns.countplot(x='Q6_category',hue=\"Région\",data=df2)"
   ]
  }
 ],
 "metadata": {
  "kernelspec": {
   "display_name": "Python 3",
   "language": "python",
   "name": "python3"
  },
  "language_info": {
   "codemirror_mode": {
    "name": "ipython",
    "version": 3
   },
   "file_extension": ".py",
   "mimetype": "text/x-python",
   "name": "python",
   "nbconvert_exporter": "python",
   "pygments_lexer": "ipython3",
   "version": "3.6.4"
  }
 },
 "nbformat": 4,
 "nbformat_minor": 2
}
