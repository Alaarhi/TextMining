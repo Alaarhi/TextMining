{
 "cells": [
  {
   "cell_type": "markdown",
   "metadata": {},
   "source": [
    "## Text Mining Project Pipeline\n",
    "0. Read questionnaire data from csv file\n",
    "1. Initialize raw corpus (for example, select Q1 answers only)\n",
    "2. Text cleaning (NLTK library)\n",
    "3. Text representation using BOW-tfidf model (Scikit-learn library)\n",
    "4. Topic modeling\n",
    "5. Clustering **[optional]**\n",
    "6. Predictive modeling\n",
    "7. Visualization and interpretation of final results"
   ]
  },
  {
   "cell_type": "code",
   "execution_count": 1,
   "metadata": {},
   "outputs": [],
   "source": [
    "import pandas as pd  \n",
    "import numpy as np "
   ]
  },
  {
   "cell_type": "code",
   "execution_count": 2,
   "metadata": {},
   "outputs": [],
   "source": [
    "from matplotlib import pyplot as plt\n",
    "%matplotlib inline\n",
    "plt.rcParams['font.size'] = 14"
   ]
  },
  {
   "cell_type": "markdown",
   "metadata": {},
   "source": [
    "## 1) Read questionnaire data"
   ]
  },
  {
   "cell_type": "code",
   "execution_count": 3,
   "metadata": {},
   "outputs": [],
   "source": [
    "# Read data from a CSV file : this will return a DataFrame object\n",
    "df = pd.read_csv(\"./QuestionnaireData_12Nov2018.csv\")"
   ]
  },
  {
   "cell_type": "code",
   "execution_count": 4,
   "metadata": {
    "scrolled": true
   },
   "outputs": [
    {
     "data": {
      "text/html": [
       "<div>\n",
       "<style scoped>\n",
       "    .dataframe tbody tr th:only-of-type {\n",
       "        vertical-align: middle;\n",
       "    }\n",
       "\n",
       "    .dataframe tbody tr th {\n",
       "        vertical-align: top;\n",
       "    }\n",
       "\n",
       "    .dataframe thead th {\n",
       "        text-align: right;\n",
       "    }\n",
       "</style>\n",
       "<table border=\"1\" class=\"dataframe\">\n",
       "  <thead>\n",
       "    <tr style=\"text-align: right;\">\n",
       "      <th></th>\n",
       "      <th>Timestamp</th>\n",
       "      <th>Votre âge</th>\n",
       "      <th>Sexe</th>\n",
       "      <th>Etat civil</th>\n",
       "      <th>Niveau d'étude</th>\n",
       "      <th>Etablissement d'études</th>\n",
       "      <th>Situation professionnelle</th>\n",
       "      <th>Région</th>\n",
       "      <th>Domaine d'études</th>\n",
       "      <th>Quel est le CODE de la personne qui vous a envoyé ce formulaire ? (Cela doit etre un nombre entre 1 et 52. Ecrire \"autre\" si vous ne l'avez pas)</th>\n",
       "      <th>Q1 : Qu'est-ce qui vous ferait rester en Tunisie ?</th>\n",
       "      <th>Q2 : Quel salaire vous fera rester en Tunisie ?</th>\n",
       "      <th>Q3 : Qu'est-ce qui encouragerait les étrangers à venir en Tunisie ?</th>\n",
       "      <th>Q4 : Qu'est-ce qui vous ferait partir à l'étranger ?</th>\n",
       "      <th>Q5 : Quelle est la différence au point de vue social entre la Tunisie et l'étranger ?</th>\n",
       "      <th>Q6 : Quelle est la différence au point de vue professionnel entre la Tunisie et l'étranger ?</th>\n",
       "    </tr>\n",
       "  </thead>\n",
       "  <tbody>\n",
       "    <tr>\n",
       "      <th>0</th>\n",
       "      <td>11/2/2018 12:24</td>\n",
       "      <td>20-25</td>\n",
       "      <td>Homme</td>\n",
       "      <td>Célibataire</td>\n",
       "      <td>Mastère</td>\n",
       "      <td>A University not appearing in this list</td>\n",
       "      <td>Etudiant</td>\n",
       "      <td>Autre</td>\n",
       "      <td>Sciences de l'Ingénieur</td>\n",
       "      <td>Autre</td>\n",
       "      <td>Rien de rien</td>\n",
       "      <td>Pas une question de salaire</td>\n",
       "      <td>Digitalisation de services, meilleure infrastr...</td>\n",
       "      <td>Plus de respect enver l'homme, meilleure quali...</td>\n",
       "      <td>Mediocrité mentale, pas de respect...</td>\n",
       "      <td>Au niveau de l hierarchie das les societes, Re...</td>\n",
       "    </tr>\n",
       "    <tr>\n",
       "      <th>1</th>\n",
       "      <td>11/1/2018 16:07</td>\n",
       "      <td>31 et plus</td>\n",
       "      <td>Homme</td>\n",
       "      <td>Marié</td>\n",
       "      <td>Licence</td>\n",
       "      <td>ATFP</td>\n",
       "      <td>en chômage</td>\n",
       "      <td>Grand Tunis</td>\n",
       "      <td>biologie medical</td>\n",
       "      <td>23</td>\n",
       "      <td>Ma famille</td>\n",
       "      <td>1700 DT</td>\n",
       "      <td>je pense que le climat modéré qui séduit beauc...</td>\n",
       "      <td>je pense la recherche d opportunité</td>\n",
       "      <td>la tolérance</td>\n",
       "      <td>les perspectives d évolution</td>\n",
       "    </tr>\n",
       "    <tr>\n",
       "      <th>2</th>\n",
       "      <td>10/31/2018 10:48</td>\n",
       "      <td>20-25</td>\n",
       "      <td>Homme</td>\n",
       "      <td>Célibataire</td>\n",
       "      <td>Licence</td>\n",
       "      <td>Autre</td>\n",
       "      <td>Etudiant</td>\n",
       "      <td>Grand Tunis</td>\n",
       "      <td>Economie et gestion</td>\n",
       "      <td>3</td>\n",
       "      <td>Rien</td>\n",
       "      <td>30 000 dt</td>\n",
       "      <td>Tourisme</td>\n",
       "      <td>Mode de vie quotidienne</td>\n",
       "      <td>Mentalité</td>\n",
       "      <td>Respect</td>\n",
       "    </tr>\n",
       "    <tr>\n",
       "      <th>3</th>\n",
       "      <td>10/31/2018 13:03</td>\n",
       "      <td>20-25</td>\n",
       "      <td>Homme</td>\n",
       "      <td>Célibataire</td>\n",
       "      <td>Licence</td>\n",
       "      <td>CFT</td>\n",
       "      <td>Etudiant</td>\n",
       "      <td>Grand Tunis</td>\n",
       "      <td>Informatique</td>\n",
       "      <td>3</td>\n",
       "      <td>L'éspoir</td>\n",
       "      <td>900</td>\n",
       "      <td>Bon, je serai pas d'accord sur ce point si il ...</td>\n",
       "      <td>Les codes d'étiques</td>\n",
       "      <td>Le respect et la dignité</td>\n",
       "      <td>L'assiduité</td>\n",
       "    </tr>\n",
       "    <tr>\n",
       "      <th>4</th>\n",
       "      <td>10/31/2018 19:29</td>\n",
       "      <td>20-25</td>\n",
       "      <td>Homme</td>\n",
       "      <td>Célibataire</td>\n",
       "      <td>Licence</td>\n",
       "      <td>Columbia University</td>\n",
       "      <td>Etudiant</td>\n",
       "      <td>Autre</td>\n",
       "      <td>Sciences humaines et sociales</td>\n",
       "      <td>44</td>\n",
       "      <td>La famille</td>\n",
       "      <td>10,000 DT/mois</td>\n",
       "      <td>Le soleil</td>\n",
       "      <td>Meilleure education</td>\n",
       "      <td>La Tunisie pourrait devenir un peu plus toléra...</td>\n",
       "      <td>Le travail est plus complexe dans certains dom...</td>\n",
       "    </tr>\n",
       "  </tbody>\n",
       "</table>\n",
       "</div>"
      ],
      "text/plain": [
       "          Timestamp   Votre âge   Sexe   Etat civil Niveau d'étude  \\\n",
       "0   11/2/2018 12:24       20-25  Homme  Célibataire        Mastère   \n",
       "1   11/1/2018 16:07  31 et plus  Homme        Marié        Licence   \n",
       "2  10/31/2018 10:48       20-25  Homme  Célibataire        Licence   \n",
       "3  10/31/2018 13:03       20-25  Homme  Célibataire        Licence   \n",
       "4  10/31/2018 19:29       20-25  Homme  Célibataire        Licence   \n",
       "\n",
       "                    Etablissement d'études Situation professionnelle  \\\n",
       "0  A University not appearing in this list                  Etudiant   \n",
       "1                                     ATFP                en chômage   \n",
       "2                                   Autre                   Etudiant   \n",
       "3                                      CFT                  Etudiant   \n",
       "4                      Columbia University                  Etudiant   \n",
       "\n",
       "        Région               Domaine d'études  \\\n",
       "0        Autre        Sciences de l'Ingénieur   \n",
       "1  Grand Tunis               biologie medical   \n",
       "2  Grand Tunis            Economie et gestion   \n",
       "3  Grand Tunis                   Informatique   \n",
       "4        Autre  Sciences humaines et sociales   \n",
       "\n",
       "  Quel est le CODE de la personne qui vous a envoyé ce formulaire ? (Cela doit etre un nombre entre 1 et 52. Ecrire \"autre\" si vous ne l'avez pas)  \\\n",
       "0                                              Autre                                                                                                 \n",
       "1                                                 23                                                                                                 \n",
       "2                                                  3                                                                                                 \n",
       "3                                                  3                                                                                                 \n",
       "4                                                 44                                                                                                 \n",
       "\n",
       "  Q1 : Qu'est-ce qui vous ferait rester en Tunisie ?  \\\n",
       "0                                       Rien de rien   \n",
       "1                                         Ma famille   \n",
       "2                                               Rien   \n",
       "3                                           L'éspoir   \n",
       "4                                        La famille    \n",
       "\n",
       "  Q2 : Quel salaire vous fera rester en Tunisie ?  \\\n",
       "0                     Pas une question de salaire   \n",
       "1                                         1700 DT   \n",
       "2                                       30 000 dt   \n",
       "3                                             900   \n",
       "4                                  10,000 DT/mois   \n",
       "\n",
       "  Q3 : Qu'est-ce qui encouragerait les étrangers à venir en Tunisie ?  \\\n",
       "0  Digitalisation de services, meilleure infrastr...                    \n",
       "1  je pense que le climat modéré qui séduit beauc...                    \n",
       "2                                          Tourisme                     \n",
       "3  Bon, je serai pas d'accord sur ce point si il ...                    \n",
       "4                                          Le soleil                    \n",
       "\n",
       "  Q4 : Qu'est-ce qui vous ferait partir à l'étranger ?   \\\n",
       "0  Plus de respect enver l'homme, meilleure quali...      \n",
       "1               je pense la recherche d opportunité       \n",
       "2                           Mode de vie quotidienne       \n",
       "3                                Les codes d'étiques      \n",
       "4                                Meilleure education      \n",
       "\n",
       "  Q5 : Quelle est la différence au point de vue social entre la Tunisie et l'étranger ?  \\\n",
       "0              Mediocrité mentale, pas de respect...                                      \n",
       "1                                      la tolérance                                       \n",
       "2                                         Mentalité                                       \n",
       "3                           Le respect et la dignité                                      \n",
       "4  La Tunisie pourrait devenir un peu plus toléra...                                      \n",
       "\n",
       "  Q6 : Quelle est la différence au point de vue professionnel entre la Tunisie et l'étranger ?   \n",
       "0  Au niveau de l hierarchie das les societes, Re...                                             \n",
       "1                      les perspectives d évolution                                              \n",
       "2                                           Respect                                              \n",
       "3                                        L'assiduité                                             \n",
       "4  Le travail est plus complexe dans certains dom...                                             "
      ]
     },
     "execution_count": 4,
     "metadata": {},
     "output_type": "execute_result"
    }
   ],
   "source": [
    "df.head()"
   ]
  },
  {
   "cell_type": "code",
   "execution_count": 5,
   "metadata": {},
   "outputs": [
    {
     "data": {
      "text/html": [
       "<div>\n",
       "<style scoped>\n",
       "    .dataframe tbody tr th:only-of-type {\n",
       "        vertical-align: middle;\n",
       "    }\n",
       "\n",
       "    .dataframe tbody tr th {\n",
       "        vertical-align: top;\n",
       "    }\n",
       "\n",
       "    .dataframe thead th {\n",
       "        text-align: right;\n",
       "    }\n",
       "</style>\n",
       "<table border=\"1\" class=\"dataframe\">\n",
       "  <thead>\n",
       "    <tr style=\"text-align: right;\">\n",
       "      <th></th>\n",
       "      <th>Q5 : Quelle est la différence au point de vue social entre la Tunisie et l'étranger ?</th>\n",
       "    </tr>\n",
       "  </thead>\n",
       "  <tbody>\n",
       "    <tr>\n",
       "      <th>0</th>\n",
       "      <td>Mediocrité mentale, pas de respect...</td>\n",
       "    </tr>\n",
       "    <tr>\n",
       "      <th>1</th>\n",
       "      <td>la tolérance</td>\n",
       "    </tr>\n",
       "    <tr>\n",
       "      <th>2</th>\n",
       "      <td>Mentalité</td>\n",
       "    </tr>\n",
       "    <tr>\n",
       "      <th>3</th>\n",
       "      <td>Le respect et la dignité</td>\n",
       "    </tr>\n",
       "    <tr>\n",
       "      <th>4</th>\n",
       "      <td>La Tunisie pourrait devenir un peu plus toléra...</td>\n",
       "    </tr>\n",
       "    <tr>\n",
       "      <th>5</th>\n",
       "      <td>Les salaires sont généralement beaucoup moins ...</td>\n",
       "    </tr>\n",
       "    <tr>\n",
       "      <th>6</th>\n",
       "      <td>Education, Ignorance, Tradition, Culture, Civi...</td>\n",
       "    </tr>\n",
       "  </tbody>\n",
       "</table>\n",
       "</div>"
      ],
      "text/plain": [
       "  Q5 : Quelle est la différence au point de vue social entre la Tunisie et l'étranger ?\n",
       "0              Mediocrité mentale, pas de respect...                                   \n",
       "1                                      la tolérance                                    \n",
       "2                                         Mentalité                                    \n",
       "3                           Le respect et la dignité                                   \n",
       "4  La Tunisie pourrait devenir un peu plus toléra...                                   \n",
       "5  Les salaires sont généralement beaucoup moins ...                                   \n",
       "6  Education, Ignorance, Tradition, Culture, Civi...                                   "
      ]
     },
     "execution_count": 5,
     "metadata": {},
     "output_type": "execute_result"
    }
   ],
   "source": [
    "pd.DataFrame(df.iloc[:,14]).head(7)"
   ]
  },
  {
   "cell_type": "code",
   "execution_count": 6,
   "metadata": {},
   "outputs": [
    {
     "data": {
      "text/html": [
       "<div>\n",
       "<style scoped>\n",
       "    .dataframe tbody tr th:only-of-type {\n",
       "        vertical-align: middle;\n",
       "    }\n",
       "\n",
       "    .dataframe tbody tr th {\n",
       "        vertical-align: top;\n",
       "    }\n",
       "\n",
       "    .dataframe thead th {\n",
       "        text-align: right;\n",
       "    }\n",
       "</style>\n",
       "<table border=\"1\" class=\"dataframe\">\n",
       "  <thead>\n",
       "    <tr style=\"text-align: right;\">\n",
       "      <th></th>\n",
       "      <th>Q5 : Quelle est la différence au point de vue social entre la Tunisie et l'étranger ?</th>\n",
       "    </tr>\n",
       "  </thead>\n",
       "  <tbody>\n",
       "    <tr>\n",
       "      <th>Mentalité</th>\n",
       "      <td>4</td>\n",
       "    </tr>\n",
       "    <tr>\n",
       "      <th>la mentalité</th>\n",
       "      <td>4</td>\n",
       "    </tr>\n",
       "    <tr>\n",
       "      <th>Je ne sais pas</th>\n",
       "      <td>2</td>\n",
       "    </tr>\n",
       "    <tr>\n",
       "      <th>La tolérance</th>\n",
       "      <td>2</td>\n",
       "    </tr>\n",
       "    <tr>\n",
       "      <th>rien</th>\n",
       "      <td>2</td>\n",
       "    </tr>\n",
       "    <tr>\n",
       "      <th>Incomparable</th>\n",
       "      <td>2</td>\n",
       "    </tr>\n",
       "    <tr>\n",
       "      <th>le respect</th>\n",
       "      <td>2</td>\n",
       "    </tr>\n",
       "  </tbody>\n",
       "</table>\n",
       "</div>"
      ],
      "text/plain": [
       "                Q5 : Quelle est la différence au point de vue social entre la Tunisie et l'étranger ?\n",
       "Mentalité                                                       4                                    \n",
       "la mentalité                                                    4                                    \n",
       "Je ne sais pas                                                  2                                    \n",
       "La tolérance                                                    2                                    \n",
       "rien                                                            2                                    \n",
       "Incomparable                                                    2                                    \n",
       "le respect                                                      2                                    "
      ]
     },
     "execution_count": 6,
     "metadata": {},
     "output_type": "execute_result"
    }
   ],
   "source": [
    "pd.DataFrame(df.iloc[:,14].value_counts()).head(7)"
   ]
  },
  {
   "cell_type": "markdown",
   "metadata": {},
   "source": [
    "****"
   ]
  },
  {
   "cell_type": "markdown",
   "metadata": {},
   "source": [
    "## 2) Prepare corpus for analyzing Q5\n",
    "\n",
    "Terminology:\n",
    "- Corpus = list of documents\n",
    "- Document = string (sequence of characters)"
   ]
  },
  {
   "cell_type": "code",
   "execution_count": 7,
   "metadata": {},
   "outputs": [],
   "source": [
    "Q5_corpus = df.iloc[:,14].tolist()"
   ]
  },
  {
   "cell_type": "code",
   "execution_count": 8,
   "metadata": {},
   "outputs": [],
   "source": [
    "import re\n",
    "from nltk import FreqDist\n",
    "from tabulate import tabulate"
   ]
  },
  {
   "cell_type": "markdown",
   "metadata": {},
   "source": [
    "## 3) Data Cleaning using NLTK\n",
    "\n",
    "The Pipeline:\n",
    "1. Language identification\n",
    "2. Remove useless characters\n",
    "3. Convert to lowercase\n",
    "4. Tokenization\n",
    "5. Stemming"
   ]
  },
  {
   "cell_type": "markdown",
   "metadata": {},
   "source": [
    "### Language identification\n"
   ]
  },
  {
   "cell_type": "code",
   "execution_count": 9,
   "metadata": {},
   "outputs": [],
   "source": [
    "# Load library module for language identification\n",
    "from nltk.classify.textcat import TextCat\n",
    "\n",
    "# You will have to download some resources the first time that you use this library\n",
    "import nltk\n",
    "#nltk.download('crubadan')"
   ]
  },
  {
   "cell_type": "code",
   "execution_count": 10,
   "metadata": {},
   "outputs": [],
   "source": [
    "# create class instance\n",
    "tc = TextCat()"
   ]
  },
  {
   "cell_type": "code",
   "execution_count": 11,
   "metadata": {},
   "outputs": [
    {
     "name": "stdout",
     "output_type": "stream",
     "text": [
      "Mediocrité mentale, pas de respect...\n",
      "glg\n"
     ]
    }
   ],
   "source": [
    "# quick test on first document in corpus\n",
    "print(Q5_corpus[0])\n",
    "print(tc.guess_language(Q5_corpus[0]))"
   ]
  },
  {
   "cell_type": "markdown",
   "metadata": {},
   "source": [
    "#  First method to identify Language"
   ]
  },
  {
   "cell_type": "code",
   "execution_count": 150,
   "metadata": {},
   "outputs": [],
   "source": [
    "#import detectlanguage\n",
    "\n",
    "#detectlanguage.configuration.api_key = \"4b5995068d0483e35b610d91fd551e05\"\n",
    "\n",
    "# Enable secure mode (SSL) if you are passing sensitive data\n",
    "# detectlanguage.configuration.secure = True\n",
    "\n",
    "#detectlanguage.detect(\"Buenos dias señor\")\n",
    "#for doc in Q6_corpus:\n",
    " #   res1 =[detectlanguage.detect(doc)]\n",
    "    #print(doc)"
   ]
  },
  {
   "cell_type": "markdown",
   "metadata": {},
   "source": [
    "#  Second method to identify Language"
   ]
  },
  {
   "cell_type": "code",
   "execution_count": 13,
   "metadata": {},
   "outputs": [],
   "source": [
    "res = [tc.guess_language(doc) for doc in Q5_corpus]"
   ]
  },
  {
   "cell_type": "code",
   "execution_count": 14,
   "metadata": {},
   "outputs": [
    {
     "data": {
      "text/plain": [
       "fra     200\n",
       "lld      21\n",
       "eng       6\n",
       "eng       5\n",
       "cat       4\n",
       "fur       3\n",
       "lnc       3\n",
       "kha       2\n",
       "luo       2\n",
       "glv       1\n",
       "fri       1\n",
       "ita       1\n",
       "tpi       1\n",
       "bug       1\n",
       "pau       1\n",
       "glg       1\n",
       "ssw       1\n",
       "swe       1\n",
       "abk       1\n",
       "rcf       1\n",
       "ina       1\n",
       "dtype: int64"
      ]
     },
     "execution_count": 14,
     "metadata": {},
     "output_type": "execute_result"
    }
   ],
   "source": [
    "pd.Series(res).value_counts()"
   ]
  },
  {
   "cell_type": "code",
   "execution_count": 15,
   "metadata": {},
   "outputs": [
    {
     "data": {
      "text/plain": [
       "<matplotlib.axes._subplots.AxesSubplot at 0x27cd8ff9278>"
      ]
     },
     "execution_count": 15,
     "metadata": {},
     "output_type": "execute_result"
    },
    {
     "data": {
      "image/png": "[encoded data removed]",
      "text/plain": [
       "<matplotlib.figure.Figure at 0x27cd8fcb7f0>"
      ]
     },
     "metadata": {},
     "output_type": "display_data"
    }
   ],
   "source": [
    "pd.Series(res).value_counts().plot(kind='bar')"
   ]
  },
  {
   "cell_type": "code",
   "execution_count": 16,
   "metadata": {},
   "outputs": [
    {
     "data": {
      "text/plain": [
       "[('fra', 'la tolérance '),\n",
       " ('fra', 'Le respect et la dignité'),\n",
       " ('fra', 'La Tunisie pourrait devenir un peu plus tolérante.'),\n",
       " ('fra',\n",
       "  \"Les salaires sont généralement beaucoup moins que à l'étranger dans le même domaine, en effet, un médecin en tunisie est beaucoup moins payé par rapport à un médecin à l'étranger. \"),\n",
       " ('fra', 'La liberté et la qualité de vie'),\n",
       " ('fra', \"le mode de vie - le pouvoir d'achat - \"),\n",
       " ('fra',\n",
       "  \"\\nLa différence réside en la mentalité et la qualité de vie.\\nEn tunisie, beaucoup de saleté dans les rues,  l’irrespect envers les filles, etc. On trouve des administrations qui sont nulles!..\\nEn outre, à l'étranger les services sont beaucoup plus mieux qu'en Tunisie surtout pour les systèmes de santé et c'est de point de vue qualité, accessibilité, efficacité voire égalité. A l'étranger, les systèmes de santé se base principalement sur le critère du respect du droit des patients à l'accès aux soins.\"),\n",
       " ('fra',\n",
       "  \"Les liens sociaux entre les tunisiens sont plus forts / La sécurité et le respect de la loi forgent l'identité sociale des pays étrangers \"),\n",
       " ('fra', \"le pouvoir d'achat en tunisie est très faible.\"),\n",
       " ('fra', 'La valeur d homme'),\n",
       " ('fra', 'Plus de tolérance.'),\n",
       " ('fra',\n",
       "  \"Ils sont plus organisés, plus développés mais les relations interpersonnelles ne sont pas aussi étroites qu'n Tunisie. \"),\n",
       " ('fra',\n",
       "  \"niveau de vie , 1500 dinar de salaire permet pas de vivre une vie autonome et décente et ça ne reflète pas nos sacrifices et l'étude qu'on a fait pour arriver à devenir un ingénieur \"),\n",
       " ('fra', 'plus de stabilité et plus de civisme'),\n",
       " ('fra',\n",
       "  'Les Tunisiens sont chaleureux, par contre les Français on sent leur froideur et indifférence'),\n",
       " ('fra', 'La communauté tunisienne est conservative.'),\n",
       " ('fra', \"La mentalité et l'esprit de foule dans la tunisie\"),\n",
       " ('fra', \"Le respect de l'autre ( Europe > Arabe )\"),\n",
       " ('fra', 'niveau sociale'),\n",
       " ('fra', 'Liberté, pas de préjuger et complexe religieuse '),\n",
       " ('fra', 'les comportements des gens'),\n",
       " ('fra', 'les valeurs des habitants'),\n",
       " ('fra',\n",
       "  \"Ca dépend de quel étranger on parle. Mais ça n’empêche, en gros, le législateur tunisien doit sans doute améliorer son système social et c'est une priorité, mais pas LA priorité.\"),\n",
       " ('fra',\n",
       "  'Ça vas dépendre du pays. Mais un grand nombre de pays sont plus tolérants et acceptent plus les libertés individuelles.'),\n",
       " ('fra', \"Mentalité de travail et d'entraide\"),\n",
       " ('fra',\n",
       "  'En tunisie on se sent chez soi, bien entouré par sa famille et amis '),\n",
       " ('fra',\n",
       "  \"le niveau de vie sociale en tunisie est difficile de vivre par rapport au niveau. Si vous etes dans un pays etranger avec le meme metier , la condition sera plus a l'aise\\n\"),\n",
       " ('fra',\n",
       "  \"Ouverture d’esprit et travailler dur. Mais, l'avantage de la société tunisienne est qu'on sache comment profiter et s'amuser.\"),\n",
       " ('fra', 'le niveau de conscience/la montalité'),\n",
       " ('fra', ' La mentalité et le niveau de vie '),\n",
       " ('fra', 'Ailleurs, un certain niveau de vie et garanti.'),\n",
       " ('fra',\n",
       "  'Accepter les différences, avoir un esprit ouvert, le respect mutuel entre les gens, se bénéficier de nos droits en prenant compte de nos devoirs et nos responsabilités envers les autres..ce qui malheureusement manque en Tunisie'),\n",
       " ('fra', 'Niveau de vie médiocre'),\n",
       " ('fra', \"Ouverture d'esprit\"),\n",
       " ('fra', \"L'éthique de travail et la mentalité de respect\"),\n",
       " ('fra', \"La crise d'identité pour la majorité des tunisiens\\n\"),\n",
       " ('fra', 'Les mentalités '),\n",
       " ('fra', 'Manque de respect de Loi  '),\n",
       " ('fra', \"tout dépend qu'est ce que on veut dire par l’étranger \"),\n",
       " ('fra',\n",
       "  'En Tunisie, les hommes ont beaucoup moins des droits que les femmes.'),\n",
       " ('fra', 'on doit changer notre mentalite'),\n",
       " ('fra', 'Respect, dignité, liberté'),\n",
       " ('fra', \"Eux ils interdisent pas la vente de l'alcool le vendredi.  \"),\n",
       " ('fra',\n",
       "  'Entre la famille, les amis, la langue maternelle et le travail, on oublie parfois qu’il existe d’autres pays où la conception de la vie peut être différente.Une nouvelle langue, une nouvelle culture, de nouvelles rencontres, ce sont ces différents aspects de la vie même qui vont vous enrichir pour le reste de votre vie et qui  vont vous pousser à surmonter vos peurs et franchir le cap de l’expatriation.'),\n",
       " ('fra', 'Respect entre individus, qualité de services et produits, équité'),\n",
       " ('fra', 'Le niveau de vie'),\n",
       " ('fra',\n",
       "  'la Tunisie souffre du manque de la tolérance, du respect du civisme et de la joie de vivre, et subit une dépression nationale: le moral est à plat pour tout le monde affectant ainsi leur quotidien.'),\n",
       " ('fra', 'la tolérance '),\n",
       " ('fra',\n",
       "  'Ceci dépend du pays en question avec lequel on compare la société Tunisienne qui est très diversifier.'),\n",
       " ('fra', \"Plus de liberté à l'étranger pour faire ses choix sans être jugé\"),\n",
       " ('fra', \"Tu as plus de liberté à l'étranger.\"),\n",
       " ('fra', \"La maintenace d'une vie humble\"),\n",
       " ('fra', 'la sécurité '),\n",
       " ('fra',\n",
       "  \"Les relations humaines et L'esprit de groupe sont plus développés en Tunisie \"),\n",
       " ('fra', 'les gens à letranger sont civilisés et respectueux '),\n",
       " ('fra', 'Je ne sais pas'),\n",
       " ('fra', 'La mortalité de travail le respect des autre'),\n",
       " ('fra', 'la société'),\n",
       " ('fra', \"l'esprit de vivre\"),\n",
       " ('fra', \"Le respect de l'être humain à l'étranger qui manque en Tunisie\"),\n",
       " ('fra',\n",
       "  \"A l'étranger, il existe une optimisation dans l'exploitation des richesses du pays.\"),\n",
       " ('fra',\n",
       "  'Le statut des kinésithérapeutes est beaucoup plus important, la difference entre les salaires est énorme, le style de vie est plus beau '),\n",
       " ('fra',\n",
       "  \"la discipline, le respect de l'autre, la dignité, le civisme, le patriotisme (tout ce que je viens de citer est manquant en Tunisie)\"),\n",
       " ('fra',\n",
       "  \"Ponctualité, organisation, respect... (ici c'est comme nous sommes des esclaves).\"),\n",
       " ('fra', \"Pouvoir d'achat et libertés individuelles\"),\n",
       " ('fra', \"ailleurs c'est le paradis \"),\n",
       " ('fra', 'Le smic en Tunisie est très limité par rapport aux pays étrangers '),\n",
       " ('fra', 'La justice et les droits de chaque personne'),\n",
       " ('fra', 'Une meilleure parité en matière de compétence'),\n",
       " ('fra', 'Au sein de la Tunisie, il nous manque de moral.'),\n",
       " ('fra', 'La mentalité du peuple'),\n",
       " ('fra', \"L'ouverture d'esprit\"),\n",
       " ('fra', 'tous'),\n",
       " ('fra', 'Meilleure. Conscience sociale populsions plus civilisée '),\n",
       " ('fra',\n",
       "  'La mentalité sur le niveau professionnel et social ainsi que le niveau de vie'),\n",
       " ('fra', \"La diversité culturelle à l'étranger \"),\n",
       " ('fra', 'les mentalités !! '),\n",
       " ('fra',\n",
       "  'la mentalité diffère et en Tunisie il existe une crise identitaire '),\n",
       " ('fra', '+++ Mentalité , le niveau de vie ,et même le mode de vie '),\n",
       " ('fra',\n",
       "  \" l'union et l'empathie  et l'hospitalité et la chaleur tunisienne  n'existe pas à l’étranger.\"),\n",
       " ('fra',\n",
       "  \"La qualité de vie à l'étranger est bien meilleure, par exemple éducation, santé ...\"),\n",
       " ('fra', \"l'environnement \"),\n",
       " ('fra', 'le salaire,la liberté et la decouverte des nouveaux pays'),\n",
       " ('fra',\n",
       "  \"Le coté sociétale est gorgé de défauts et d'avantages  en Tunisie et à l’étranger\"),\n",
       " ('fra', 'Séloigner de la famille'),\n",
       " ('fra', 'qualité de vie'),\n",
       " ('fra', 'Mentalité , liberté individuelle , civisme '),\n",
       " ('fra',\n",
       "  \"Ils ont un niveau de vie beaucoup plus mieux que le notre, ils ont l'air d'être indifférents de tous ce qui se passe dans ta vie, sont des gens civilisés et ceci se voit même ddans leurs poubelles à rejet selectif. C'est vrai que ça semble attractif.. mais pas pour moi. Je pense qu'on est capables d'être mieux aussi. Les tunisiens là-bas mettent le plastique dans les corbeilles de recyclage, ici ils le jettent en mer près de 5m de la poubelles. Il ya pas donc une différence à l'échelle sociale, mais plutôt dans les esprits des gens.\"),\n",
       " ('fra',\n",
       "  'Barbarisme \\nManque de respect pour la loi\\nNiveau de vie\\nLes problemes financieres\\nLes droits \\nLa tolerance'),\n",
       " ('fra', 'tolerance \\nesprit\\n'),\n",
       " ('fra', 'La tolérance '),\n",
       " ('fra', \"A l'étranger on trouve plus de respect.\"),\n",
       " ('fra', 'Le respect de l’art, la culture et l’éducation '),\n",
       " ('fra', 'Éthique, mentalité, '),\n",
       " ('fra', 'Niveau de vie '),\n",
       " ('fra', \"A l'étranger les gens sont plus sociaux et font bien la bienvenue\"),\n",
       " ('fra', 'Les Tunisiens sont plus chaleureux que les gens à étrangers'),\n",
       " ('fra', 'Les étrangers font preuve de leurs principes.'),\n",
       " ('fra', 'le peuple étranger sont plus mature que le notre'),\n",
       " ('fra', 'nous avons une excellente vie sociale en Tunisie'),\n",
       " ('fra', 'Le niveau de vie est mieux que ici'),\n",
       " ('fra',\n",
       "  \"Il suffit de voir, les parents encourages leurs enfants à reussir leurs études dans l'espoir de quiter le pay\"),\n",
       " ('fra', 'La famille'),\n",
       " ('fra', 'La tolérance '),\n",
       " ('fra', 'La mentalité, le respect'),\n",
       " ('fra', 'Société plus autonome'),\n",
       " ('fra',\n",
       "  \"La valorisation de l'être, le respect mutuel à l'étranger\\nEn contre partie les valeurs de solidarité et la capacité d'adaptation en Tunisie. \"),\n",
       " ('fra', \"ouverture d'esprit \"),\n",
       " ('fra',\n",
       "  \"c'est le truc le plus décourageant pour la Tunisie. il faut changer la mentalité de tout un peuple pour qu'on puisse arriver à vivre avec les normes des Europeans par exemple.\"),\n",
       " ('fra', \"L'application des lois\"),\n",
       " ('fra',\n",
       "  'En tunisie il y a un manque énorme de civisme et de responsabilité '),\n",
       " ('fra', 'Routine / Pas de sens ni gout de vivre'),\n",
       " ('fra', \"Faciliter de partager l'information et l'encouragement \"),\n",
       " ('fra',\n",
       "  'Socialement parlant, la Tunisie est un pays où les habitants sont plus coopératifs, plus aceuillants, chaleureux, moins sérieux.'),\n",
       " ('fra', 'Une différence de mentalité '),\n",
       " ('fra',\n",
       "  \"les Tunisien n'ont aucun respect aux autres et n'acceptent pzs la différence. A l'etranger oersonne ne se mele de tes affaires, chacun pour soi dieu pour tous.\"),\n",
       " ('fra',\n",
       "  \"En Tunisie, on parle la meme langue, les memes habitudes, les memes valeurs et coutumes. On se trouve entouré de sa familles, ses amis et les gens qu'on aime. L'ambaince est chaleureuse et surtout pendant les fetes religieuses (Ramadan, Aid, ...). Tandis q'à l'etranger, on se trouve seul, entouré de gens qui ne nous partagent pas les memes habitudes, valeurs ..etc et il arrive qu'on nous maltraite/traite avec racisme.\"),\n",
       " ('fra', \"L'ingénieur est plus valorisé a l étranger\"),\n",
       " ('fra', \"meilleur niveau de vie à l'étranger\"),\n",
       " ('fra', 'La mentalité,  niveau de vie'),\n",
       " ('fra',\n",
       "  \"On ne cultive pas la difference, on rejette souvent l'autre, on juge constamment, on se sent opprime\"),\n",
       " ('fra', 'Le respect du droit'),\n",
       " ('fra',\n",
       "  \"À l'étranger la société est ouverte. On peut nous exprimer; parler de nos ambitions sans être banalisé. Bouger sans être mis sous les projecteurs.\"),\n",
       " ('fra', \"Les salaires à l'étranger sont meilleurs, le niveau de vie\"),\n",
       " ('fra', 'stabilité sociale'),\n",
       " ('fra',\n",
       "  \"Plus de racisme à l'étranger mais aussi plus de libertés. La vie sociale à l'étranger peut être un peu difficile car c'est pas évident de se faire des amis ou de tomber sur de bonnes personnes.\"),\n",
       " ('fra', 'Je sais pas'),\n",
       " ('fra',\n",
       "  \"Les mentalités arriérées de certaines personnes et certaines lois en Tunisie sont d'un autre siècle\"),\n",
       " ('fra', 'Qualité de vie'),\n",
       " ('fra', \"l'organisation, niveau de la mentalité, respet, qualité de vie.\"),\n",
       " ('fra', 'Le respect '),\n",
       " ('fra',\n",
       "  \"Les gens sont moins frustrés, moins fainéants et plus civilisés à l'étranger\"),\n",
       " ('fra', 'Niveau de vie plus élevé'),\n",
       " ('fra',\n",
       "  \"L'organisation, la digitalisation de tous les services, le respect... \"),\n",
       " ('fra', 'niveau de vie'),\n",
       " ('fra', 'Mode de vie différent mentalité différente '),\n",
       " ('fra', 'Le respect mutuel'),\n",
       " ('fra',\n",
       "  \"Tout depend du pays a l'etranger !! Il faut preciser le pays ou au moins la zone geographique. \"),\n",
       " ('fra', \"Cosmopolitisme, ouverture d'esprit, progressisme\"),\n",
       " ('fra', 'Ressources et culture de travail surtout'),\n",
       " ('fra',\n",
       "  'soutien positif, ils croient en vous, chacun a une chance équivalente de réussir, les gens ont plus de conscience...'),\n",
       " ('fra', 'Les Tunisiens sont Chaleureux.'),\n",
       " ('fra', 'plus de libertés'),\n",
       " ('fra',\n",
       "  \"l'acceptation de l'autre / l'absence de notion de coutumes et traditions\"),\n",
       " ('fra',\n",
       "  \"l'etranger est plus ouvert et les gens sont est cultive qu'ici et cest la conscience d'être en groupe qui reigne le respect pour les autre et l'environnement mais en tunisie ça n'existe pas mais les gens en tunisie sont plus serviable et ils s'aident entre eux \"),\n",
       " ('fra',\n",
       "  \"on compare l 'incomparables\\n ce qui me fait peur c'est la nouvelle tendance d'indifférence que je trouve chez la communauté envers des faits considéré inacceptables ...\"),\n",
       " ('fra',\n",
       "  \"Je ne sais pas, mais j'imagine qu'il y aurait une différente mentalité\"),\n",
       " ('fra', 'ils sont plus open minded'),\n",
       " ('fra', 'le respect, la paix , la generosite'),\n",
       " ('fra', \"En général, ils respectent les humains à l'étranger\"),\n",
       " ('fra', \"Ce n'est même pas comparable\"),\n",
       " ('fra',\n",
       "  'La mentalité, ici tu te trouvera au prison juste pour un tout petit bisou :)'),\n",
       " ('fra', 'La societe etrangere est generalement meilleur'),\n",
       " ('fra', \"une meilleur mode et niveau de vie à l'étranger\"),\n",
       " ('fra',\n",
       "  \"à l'étranger, l'amalgame culturel est plus flagrant. En Tunisie, on n'a qu'une seule couleur, le tunisien\"),\n",
       " ('fra', 'nos traditions, la famille, la langue..'),\n",
       " ('fra',\n",
       "  \"C'est clair que le salaire pour un ingénieur par exemple en Tunisie est le grand problème qu'il l'affronte. Un salaire satisfaisant vous aide certainement à bien mener votre vie sociale.\"),\n",
       " ('fra', \"relations froides a l'etranger et surtout le racisme \"),\n",
       " ('fra', 'La niveau de vie'),\n",
       " ('fra', 'la famille'),\n",
       " ('fra',\n",
       "  \"les moeurs se diffèrent, l'attitude d'un étranger est différente du tunisien qui se mêle des affaires des autres\"),\n",
       " ('fra', 'La mentalité ,le savoir vivre précisément '),\n",
       " ('fra', 'Je ne sais pas'),\n",
       " ('fra', 'Respectueuse,développer '),\n",
       " ('fra', 'le chaumage , le travail '),\n",
       " ('fra', 'La sécurité et la transparence'),\n",
       " ('fra', 'La culture de travail '),\n",
       " ('fra', 'je ne sais pas'),\n",
       " ('fra', 'la mentalité de respect '),\n",
       " ('fra', 'La mentalité du popularion'),\n",
       " ('fra', \"L'empathie et le respect\"),\n",
       " ('fra', \"avec les tunisiens c'est mieux\"),\n",
       " ('fra', 'plus organisé '),\n",
       " ('fra', 'Civilisation et sécurité '),\n",
       " ('fra', 'religion , mentalité , esprit de travaille , '),\n",
       " ('fra', 'La mauvaise mentalité qui est malheureusement dominante ces jours.'),\n",
       " ('fra', 'Les libertés individuelles'),\n",
       " ('fra',\n",
       "  'La mentalité des gens y compris le respect de la face, chacun se mêle de sa propre vie etc ..'),\n",
       " ('fra', 'Niveau de vie; sécurité sociale; moyens de divertissement ...'),\n",
       " ('fra',\n",
       "  \"Plus ouvert d'esprit l'étranger moins de préjugés moins de tnasniss chacun s'occupe de ses oignons\"),\n",
       " ('fra', 'La mentalité et le mode de vie'),\n",
       " ('fra', 'Tolérance'),\n",
       " ('fra', 'Beaucoup plus civilisé '),\n",
       " ('fra',\n",
       "  \"La question doit ètre : y a-t- il un pont commun, au point de vue social, entre la tunisie et l'etranger? \"),\n",
       " ('fra',\n",
       "  'En Tunisie on valorise plus les liens familles et les relations humaines sont plus faciles à établir.'),\n",
       " ('fra',\n",
       "  'le niveau de conscience générale de la société  ,les services administratifs, le transport; '),\n",
       " ('fra', 'plus développée ailleurs , conduite de peuple '),\n",
       " ('fra',\n",
       "  'Au point de vue social je pense que vivre à la tunisie est mieux que vivre ailleurs personnellement je ne peut-être alaise que dans mon pays ou je suis loin de racisme et entouré par ma famille '),\n",
       " ('fra',\n",
       "  \"A l'étranger ils sont plus desciplinés : Is respectent le temps mais il'y a un peu de racisme\"),\n",
       " ('fra',\n",
       "  \"Les mentalités diffèrent. L'administration à l'étranger est nettement plus rapide et flexible.  \"),\n",
       " ('fra',\n",
       "  'Vie compliqué dans la Tunisie,  mauvais relation entre les gens ,  inflation '),\n",
       " ('fra', 'Tous est différant '),\n",
       " ('fra',\n",
       "  \"En Tunisie on souffre d'une instabilité sociale et d'un déséquilibre économique \"),\n",
       " ('fra', 'La qualité de vie '),\n",
       " ('fra', 'la stabilité, niveau de vie , culture , maturité  , etc ....'),\n",
       " ('fra', 'Des gens plus respectueux et civilisés'),\n",
       " ('fra', 'Mode de vie et salaire'),\n",
       " ('fra', 'Le respect'),\n",
       " ('fra', \"Généralement il y'a peu de respect pour l'employé\"),\n",
       " ('fra',\n",
       "  'Tout dépend de ce que l\\'on veut dire par \"à l’étranger\". la question est trop vague.')]"
      ]
     },
     "execution_count": 16,
     "metadata": {},
     "output_type": "execute_result"
    }
   ],
   "source": [
    "[(res[i],doc) for i,doc in enumerate(Q5_corpus) if res[i] == 'fra']"
   ]
  },
  {
   "cell_type": "code",
   "execution_count": 17,
   "metadata": {},
   "outputs": [],
   "source": [
    "# a quick heuristic method for removing non-French documents from corpus\n",
    "Q5_corpus_fr = [doc for i,doc in enumerate(Q5_corpus) if res[i] != 'eng']"
   ]
  },
  {
   "cell_type": "code",
   "execution_count": 18,
   "metadata": {},
   "outputs": [
    {
     "data": {
      "text/plain": [
       "[True, True, True, True, True]"
      ]
     },
     "execution_count": 18,
     "metadata": {},
     "output_type": "execute_result"
    }
   ],
   "source": [
    "doc_filter_1 = [res[i] != 'eng' for i,doc in enumerate(Q5_corpus)]\n",
    "assert(np.sum(doc_filter_1) == len(Q5_corpus_fr))\n",
    "doc_filter_1[0:5]"
   ]
  },
  {
   "cell_type": "markdown",
   "metadata": {},
   "source": [
    "### Remove non-word characters + Convert to lowercase + Tokenize"
   ]
  },
  {
   "cell_type": "code",
   "execution_count": 152,
   "metadata": {},
   "outputs": [],
   "source": [
    "# This tokenization method throws away all non-word characters (word characters = letters, digits, _ )\n",
    "from nltk.tokenize import RegexpTokenizer\n",
    "tokenizer = RegexpTokenizer('[^_\\W]+')"
   ]
  },
  {
   "cell_type": "code",
   "execution_count": 151,
   "metadata": {},
   "outputs": [],
   "source": [
    "Q5_corpus_fr_words = [tokenizer.tokenize(doc.lower()) for doc in Q5_corpus_fr]"
   ]
  },
  {
   "cell_type": "markdown",
   "metadata": {},
   "source": [
    "### Remove stopwords\n",
    "We will use NLTK's default list of stop worsd for the French language."
   ]
  },
  {
   "cell_type": "code",
   "execution_count": 21,
   "metadata": {},
   "outputs": [
    {
     "name": "stderr",
     "output_type": "stream",
     "text": [
      "[nltk_data] Downloading package stopwords to\n",
      "[nltk_data]     C:\\Users\\alaa\\AppData\\Roaming\\nltk_data...\n",
      "[nltk_data]   Package stopwords is already up-to-date!\n"
     ]
    },
    {
     "data": {
      "text/plain": [
       "True"
      ]
     },
     "execution_count": 21,
     "metadata": {},
     "output_type": "execute_result"
    }
   ],
   "source": [
    "from nltk.corpus import stopwords\n",
    "import nltk\n",
    "nltk.download('stopwords')"
   ]
  },
  {
   "cell_type": "code",
   "execution_count": 22,
   "metadata": {},
   "outputs": [],
   "source": [
    "stop_words_fr = stopwords.words('french')"
   ]
  },
  {
   "cell_type": "code",
   "execution_count": 23,
   "metadata": {
    "scrolled": true
   },
   "outputs": [
    {
     "name": "stdout",
     "output_type": "stream",
     "text": [
      "286\n"
     ]
    }
   ],
   "source": [
    "newStopWords = ['les','alors','alors' ,'au', 'aucuns' ,'aussi', 'autre', 'avant', 'avec', 'avoir', 'bon', 'car', 'ce', 'cela',\n",
    "                'ces', 'ceux', 'chaque', 'ci', 'comme','comment' ,'dans', 'des', 'du' ,'dedans', 'dehors','depuis', 'devrait', \n",
    "                'doit', 'donc', 'dos', 'début', 'elle','elles', 'en' ,'encore' ,'essai', 'est','et' ,'eu', 'fait', 'faites', \n",
    "                'fois', 'font', 'hors', 'ici', 'il', 'ils', 'je','juste' ,'la', 'le', 'les', 'leur', 'là', 'ma', 'maintenant',\n",
    "                'mais', 'mes', 'mine' ,'moins' ,'mon' ,'mot' ,'même', 'ni', 'nommés', 'notre', 'nous', 'ou', 'où', 'par',\n",
    "                'parce', 'pas', 'peut' ,'peu', 'plupart', 'pour','pays', 'pourquoi', 'quand' ,'que', 'quel', 'quelle' ,'quelles' ,\n",
    "                'quels', 'qui' ,'sa', 'sans' ,'ses', 'seulement', 'si', 'sien', 'son', 'sont', 'sous' ,'soyez', 'sujet',\n",
    "                'sur', 'ta', 'tandis' ,'tellement', 'tels', 'tes' ,'ton' ,'tous', 'tout', 'trop', 'très' ,'tu', 'voient',\n",
    "                'vont', 'votre', 'vous', 'vu', 'ça', 'étaient','état', 'étions', 'été', 'être','a','tunisie', 'tunisia',\n",
    "                'tunis', 'bien', 'mieux', 'sais', 'leurs','certain','plus','ainsi','tunisiens']\n",
    "stop_words_fr.extend(newStopWords)\n",
    "print(len(stop_words_fr))\n",
    "\n",
    "\n",
    "stop_words_fr = stop_words_fr + ['les','être','avoir','parce','où','si','chaque','donc','dont','encore','faut','quand',\n",
    "                                 'tant','tel','tout','va','vient','peut','veut']"
   ]
  },
  {
   "cell_type": "code",
   "execution_count": 24,
   "metadata": {},
   "outputs": [
    {
     "name": "stdout",
     "output_type": "stream",
     "text": [
      "['au', 'aux', 'avec', 'ce', 'ces', 'dans', 'de', 'des', 'du', 'elle', 'en', 'et', 'eux', 'il', 'je', 'la', 'le', 'leur', 'lui', 'ma', 'mais', 'me', 'même', 'mes', 'moi', 'mon', 'ne', 'nos', 'notre', 'nous', 'on', 'ou', 'par', 'pas', 'pour', 'qu', 'que', 'qui', 'sa', 'se', 'ses', 'son', 'sur', 'ta', 'te', 'tes', 'toi', 'ton', 'tu', 'un', 'une', 'vos', 'votre', 'vous', 'c', 'd', 'j', 'l', 'à', 'm', 'n', 's', 't', 'y', 'été', 'étée', 'étées', 'étés', 'étant', 'étante', 'étants', 'étantes', 'suis', 'es', 'est', 'sommes', 'êtes', 'sont', 'serai', 'seras', 'sera', 'serons', 'serez', 'seront', 'serais', 'serait', 'serions', 'seriez', 'seraient', 'étais', 'était', 'étions', 'étiez', 'étaient', 'fus', 'fut', 'fûmes', 'fûtes', 'furent', 'sois', 'soit', 'soyons', 'soyez', 'soient', 'fusse', 'fusses', 'fût', 'fussions', 'fussiez', 'fussent', 'ayant', 'ayante', 'ayantes', 'ayants', 'eu', 'eue', 'eues', 'eus', 'ai', 'as', 'avons', 'avez', 'ont', 'aurai', 'auras', 'aura', 'aurons', 'aurez', 'auront', 'aurais', 'aurait', 'aurions', 'auriez', 'auraient', 'avais', 'avait', 'avions', 'aviez', 'avaient', 'eut', 'eûmes', 'eûtes', 'eurent', 'aie', 'aies', 'ait', 'ayons', 'ayez', 'aient', 'eusse', 'eusses', 'eût', 'eussions', 'eussiez', 'eussent', 'les', 'alors', 'alors', 'au', 'aucuns', 'aussi', 'autre', 'avant', 'avec', 'avoir', 'bon', 'car', 'ce', 'cela', 'ces', 'ceux', 'chaque', 'ci', 'comme', 'comment', 'dans', 'des', 'du', 'dedans', 'dehors', 'depuis', 'devrait', 'doit', 'donc', 'dos', 'début', 'elle', 'elles', 'en', 'encore', 'essai', 'est', 'et', 'eu', 'fait', 'faites', 'fois', 'font', 'hors', 'ici', 'il', 'ils', 'je', 'juste', 'la', 'le', 'les', 'leur', 'là', 'ma', 'maintenant', 'mais', 'mes', 'mine', 'moins', 'mon', 'mot', 'même', 'ni', 'nommés', 'notre', 'nous', 'ou', 'où', 'par', 'parce', 'pas', 'peut', 'peu', 'plupart', 'pour', 'pays', 'pourquoi', 'quand', 'que', 'quel', 'quelle', 'quelles', 'quels', 'qui', 'sa', 'sans', 'ses', 'seulement', 'si', 'sien', 'son', 'sont', 'sous', 'soyez', 'sujet', 'sur', 'ta', 'tandis', 'tellement', 'tels', 'tes', 'ton', 'tous', 'tout', 'trop', 'très', 'tu', 'voient', 'vont', 'votre', 'vous', 'vu', 'ça', 'étaient', 'état', 'étions', 'été', 'être', 'a', 'tunisie', 'tunisia', 'tunis', 'bien', 'mieux', 'sais', 'leurs', 'certain', 'plus', 'ainsi', 'tunisiens']\n"
     ]
    }
   ],
   "source": [
    "print(stop_words_fr)"
   ]
  },
  {
   "cell_type": "code",
   "execution_count": 25,
   "metadata": {},
   "outputs": [],
   "source": [
    "Q5_corpus_fr_words_2 = [[word for word in doc  if word not in stop_words_fr] for doc in Q5_corpus_fr_words]"
   ]
  },
  {
   "cell_type": "code",
   "execution_count": 26,
   "metadata": {},
   "outputs": [
    {
     "data": {
      "text/plain": [
       "['mediocrité', 'mentale', 'respect']"
      ]
     },
     "execution_count": 26,
     "metadata": {},
     "output_type": "execute_result"
    }
   ],
   "source": [
    "Q5_corpus_fr_words_2[0]  # the first document in the new corpus"
   ]
  },
  {
   "cell_type": "markdown",
   "metadata": {},
   "source": [
    "### Visualize distribution of word lengths\n",
    "This is useful for getting ideas about stemming approach (in the next step) ..."
   ]
  },
  {
   "cell_type": "code",
   "execution_count": 27,
   "metadata": {},
   "outputs": [
    {
     "data": {
      "text/plain": [
       "(set, 557)"
      ]
     },
     "execution_count": 27,
     "metadata": {},
     "output_type": "execute_result"
    }
   ],
   "source": [
    "# create list of all words in corpus\n",
    "words = {word for doc in Q5_corpus_fr_words_2 for word in doc}\n",
    "type(words),len(words)"
   ]
  },
  {
   "cell_type": "code",
   "execution_count": 28,
   "metadata": {},
   "outputs": [],
   "source": [
    "S = pd.Series([len(word) for word in words])"
   ]
  },
  {
   "cell_type": "code",
   "execution_count": 29,
   "metadata": {},
   "outputs": [
    {
     "data": {
      "text/plain": [
       "count    557.000000\n",
       "mean       7.456014\n",
       "std        2.674881\n",
       "min        1.000000\n",
       "25%        6.000000\n",
       "50%        7.000000\n",
       "75%        9.000000\n",
       "max       17.000000\n",
       "dtype: float64"
      ]
     },
     "execution_count": 29,
     "metadata": {},
     "output_type": "execute_result"
    }
   ],
   "source": [
    "S.describe()"
   ]
  },
  {
   "cell_type": "code",
   "execution_count": 30,
   "metadata": {},
   "outputs": [
    {
     "data": {
      "image/png": "[encoded data removed]",
      "text/plain": [
       "<matplotlib.figure.Figure at 0x27cdb1e2438>"
      ]
     },
     "metadata": {},
     "output_type": "display_data"
    }
   ],
   "source": [
    "fig = S.plot(kind='hist', title=\"word length\")"
   ]
  },
  {
   "cell_type": "code",
   "execution_count": 155,
   "metadata": {},
   "outputs": [
    {
     "data": {
      "text/plain": [
       "['q', 'of', '5m', 'ya', 'is', 'in', 'ca']"
      ]
     },
     "execution_count": 155,
     "metadata": {},
     "output_type": "execute_result"
    }
   ],
   "source": [
    "# which words have length <= 2\n",
    "[word for word in words if len(word)<=2]"
   ]
  },
  {
   "cell_type": "code",
   "execution_count": 157,
   "metadata": {},
   "outputs": [
    {
     "data": {
      "text/plain": [
       "['ressources',\n",
       " 'rencontres',\n",
       " 'hospitalité',\n",
       " 'interpersonnelles',\n",
       " 'coopératifs',\n",
       " 'generalement',\n",
       " 'responsabilité',\n",
       " 'divertissement',\n",
       " 'ponctualité',\n",
       " 'malheureusement',\n",
       " 'conservative',\n",
       " 'communauté',\n",
       " 'certainement',\n",
       " 'acceptation',\n",
       " 'socialement',\n",
       " 'indifférence',\n",
       " 'kinésithérapeutes',\n",
       " 'patriotisme',\n",
       " 'comportements',\n",
       " 'difference',\n",
       " 'organisation',\n",
       " 'efficacité',\n",
       " 'maternelle',\n",
       " 'desciplinés',\n",
       " 'environnement',\n",
       " 'decouverte',\n",
       " 'travailler',\n",
       " 'inacceptables',\n",
       " 'adaptation',\n",
       " 'professionnel',\n",
       " 'maintenace',\n",
       " 'chaleureux',\n",
       " 'administration',\n",
       " 'financieres',\n",
       " 'discipline',\n",
       " 'respectent',\n",
       " 'mediocrité',\n",
       " 'satisfaisant',\n",
       " 'équivalente',\n",
       " 'traditions',\n",
       " 'solidarité',\n",
       " 'professionalisme',\n",
       " 'generosite',\n",
       " 'développer',\n",
       " 'digitalisation',\n",
       " 'conception',\n",
       " 'respectueuse',\n",
       " 'différences',\n",
       " 'interdisent',\n",
       " 'intolerance',\n",
       " 'geographique',\n",
       " 'bénéficier',\n",
       " 'respectueux',\n",
       " 'sacrifices',\n",
       " 'décourageant',\n",
       " 'aceuillants',\n",
       " 'religieuse',\n",
       " 'valorisation',\n",
       " 'popularion',\n",
       " 'cosmopolitisme',\n",
       " 'encourages',\n",
       " 'généralement',\n",
       " 'précisément',\n",
       " 'développée',\n",
       " 'comparable',\n",
       " 'individuelle',\n",
       " 'encouragement',\n",
       " 'dépression',\n",
       " 'application',\n",
       " 'chaleureuse',\n",
       " 'instabilité',\n",
       " 'indifférents',\n",
       " 'développés',\n",
       " 'législateur',\n",
       " 'exploitation',\n",
       " 'conscience',\n",
       " 'expatriation',\n",
       " 'différence',\n",
       " 'tunisienne',\n",
       " 'constamment',\n",
       " 'barbarisme',\n",
       " 'incomparable',\n",
       " 'personnellement',\n",
       " 'incomparables',\n",
       " 'civilisation',\n",
       " 'religieuses',\n",
       " 'optimisation',\n",
       " 'corbeilles',\n",
       " 'accessibilité',\n",
       " 'progressisme',\n",
       " 'individuelles',\n",
       " 'excellente',\n",
       " 'administratifs',\n",
       " 'différente',\n",
       " 'information',\n",
       " 'mentalités',\n",
       " 'principalement',\n",
       " 'diversifier',\n",
       " 'déséquilibre',\n",
       " 'administrations',\n",
       " 'responsabilités',\n",
       " 'économique',\n",
       " 'civilization',\n",
       " 'projecteurs',\n",
       " 'populsions',\n",
       " 'transparence',\n",
       " 'compétence',\n",
       " 'différents',\n",
       " 'identitaire',\n",
       " 'culturelle']"
      ]
     },
     "execution_count": 157,
     "metadata": {},
     "output_type": "execute_result"
    }
   ],
   "source": [
    "# words that contain more than 10 charcters\n",
    "[word for word in words if len(word)>=10]"
   ]
  },
  {
   "cell_type": "markdown",
   "metadata": {},
   "source": [
    "### Word normalization\n",
    "- All stemming methods are heuristic; there is no best method.\n",
    "- I will try two different methods: snowball method and my own quick method (see details below)."
   ]
  },
  {
   "cell_type": "code",
   "execution_count": 33,
   "metadata": {},
   "outputs": [],
   "source": [
    "from nltk.stem.snowball import FrenchStemmer"
   ]
  },
  {
   "cell_type": "code",
   "execution_count": 34,
   "metadata": {},
   "outputs": [],
   "source": [
    "# Stemming method 1: Snowball method from NLTK\n",
    "stemmer = FrenchStemmer()\n",
    "Q5_corpus_fr_words_3_1 = [[stemmer.stem(word) for word in doc] for doc in Q5_corpus_fr_words_2]"
   ]
  },
  {
   "cell_type": "code",
   "execution_count": 186,
   "metadata": {},
   "outputs": [],
   "source": [
    "temp = [[word[0:len(word)-1] if (len(word)>=7 and word.endswith('s')) else word for word in doc] for doc in Q5_corpus_fr_words_2]\n",
    "Q5_corpus_fr_words_3_2 = [[word[0:10] for word in doc] for doc in temp]"
   ]
  },
  {
   "cell_type": "code",
   "execution_count": 187,
   "metadata": {},
   "outputs": [
    {
     "data": {
      "text/plain": [
       "[['mediocrité', 'mentale', 'respect'],\n",
       " ['tolérance'],\n",
       " ['mentalité'],\n",
       " ['respect', 'dignité'],\n",
       " ['pourrait', 'devenir', 'tolérante']]"
      ]
     },
     "execution_count": 187,
     "metadata": {},
     "output_type": "execute_result"
    }
   ],
   "source": [
    "Q5_corpus_fr_words_2[0:5]"
   ]
  },
  {
   "cell_type": "code",
   "execution_count": 188,
   "metadata": {},
   "outputs": [
    {
     "data": {
      "text/plain": [
       "[['mediocr', 'mental', 'respect'],\n",
       " ['toler'],\n",
       " ['mental'],\n",
       " ['respect', 'dignit'],\n",
       " ['pourr', 'deven', 'toler']]"
      ]
     },
     "execution_count": 188,
     "metadata": {},
     "output_type": "execute_result"
    }
   ],
   "source": [
    "Q5_corpus_fr_words_3_1[0:5]"
   ]
  },
  {
   "cell_type": "code",
   "execution_count": 189,
   "metadata": {},
   "outputs": [
    {
     "data": {
      "text/plain": [
       "[['mediocrité', 'mentale', 'respect'],\n",
       " ['tolérance'],\n",
       " ['mentalité'],\n",
       " ['respect', 'dignité'],\n",
       " ['pourrait', 'devenir', 'tolérante']]"
      ]
     },
     "execution_count": 189,
     "metadata": {},
     "output_type": "execute_result"
    }
   ],
   "source": [
    "Q5_corpus_fr_words_3_2[0:5]"
   ]
  },
  {
   "cell_type": "markdown",
   "metadata": {},
   "source": [
    "### Visualize distribution of document lengths"
   ]
  },
  {
   "cell_type": "code",
   "execution_count": 190,
   "metadata": {},
   "outputs": [],
   "source": [
    "L = [len(doc) for doc in Q5_corpus_fr_words_3_2]"
   ]
  },
  {
   "cell_type": "code",
   "execution_count": 191,
   "metadata": {},
   "outputs": [
    {
     "data": {
      "text/plain": [
       "count    252.000000\n",
       "mean       4.349206\n",
       "std        5.345166\n",
       "min        0.000000\n",
       "25%        1.750000\n",
       "50%        3.000000\n",
       "75%        5.000000\n",
       "max       40.000000\n",
       "dtype: float64"
      ]
     },
     "execution_count": 191,
     "metadata": {},
     "output_type": "execute_result"
    }
   ],
   "source": [
    "pd.Series(L).describe()"
   ]
  },
  {
   "cell_type": "code",
   "execution_count": 192,
   "metadata": {},
   "outputs": [
    {
     "data": {
      "image/png": "[encoded data removed]",
      "text/plain": [
       "<matplotlib.figure.Figure at 0x27cdb14ba90>"
      ]
     },
     "metadata": {},
     "output_type": "display_data"
    }
   ],
   "source": [
    "u = pd.Series(L).plot(kind='hist', title='document length')"
   ]
  },
  {
   "cell_type": "code",
   "execution_count": 193,
   "metadata": {},
   "outputs": [
    {
     "data": {
      "text/plain": [
       "1    54\n",
       "2    53\n",
       "3    34\n",
       "4    30\n",
       "5    17\n",
       "6    11\n",
       "7    10\n",
       "dtype: int64"
      ]
     },
     "execution_count": 193,
     "metadata": {},
     "output_type": "execute_result"
    }
   ],
   "source": [
    "pd.Series(L).value_counts().head(7)"
   ]
  },
  {
   "cell_type": "code",
   "execution_count": 194,
   "metadata": {},
   "outputs": [
    {
     "data": {
      "text/plain": [
       "mentalité       15\n",
       "tolérance        6\n",
       "rien             4\n",
       "respect          4\n",
       "incomparable     2\n",
       "liberté          2\n",
       "famille          2\n",
       "mentalités       2\n",
       "culture          2\n",
       "libertés         1\n",
       "dtype: int64"
      ]
     },
     "execution_count": 194,
     "metadata": {},
     "output_type": "execute_result"
    }
   ],
   "source": [
    "# Display documents that contain only one word\n",
    "pd.Series([' '.join(doc) for doc in Q5_corpus_fr_words_2 if len(doc)==1]).value_counts().head(10)"
   ]
  },
  {
   "cell_type": "code",
   "execution_count": 195,
   "metadata": {},
   "outputs": [
    {
     "data": {
      "text/plain": [
       "niveau vie              5\n",
       "qualité vie             3\n",
       "ouverture esprit        3\n",
       "mentalité respect       2\n",
       "qualite vie             2\n",
       "niveau sociale          1\n",
       "esprit gens             1\n",
       "tolerance esprit        1\n",
       "liberté étranger        1\n",
       "différence mentalité    1\n",
       "dtype: int64"
      ]
     },
     "execution_count": 195,
     "metadata": {},
     "output_type": "execute_result"
    }
   ],
   "source": [
    "# Display documents that contain 2 words\n",
    "pd.Series([' '.join(doc) for doc in Q5_corpus_fr_words_2 if len(doc)==2]).value_counts().head(10)"
   ]
  },
  {
   "cell_type": "code",
   "execution_count": 196,
   "metadata": {},
   "outputs": [
    {
     "data": {
      "text/plain": [
       "mentalité niveau vie          2\n",
       "respect paix generosite       1\n",
       "mortalité travail respect     1\n",
       "maintenace vie humble         1\n",
       "sein manque moral             1\n",
       "respect dignité liberté       1\n",
       "étrangers preuve principes    1\n",
       "manque respect loi            1\n",
       "mode vie salaire              1\n",
       "chaleureux gens étrangers     1\n",
       "dtype: int64"
      ]
     },
     "execution_count": 196,
     "metadata": {},
     "output_type": "execute_result"
    }
   ],
   "source": [
    "# Display documents that contain 3 words\n",
    "pd.Series([' '.join(doc) for doc in Q5_corpus_fr_words_2 if len(doc)==3]).value_counts().head(10)"
   ]
  },
  {
   "cell_type": "markdown",
   "metadata": {},
   "source": [
    "******"
   ]
  },
  {
   "cell_type": "markdown",
   "metadata": {},
   "source": [
    "### Visualize Distribution of Words"
   ]
  },
  {
   "cell_type": "code",
   "execution_count": 197,
   "metadata": {},
   "outputs": [],
   "source": [
    "# we will compare the distribution of words of the following three different corpora.\n",
    "fdist2 = FreqDist([c for c in [word for doc in Q5_corpus_fr_words_2 for word in doc]])\n",
    "fdist3 = FreqDist([c for c in [word for doc in Q5_corpus_fr_words_3_1 for word in doc]])\n",
    "fdist4 = FreqDist([c for c in [word for doc in Q5_corpus_fr_words_3_2 for word in doc]])"
   ]
  },
  {
   "cell_type": "code",
   "execution_count": 198,
   "metadata": {},
   "outputs": [
    {
     "data": {
      "text/plain": [
       "(1096, 1096, 1096)"
      ]
     },
     "execution_count": 198,
     "metadata": {},
     "output_type": "execute_result"
    }
   ],
   "source": [
    "# total number of words in this corpus\n",
    "fdist2.N(),fdist3.N(),fdist4.N()"
   ]
  },
  {
   "cell_type": "code",
   "execution_count": 199,
   "metadata": {},
   "outputs": [
    {
     "data": {
      "text/plain": [
       "(557, 477, 529)"
      ]
     },
     "execution_count": 199,
     "metadata": {},
     "output_type": "execute_result"
    }
   ],
   "source": [
    "# number of UNIQUE words in this corpus\n",
    "fdist2.B(),fdist3.B(),fdist4.B()"
   ]
  },
  {
   "cell_type": "code",
   "execution_count": 200,
   "metadata": {
    "scrolled": true
   },
   "outputs": [
    {
     "data": {
      "text/plain": [
       "[('vie', 49),\n",
       " ('mentalité', 44),\n",
       " ('respect', 35),\n",
       " ('étranger', 33),\n",
       " ('niveau', 27),\n",
       " ('gens', 18),\n",
       " ('esprit', 13),\n",
       " ('sociale', 11),\n",
       " ('culture', 9),\n",
       " ('liberté', 9)]"
      ]
     },
     "execution_count": 200,
     "metadata": {},
     "output_type": "execute_result"
    }
   ],
   "source": [
    "# 10 most frequent words in this corpus\n",
    "fdist2.most_common(10)"
   ]
  },
  {
   "cell_type": "code",
   "execution_count": 201,
   "metadata": {},
   "outputs": [
    {
     "data": {
      "text/plain": [
       "[('mental', 50),\n",
       " ('vi', 49),\n",
       " ('respect', 35),\n",
       " ('étrang', 33),\n",
       " ('niveau', 27),\n",
       " ('social', 18),\n",
       " ('gen', 18),\n",
       " ('libert', 14),\n",
       " ('esprit', 14),\n",
       " ('toler', 11)]"
      ]
     },
     "execution_count": 201,
     "metadata": {},
     "output_type": "execute_result"
    }
   ],
   "source": [
    "fdist3.most_common(10)"
   ]
  },
  {
   "cell_type": "code",
   "execution_count": 202,
   "metadata": {},
   "outputs": [
    {
     "data": {
      "text/plain": [
       "[('vie', 49),\n",
       " ('mentalité', 48),\n",
       " ('étranger', 37),\n",
       " ('respect', 35),\n",
       " ('niveau', 27),\n",
       " ('gens', 18),\n",
       " ('liberté', 14),\n",
       " ('esprit', 14),\n",
       " ('sociale', 11),\n",
       " ('salaire', 9)]"
      ]
     },
     "execution_count": 202,
     "metadata": {},
     "output_type": "execute_result"
    }
   ],
   "source": [
    "fdist4.most_common(10)"
   ]
  },
  {
   "cell_type": "code",
   "execution_count": 203,
   "metadata": {},
   "outputs": [
    {
     "data": {
      "image/png": "[encoded data removed]",
      "text/plain": [
       "<matplotlib.figure.Figure at 0x27cdb12ff60>"
      ]
     },
     "metadata": {},
     "output_type": "display_data"
    },
    {
     "data": {
      "image/png": "[encoded data removed]",
      "text/plain": [
       "<matplotlib.figure.Figure at 0x27cdb12fcf8>"
      ]
     },
     "metadata": {},
     "output_type": "display_data"
    },
    {
     "data": {
      "image/png": "[encoded data removed]",
      "text/plain": [
       "<matplotlib.figure.Figure at 0x27cdbdddeb8>"
      ]
     },
     "metadata": {},
     "output_type": "display_data"
    }
   ],
   "source": [
    "# cumulative frequency distribution of top 20 words in this corpus\n",
    "fdist2.plot(20,cumulative=True)\n",
    "fdist3.plot(20,cumulative=True)\n",
    "fdist4.plot(20,cumulative=True)"
   ]
  },
  {
   "cell_type": "markdown",
   "metadata": {},
   "source": [
    "******"
   ]
  },
  {
   "cell_type": "markdown",
   "metadata": {},
   "source": [
    "## 4) Document representation with BOW-tfidf version"
   ]
  },
  {
   "cell_type": "code",
   "execution_count": 204,
   "metadata": {},
   "outputs": [
    {
     "data": {
      "text/plain": [
       "(list, str, 252)"
      ]
     },
     "execution_count": 204,
     "metadata": {},
     "output_type": "execute_result"
    }
   ],
   "source": [
    "# setup the cleaned corpus\n",
    "Q5_corpus_fr_clean = [' '.join(doc) for doc in Q5_corpus_fr_words_3_2]\n",
    "type(Q5_corpus_fr_clean),type(Q5_corpus_fr_clean[0]), len(Q5_corpus_fr_clean)"
   ]
  },
  {
   "cell_type": "code",
   "execution_count": 205,
   "metadata": {},
   "outputs": [],
   "source": [
    "max_words = 50\n",
    "maxdf = 0.9\n",
    "mindf = 2"
   ]
  },
  {
   "cell_type": "code",
   "execution_count": 206,
   "metadata": {},
   "outputs": [],
   "source": [
    "from sklearn.feature_extraction.text import CountVectorizer"
   ]
  },
  {
   "cell_type": "code",
   "execution_count": 207,
   "metadata": {},
   "outputs": [],
   "source": [
    "tf_bow_model = CountVectorizer(max_df=maxdf, min_df=mindf, max_features=max_words, stop_words=stop_words_fr)"
   ]
  },
  {
   "cell_type": "code",
   "execution_count": 208,
   "metadata": {},
   "outputs": [
    {
     "data": {
      "text/plain": [
       "CountVectorizer(analyzer='word', binary=False, decode_error='strict',\n",
       "        dtype=<class 'numpy.int64'>, encoding='utf-8', input='content',\n",
       "        lowercase=True, max_df=0.9, max_features=50, min_df=2,\n",
       "        ngram_range=(1, 1), preprocessor=None,\n",
       "        stop_words=['au', 'aux', 'avec', 'ce', 'ces', 'dans', 'de', 'des', 'du', 'elle', 'en', 'et', 'eux', 'il', 'je', 'la', 'le', 'leur', 'lui', 'ma', 'mais', 'me', 'même', 'mes', 'moi', 'mon', 'ne', 'nos', 'notre', 'nous', 'on', 'ou', 'par', 'pas', 'pour', 'qu', 'que', 'qui', 'sa', 'se', 'ses', 'son', 's...sie', 'tunisia', 'tunis', 'bien', 'mieux', 'sais', 'leurs', 'certain', 'plus', 'ainsi', 'tunisiens'],\n",
       "        strip_accents=None, token_pattern='(?u)\\\\b\\\\w\\\\w+\\\\b',\n",
       "        tokenizer=None, vocabulary=None)"
      ]
     },
     "execution_count": 208,
     "metadata": {},
     "output_type": "execute_result"
    }
   ],
   "source": [
    "tf_bow_model.fit(Q5_corpus_fr_clean)"
   ]
  },
  {
   "cell_type": "code",
   "execution_count": 209,
   "metadata": {},
   "outputs": [
    {
     "name": "stdout",
     "output_type": "stream",
     "text": [
      "<class 'list'>\n",
      "50\n",
      "['autres', 'beaucoup', 'civilisé', 'civisme', 'conscience', 'culture', 'différence', 'différente', 'droits', 'entre', 'esprit', 'etranger', 'existe', 'famille', 'gens', 'incomparab', 'individuel', 'langue', 'liberté', 'loi', 'manque', 'meilleur', 'mentalité', 'mode', 'niveau', 'nouvelle', 'organisati', 'ouverture', 'peuple', 'qualité', 'racisme', 'relation', 'respect', 'rien', 'salaire', 'service', 'social', 'sociale', 'société', 'surtout', 'sécurité', 'tolérance', 'travail', 'trouve', 'tunisien', 'tunisienne', 'valeur', 'vie', 'vivre', 'étranger']\n"
     ]
    }
   ],
   "source": [
    "## verify the vocabulary (remember that each feature corresponds to one vocabulary word)\n",
    "tf_bow_vocab = tf_bow_model.get_feature_names()\n",
    "print(type(tf_bow_vocab))\n",
    "print(len(tf_bow_vocab))\n",
    "print(tf_bow_vocab)"
   ]
  },
  {
   "cell_type": "code",
   "execution_count": 210,
   "metadata": {},
   "outputs": [
    {
     "data": {
      "text/plain": [
       "{'1500',\n",
       " '5m',\n",
       " 'abroad',\n",
       " 'absence',\n",
       " 'acceptatio',\n",
       " 'acceptent',\n",
       " 'accepter',\n",
       " 'accessibil',\n",
       " 'accès',\n",
       " 'aceuillant',\n",
       " 'achat',\n",
       " 'adaptation',\n",
       " 'administra',\n",
       " 'affaire',\n",
       " 'affectant',\n",
       " 'affronte',\n",
       " 'aid',\n",
       " 'aide',\n",
       " 'aident',\n",
       " 'ailleur',\n",
       " 'aime',\n",
       " 'air',\n",
       " 'aise',\n",
       " 'alaise',\n",
       " 'alcool',\n",
       " 'amalgame',\n",
       " 'ambaince',\n",
       " 'ambition',\n",
       " 'amis',\n",
       " 'amuser',\n",
       " 'améliorer',\n",
       " 'and',\n",
       " 'applicatio',\n",
       " 'arabe',\n",
       " 'arrive',\n",
       " 'arriver',\n",
       " 'arriérée',\n",
       " 'arrogance',\n",
       " 'art',\n",
       " 'aspect',\n",
       " 'attitude',\n",
       " 'attractif',\n",
       " 'aucun',\n",
       " 'autonome',\n",
       " 'avantage',\n",
       " 'banalisé',\n",
       " 'barbarisme',\n",
       " 'bas',\n",
       " 'base',\n",
       " 'beau',\n",
       " 'better',\n",
       " 'bienvenue',\n",
       " 'bisou',\n",
       " 'bonnes',\n",
       " 'bouger',\n",
       " 'bénéficier',\n",
       " 'ca',\n",
       " 'cap',\n",
       " 'capable',\n",
       " 'capacité',\n",
       " 'ceci',\n",
       " 'certaine',\n",
       " 'certaineme',\n",
       " 'cest',\n",
       " 'chacun',\n",
       " 'chaleur',\n",
       " 'chaleureus',\n",
       " 'chaleureux',\n",
       " 'chance',\n",
       " 'changer',\n",
       " 'chaumage',\n",
       " 'chez',\n",
       " 'choix',\n",
       " 'citer',\n",
       " 'civilisati',\n",
       " 'civilisée',\n",
       " 'civilizati',\n",
       " 'clair',\n",
       " 'commun',\n",
       " 'communauté',\n",
       " 'comparable',\n",
       " 'compare',\n",
       " 'complexe',\n",
       " 'compliqué',\n",
       " 'comporteme',\n",
       " 'compri',\n",
       " 'compte',\n",
       " 'compétence',\n",
       " 'conception',\n",
       " 'condition',\n",
       " 'conduite',\n",
       " 'conservati',\n",
       " 'considéré',\n",
       " 'constammen',\n",
       " 'contre',\n",
       " 'coopératif',\n",
       " 'corbeille',\n",
       " 'cosmopolit',\n",
       " 'cost',\n",
       " 'coté',\n",
       " 'couleur',\n",
       " 'coutume',\n",
       " 'crise',\n",
       " 'critère',\n",
       " 'croient',\n",
       " 'cultive',\n",
       " 'culturel',\n",
       " 'culturelle',\n",
       " 'ddans',\n",
       " 'decouverte',\n",
       " 'depend',\n",
       " 'descipliné',\n",
       " 'devenir',\n",
       " 'devoir',\n",
       " 'dieu',\n",
       " 'difference',\n",
       " 'difficile',\n",
       " 'diffère',\n",
       " 'diffèrent',\n",
       " 'différant',\n",
       " 'différent',\n",
       " 'digitalisa',\n",
       " 'dignité',\n",
       " 'dinar',\n",
       " 'dire',\n",
       " 'discipline',\n",
       " 'diversifie',\n",
       " 'diversité',\n",
       " 'divertisse',\n",
       " 'domaine',\n",
       " 'dominante',\n",
       " 'doute',\n",
       " 'droit',\n",
       " 'dur',\n",
       " 'décente',\n",
       " 'découragea',\n",
       " 'défaut',\n",
       " 'dépend',\n",
       " 'dépendre',\n",
       " 'dépression',\n",
       " 'déséquilib',\n",
       " 'développer',\n",
       " 'développé',\n",
       " 'développée',\n",
       " 'education',\n",
       " 'effet',\n",
       " 'efficacité',\n",
       " 'empathie',\n",
       " 'employé',\n",
       " 'empêche',\n",
       " 'encourage',\n",
       " 'encouragem',\n",
       " 'enfant',\n",
       " 'enrichir',\n",
       " 'entouré',\n",
       " 'entraide',\n",
       " 'envers',\n",
       " 'environnem',\n",
       " 'esclave',\n",
       " 'espoir',\n",
       " 'etc',\n",
       " 'etes',\n",
       " 'etrangere',\n",
       " 'europe',\n",
       " 'european',\n",
       " 'excellente',\n",
       " 'exemple',\n",
       " 'expatriati',\n",
       " 'exploitati',\n",
       " 'exprimer',\n",
       " 'face',\n",
       " 'facile',\n",
       " 'faciliter',\n",
       " 'faible',\n",
       " 'fainéant',\n",
       " 'faire',\n",
       " 'faits',\n",
       " 'family',\n",
       " 'fascism',\n",
       " 'faut',\n",
       " 'femmes',\n",
       " 'fetes',\n",
       " 'filles',\n",
       " 'financiere',\n",
       " 'flagrant',\n",
       " 'flexible',\n",
       " 'forgent',\n",
       " 'forts',\n",
       " 'foule',\n",
       " 'franchir',\n",
       " 'françai',\n",
       " 'friend',\n",
       " 'froide',\n",
       " 'froideur',\n",
       " 'frustré',\n",
       " 'garanti',\n",
       " 'generaleme',\n",
       " 'generosite',\n",
       " 'geographiq',\n",
       " 'gorgé',\n",
       " 'gout',\n",
       " 'grand',\n",
       " 'gros',\n",
       " 'groupe',\n",
       " 'général',\n",
       " 'générale',\n",
       " 'généraleme',\n",
       " 'habitant',\n",
       " 'habitude',\n",
       " 'homme',\n",
       " 'hommes',\n",
       " 'hospitalit',\n",
       " 'humain',\n",
       " 'humaine',\n",
       " 'humble',\n",
       " 'identitair',\n",
       " 'identité',\n",
       " 'ignorance',\n",
       " 'imagine',\n",
       " 'important',\n",
       " 'impunité',\n",
       " 'in',\n",
       " 'inacceptab',\n",
       " 'indifféren',\n",
       " 'individu',\n",
       " 'inflation',\n",
       " 'informatio',\n",
       " 'ingénieur',\n",
       " 'instabilit',\n",
       " 'interdisen',\n",
       " 'interperso',\n",
       " 'intoleranc',\n",
       " 'irrespect',\n",
       " 'is',\n",
       " 'jettent',\n",
       " 'joie',\n",
       " 'jours',\n",
       " 'juge',\n",
       " 'jugé',\n",
       " 'justice',\n",
       " 'kife',\n",
       " 'kinésithér',\n",
       " 'lequel',\n",
       " 'letranger',\n",
       " 'liens',\n",
       " 'limité',\n",
       " 'living',\n",
       " 'loin',\n",
       " 'lois',\n",
       " 'législateu',\n",
       " 'maintenace',\n",
       " 'majorité',\n",
       " 'malheureus',\n",
       " 'maltraite',\n",
       " 'manquant',\n",
       " 'maternelle',\n",
       " 'matière',\n",
       " 'mature',\n",
       " 'maturité',\n",
       " 'mauvai',\n",
       " 'mauvaise',\n",
       " 'mediocrité',\n",
       " 'meilleure',\n",
       " 'mele',\n",
       " 'meme',\n",
       " 'memes',\n",
       " 'mener',\n",
       " 'mentale',\n",
       " 'mentalit',\n",
       " 'mentalite',\n",
       " 'mer',\n",
       " 'metier',\n",
       " 'mettent',\n",
       " 'minded',\n",
       " 'mis',\n",
       " 'moeurs',\n",
       " 'monde',\n",
       " 'montalité',\n",
       " 'moral',\n",
       " 'mortalité',\n",
       " 'moyens',\n",
       " 'mutuel',\n",
       " 'médecin',\n",
       " 'médiocre',\n",
       " 'mêle',\n",
       " 'nationale',\n",
       " 'nes',\n",
       " 'nettement',\n",
       " 'nombre',\n",
       " 'normes',\n",
       " 'notion',\n",
       " 'nouveaux',\n",
       " 'nulles',\n",
       " 'occupe',\n",
       " 'oersonne',\n",
       " 'of',\n",
       " 'oignon',\n",
       " 'open',\n",
       " 'opprime',\n",
       " 'optimisati',\n",
       " 'organisé',\n",
       " 'oublie',\n",
       " 'outre',\n",
       " 'ouvert',\n",
       " 'ouverte',\n",
       " 'paix',\n",
       " 'paradi',\n",
       " 'parent',\n",
       " 'parfoi',\n",
       " 'parité',\n",
       " 'parlant',\n",
       " 'parle',\n",
       " 'parler',\n",
       " 'partagent',\n",
       " 'partager',\n",
       " 'partie',\n",
       " 'passe',\n",
       " 'patient',\n",
       " 'patriotism',\n",
       " 'pay',\n",
       " 'payé',\n",
       " 'pendant',\n",
       " 'pense',\n",
       " 'permet',\n",
       " 'personne',\n",
       " 'personnell',\n",
       " 'petit',\n",
       " 'peur',\n",
       " 'peurs',\n",
       " 'plastique',\n",
       " 'plat',\n",
       " 'plutôt',\n",
       " 'point',\n",
       " 'ponctualit',\n",
       " 'pont',\n",
       " 'popularion',\n",
       " 'populsion',\n",
       " 'positif',\n",
       " 'poubelle',\n",
       " 'pourrait',\n",
       " 'pousser',\n",
       " 'pouvoir',\n",
       " 'preciser',\n",
       " 'prenant',\n",
       " 'preuve',\n",
       " 'principale',\n",
       " 'principe',\n",
       " 'priorité',\n",
       " 'prison',\n",
       " 'probleme',\n",
       " 'problème',\n",
       " 'produit',\n",
       " 'profession',\n",
       " 'profiter',\n",
       " 'progressis',\n",
       " 'projecteur',\n",
       " 'propre',\n",
       " 'près',\n",
       " 'précisémen',\n",
       " 'préjuger',\n",
       " 'préjugé',\n",
       " 'puisse',\n",
       " 'pzs',\n",
       " 'qualite',\n",
       " 'question',\n",
       " 'quiter',\n",
       " 'quotidien',\n",
       " 'ramadan',\n",
       " 'rapide',\n",
       " 'rapport',\n",
       " 'recyclage',\n",
       " 'reflète',\n",
       " 'reigne',\n",
       " 'rejet',\n",
       " 'rejette',\n",
       " 'religieuse',\n",
       " 'religion',\n",
       " 'rencontre',\n",
       " 'respectent',\n",
       " 'respectueu',\n",
       " 'respet',\n",
       " 'responsabi',\n",
       " 'ressource',\n",
       " 'reste',\n",
       " 'reussir',\n",
       " 'richesse',\n",
       " 'routine',\n",
       " 'rues',\n",
       " 'règles',\n",
       " 'réside',\n",
       " 'réussir',\n",
       " 'sache',\n",
       " 'sacrifice',\n",
       " 'saleté',\n",
       " 'santé',\n",
       " 'satisfaisa',\n",
       " 'savoir',\n",
       " 'sein',\n",
       " 'selectif',\n",
       " 'semble',\n",
       " 'sens',\n",
       " 'sent',\n",
       " 'serviable',\n",
       " 'seul',\n",
       " 'seule',\n",
       " 'sexisme',\n",
       " 'siècle',\n",
       " 'smic',\n",
       " 'socialemen',\n",
       " 'sociaux',\n",
       " 'societe',\n",
       " 'sociétale',\n",
       " 'soi',\n",
       " 'soins',\n",
       " 'solidarité',\n",
       " 'souffre',\n",
       " 'soutien',\n",
       " 'souvent',\n",
       " 'stabilité',\n",
       " 'statut',\n",
       " 'style',\n",
       " 'subit',\n",
       " 'suffit',\n",
       " 'surmonter',\n",
       " 'système',\n",
       " 'séloigner',\n",
       " 'sérieux',\n",
       " 't3ish',\n",
       " 'taarf',\n",
       " 'temps',\n",
       " 'tendance',\n",
       " 'term',\n",
       " 'terms',\n",
       " 'tnasnis',\n",
       " 'tolerance',\n",
       " 'tolérant',\n",
       " 'tolérante',\n",
       " 'tomber',\n",
       " 'tradition',\n",
       " 'traite',\n",
       " 'transparen',\n",
       " 'transport',\n",
       " 'travaille',\n",
       " 'travailler',\n",
       " 'trouvera',\n",
       " 'truc',\n",
       " 'union',\n",
       " 'vague',\n",
       " 'valorisati',\n",
       " 'valorise',\n",
       " 'valorisé',\n",
       " 'vas',\n",
       " 'vendredi',\n",
       " 'vente',\n",
       " 'veut',\n",
       " 'viens',\n",
       " 'voir',\n",
       " 'voire',\n",
       " 'voit',\n",
       " 'vrai',\n",
       " 'vue',\n",
       " 'ya',\n",
       " 'zone',\n",
       " 'ètre',\n",
       " 'échelle',\n",
       " 'économique',\n",
       " 'éducation',\n",
       " 'égalité',\n",
       " 'élevé',\n",
       " 'énorme',\n",
       " 'équité',\n",
       " 'équivalent',\n",
       " 'établir',\n",
       " 'éthique',\n",
       " 'étroite',\n",
       " 'étude',\n",
       " 'études',\n",
       " 'évident'}"
      ]
     },
     "execution_count": 210,
     "metadata": {},
     "output_type": "execute_result"
    }
   ],
   "source": [
    "tf_bow_model.stop_words_"
   ]
  },
  {
   "cell_type": "code",
   "execution_count": 211,
   "metadata": {},
   "outputs": [],
   "source": [
    "from sklearn.feature_extraction.text import TfidfVectorizer"
   ]
  },
  {
   "cell_type": "code",
   "execution_count": 212,
   "metadata": {},
   "outputs": [
    {
     "data": {
      "text/plain": [
       "TfidfVectorizer(analyzer='word', binary=False, decode_error='strict',\n",
       "        dtype=<class 'numpy.int64'>, encoding='utf-8', input='content',\n",
       "        lowercase=True, max_df=0.9, max_features=50, min_df=2,\n",
       "        ngram_range=(1, 1), norm='l2', preprocessor=None, smooth_idf=True,\n",
       "        stop_words=['au', 'aux', 'avec', 'ce', 'ces', 'dans', 'de', 'des', 'du', 'elle', 'en', 'et', 'eux', 'il', 'je', 'la', 'le', 'leur', 'lui', 'ma', 'mais', 'me', 'même', 'mes', 'moi', 'mon', 'ne', 'nos', 'notre', 'nous', 'on', 'ou', 'par', 'pas', 'pour', 'qu', 'que', 'qui', 'sa', 'se', 'ses', 'son', 's...sie', 'tunisia', 'tunis', 'bien', 'mieux', 'sais', 'leurs', 'certain', 'plus', 'ainsi', 'tunisiens'],\n",
       "        strip_accents=None, sublinear_tf=False,\n",
       "        token_pattern='(?u)\\\\b\\\\w\\\\w+\\\\b', tokenizer=None, use_idf=True,\n",
       "        vocabulary=None)"
      ]
     },
     "execution_count": 212,
     "metadata": {},
     "output_type": "execute_result"
    }
   ],
   "source": [
    "tfidf_model = TfidfVectorizer(max_df=maxdf, min_df=mindf, max_features=max_words, stop_words=stop_words_fr, use_idf = True)\n",
    "tfidf_model.fit(Q5_corpus_fr_clean)"
   ]
  },
  {
   "cell_type": "code",
   "execution_count": 213,
   "metadata": {},
   "outputs": [
    {
     "name": "stdout",
     "output_type": "stream",
     "text": [
      "50\n",
      "['autres', 'beaucoup', 'civilisé', 'civisme', 'conscience', 'culture', 'différence', 'différente', 'droits', 'entre', 'esprit', 'etranger', 'existe', 'famille', 'gens', 'incomparab', 'individuel', 'langue', 'liberté', 'loi', 'manque', 'meilleur', 'mentalité', 'mode', 'niveau', 'nouvelle', 'organisati', 'ouverture', 'peuple', 'qualité', 'racisme', 'relation', 'respect', 'rien', 'salaire', 'service', 'social', 'sociale', 'société', 'surtout', 'sécurité', 'tolérance', 'travail', 'trouve', 'tunisien', 'tunisienne', 'valeur', 'vie', 'vivre', 'étranger']\n"
     ]
    }
   ],
   "source": [
    "tfidf_vocab = tfidf_model.get_feature_names()\n",
    "print(len(tfidf_vocab))\n",
    "print(tfidf_vocab)"
   ]
  },
  {
   "cell_type": "code",
   "execution_count": 214,
   "metadata": {},
   "outputs": [],
   "source": [
    "# Sort vocabulary words in ASCENDING order of IDF value (from most frequent to least frequent)\n",
    "#pd.DataFrame(dict(Word=vocab,IDF=tfidf_model.idf_)).sort_values(\"IDF\", inplace=False, ascending = True).head(10)"
   ]
  },
  {
   "cell_type": "code",
   "execution_count": 215,
   "metadata": {},
   "outputs": [
    {
     "data": {
      "text/plain": [
       "set()"
      ]
     },
     "execution_count": 215,
     "metadata": {},
     "output_type": "execute_result"
    }
   ],
   "source": [
    "# compare vocabularies of TF model and TFIDF model\n",
    "set(tfidf_vocab) - set(tf_bow_vocab)"
   ]
  },
  {
   "cell_type": "code",
   "execution_count": 216,
   "metadata": {},
   "outputs": [],
   "source": [
    "# Calculate DTM of our corpus\n",
    "tfidf_dtm = tfidf_model.transform(Q5_corpus_fr_clean)"
   ]
  },
  {
   "cell_type": "code",
   "execution_count": 217,
   "metadata": {},
   "outputs": [
    {
     "name": "stdout",
     "output_type": "stream",
     "text": [
      "<class 'scipy.sparse.csr.csr_matrix'>\n",
      "(252, 50)\n",
      "457\n"
     ]
    }
   ],
   "source": [
    "# Verify the type and size of this matrix\n",
    "print(type(tfidf_dtm))\n",
    "print(tfidf_dtm.shape)\n",
    "# Number of non-zero values in this matrix\n",
    "print(tfidf_dtm.nnz)"
   ]
  },
  {
   "cell_type": "code",
   "execution_count": 218,
   "metadata": {},
   "outputs": [
    {
     "name": "stdout",
     "output_type": "stream",
     "text": [
      "<class 'numpy.ndarray'>\n",
      "(252, 1)\n",
      "[1 1 1 1 0 3 1 3 1 2]\n"
     ]
    }
   ],
   "source": [
    "# How many vocabulary terms are there in every document?\n",
    "nb_terms_per_doc = np.array((tfidf_dtm>0).sum(axis=1))\n",
    "print(type(nb_terms_per_doc))\n",
    "print(nb_terms_per_doc.shape)\n",
    "print(nb_terms_per_doc[0:10,0])"
   ]
  },
  {
   "cell_type": "code",
   "execution_count": 219,
   "metadata": {},
   "outputs": [
    {
     "name": "stdout",
     "output_type": "stream",
     "text": [
      "<class 'numpy.ndarray'>\n",
      "(1, 50)\n",
      "[4 6 5 5 5 9 5 4 4 8]\n"
     ]
    }
   ],
   "source": [
    "# In how many documents does each vocabulary term occur? -- Called the (absolute) document frequency (DF) of a term.\n",
    "doc_freq = np.array((tfidf_dtm>0).sum(axis=0))\n",
    "print(type(doc_freq))\n",
    "print(doc_freq.shape)\n",
    "print(doc_freq[0,0:10])"
   ]
  },
  {
   "cell_type": "code",
   "execution_count": 220,
   "metadata": {},
   "outputs": [
    {
     "name": "stdout",
     "output_type": "stream",
     "text": [
      "<class 'numpy.ndarray'>\n",
      "(1, 50)\n",
      "[0.01587302 0.02380952 0.01984127 0.01984127 0.01984127]\n"
     ]
    }
   ],
   "source": [
    "  # relative frequency i.e. proportion\n",
    "rel_doc_freq = doc_freq / tfidf_dtm.shape[0]\n",
    "print(type(rel_doc_freq))\n",
    "print(rel_doc_freq.shape)\n",
    "print(rel_doc_freq[0,0:5])"
   ]
  },
  {
   "cell_type": "code",
   "execution_count": 221,
   "metadata": {},
   "outputs": [
    {
     "data": {
      "text/html": [
       "<div>\n",
       "<style scoped>\n",
       "    .dataframe tbody tr th:only-of-type {\n",
       "        vertical-align: middle;\n",
       "    }\n",
       "\n",
       "    .dataframe tbody tr th {\n",
       "        vertical-align: top;\n",
       "    }\n",
       "\n",
       "    .dataframe thead th {\n",
       "        text-align: right;\n",
       "    }\n",
       "</style>\n",
       "<table border=\"1\" class=\"dataframe\">\n",
       "  <thead>\n",
       "    <tr style=\"text-align: right;\">\n",
       "      <th></th>\n",
       "      <th>IDF</th>\n",
       "      <th>df</th>\n",
       "      <th>rel_df</th>\n",
       "      <th>word</th>\n",
       "    </tr>\n",
       "  </thead>\n",
       "  <tbody>\n",
       "    <tr>\n",
       "      <th>0</th>\n",
       "      <td>4.923952</td>\n",
       "      <td>4</td>\n",
       "      <td>0.015873</td>\n",
       "      <td>autres</td>\n",
       "    </tr>\n",
       "    <tr>\n",
       "      <th>1</th>\n",
       "      <td>4.587479</td>\n",
       "      <td>6</td>\n",
       "      <td>0.023810</td>\n",
       "      <td>beaucoup</td>\n",
       "    </tr>\n",
       "    <tr>\n",
       "      <th>2</th>\n",
       "      <td>4.741630</td>\n",
       "      <td>5</td>\n",
       "      <td>0.019841</td>\n",
       "      <td>civilisé</td>\n",
       "    </tr>\n",
       "    <tr>\n",
       "      <th>3</th>\n",
       "      <td>4.741630</td>\n",
       "      <td>5</td>\n",
       "      <td>0.019841</td>\n",
       "      <td>civisme</td>\n",
       "    </tr>\n",
       "    <tr>\n",
       "      <th>4</th>\n",
       "      <td>4.741630</td>\n",
       "      <td>5</td>\n",
       "      <td>0.019841</td>\n",
       "      <td>conscience</td>\n",
       "    </tr>\n",
       "  </tbody>\n",
       "</table>\n",
       "</div>"
      ],
      "text/plain": [
       "        IDF  df    rel_df        word\n",
       "0  4.923952   4  0.015873      autres\n",
       "1  4.587479   6  0.023810    beaucoup\n",
       "2  4.741630   5  0.019841    civilisé\n",
       "3  4.741630   5  0.019841     civisme\n",
       "4  4.741630   5  0.019841  conscience"
      ]
     },
     "execution_count": 221,
     "metadata": {},
     "output_type": "execute_result"
    }
   ],
   "source": [
    "# put results in a data frame for easy visualization\n",
    "u = pd.DataFrame(dict(word=tfidf_model.get_feature_names(),IDF=tfidf_model.idf_, df = doc_freq.ravel(), rel_df = rel_doc_freq.ravel()))\n",
    "u.head()"
   ]
  },
  {
   "cell_type": "code",
   "execution_count": 296,
   "metadata": {},
   "outputs": [
    {
     "data": {
      "text/html": [
       "<div>\n",
       "<style scoped>\n",
       "    .dataframe tbody tr th:only-of-type {\n",
       "        vertical-align: middle;\n",
       "    }\n",
       "\n",
       "    .dataframe tbody tr th {\n",
       "        vertical-align: top;\n",
       "    }\n",
       "\n",
       "    .dataframe thead th {\n",
       "        text-align: right;\n",
       "    }\n",
       "</style>\n",
       "<table border=\"1\" class=\"dataframe\">\n",
       "  <thead>\n",
       "    <tr style=\"text-align: right;\">\n",
       "      <th></th>\n",
       "      <th>IDF</th>\n",
       "      <th>df</th>\n",
       "      <th>rel_df</th>\n",
       "      <th>word</th>\n",
       "    </tr>\n",
       "  </thead>\n",
       "  <tbody>\n",
       "    <tr>\n",
       "      <th>22</th>\n",
       "      <td>2.641569</td>\n",
       "      <td>48</td>\n",
       "      <td>0.190476</td>\n",
       "      <td>mentalité</td>\n",
       "    </tr>\n",
       "    <tr>\n",
       "      <th>47</th>\n",
       "      <td>2.726727</td>\n",
       "      <td>44</td>\n",
       "      <td>0.174603</td>\n",
       "      <td>vie</td>\n",
       "    </tr>\n",
       "    <tr>\n",
       "      <th>32</th>\n",
       "      <td>2.949871</td>\n",
       "      <td>35</td>\n",
       "      <td>0.138889</td>\n",
       "      <td>respect</td>\n",
       "    </tr>\n",
       "    <tr>\n",
       "      <th>49</th>\n",
       "      <td>2.978041</td>\n",
       "      <td>34</td>\n",
       "      <td>0.134921</td>\n",
       "      <td>étranger</td>\n",
       "    </tr>\n",
       "    <tr>\n",
       "      <th>24</th>\n",
       "      <td>3.275293</td>\n",
       "      <td>25</td>\n",
       "      <td>0.099206</td>\n",
       "      <td>niveau</td>\n",
       "    </tr>\n",
       "  </tbody>\n",
       "</table>\n",
       "</div>"
      ],
      "text/plain": [
       "         IDF  df    rel_df       word\n",
       "22  2.641569  48  0.190476  mentalité\n",
       "47  2.726727  44  0.174603        vie\n",
       "32  2.949871  35  0.138889    respect\n",
       "49  2.978041  34  0.134921   étranger\n",
       "24  3.275293  25  0.099206     niveau"
      ]
     },
     "execution_count": 296,
     "metadata": {},
     "output_type": "execute_result"
    }
   ],
   "source": [
    "u.sort_values(\"IDF\", inplace=False, ascending = True).head()"
   ]
  },
  {
   "cell_type": "markdown",
   "metadata": {},
   "source": [
    "### Remove documents that contain 0 vocabulary words"
   ]
  },
  {
   "cell_type": "code",
   "execution_count": 223,
   "metadata": {},
   "outputs": [
    {
     "data": {
      "text/plain": [
       "(252,)"
      ]
     },
     "execution_count": 223,
     "metadata": {},
     "output_type": "execute_result"
    }
   ],
   "source": [
    "nb_terms_per_doc = nb_terms_per_doc.ravel()  # convert to a 1D array\n",
    "nb_terms_per_doc.shape"
   ]
  },
  {
   "cell_type": "code",
   "execution_count": 224,
   "metadata": {},
   "outputs": [
    {
     "data": {
      "text/plain": [
       "1     96\n",
       "2     67\n",
       "0     36\n",
       "3     22\n",
       "4     16\n",
       "5      7\n",
       "8      3\n",
       "6      3\n",
       "10     2\n",
       "dtype: int64"
      ]
     },
     "execution_count": 224,
     "metadata": {},
     "output_type": "execute_result"
    }
   ],
   "source": [
    "pd.Series(nb_terms_per_doc.ravel()).value_counts()"
   ]
  },
  {
   "cell_type": "code",
   "execution_count": 225,
   "metadata": {},
   "outputs": [
    {
     "data": {
      "text/plain": [
       "<matplotlib.axes._subplots.AxesSubplot at 0x27cdb42ffd0>"
      ]
     },
     "execution_count": 225,
     "metadata": {},
     "output_type": "execute_result"
    },
    {
     "data": {
      "image/png": "[encoded data removed]",
      "text/plain": [
       "<matplotlib.figure.Figure at 0x27cdb48eeb8>"
      ]
     },
     "metadata": {},
     "output_type": "display_data"
    }
   ],
   "source": [
    "pd.Series(nb_terms_per_doc.ravel()).value_counts().plot(kind='bar')"
   ]
  },
  {
   "cell_type": "code",
   "execution_count": 226,
   "metadata": {},
   "outputs": [],
   "source": [
    "idx = nb_terms_per_doc>0\n",
    "tfidf_dtm_cropped = tfidf_dtm[nb_terms_per_doc>0,:]\n",
    "Q5_corpus_fr_clean_cropped = [Q5_corpus_fr_clean[i] for i,x in enumerate(idx) if x]"
   ]
  },
  {
   "cell_type": "code",
   "execution_count": 227,
   "metadata": {},
   "outputs": [],
   "source": [
    "doc_filter_2 = nb_terms_per_doc>0\n",
    "assert(np.sum(doc_filter_2) == len(Q5_corpus_fr_clean_cropped))"
   ]
  },
  {
   "cell_type": "code",
   "execution_count": 228,
   "metadata": {},
   "outputs": [
    {
     "name": "stdout",
     "output_type": "stream",
     "text": [
      "(252, 50)\n",
      "(216, 50)\n"
     ]
    }
   ],
   "source": [
    "print(tfidf_dtm.shape)\n",
    "print(tfidf_dtm_cropped.shape)"
   ]
  },
  {
   "cell_type": "code",
   "execution_count": 229,
   "metadata": {},
   "outputs": [
    {
     "name": "stdout",
     "output_type": "stream",
     "text": [
      "252\n",
      "216\n"
     ]
    }
   ],
   "source": [
    "print(len(Q5_corpus_fr_clean))\n",
    "print(len(Q5_corpus_fr_clean_cropped))"
   ]
  },
  {
   "cell_type": "code",
   "execution_count": 230,
   "metadata": {},
   "outputs": [
    {
     "data": {
      "text/plain": [
       "['pourrait devenir tolérante',\n",
       " 'pouvoir achat faible',\n",
       " 'chaleureux contre françai sent froideur indifféren',\n",
       " 'responsabi',\n",
       " 'crise identité majorité',\n",
       " 'changer mentalite',\n",
       " 'interdisen vente alcool vendredi',\n",
       " '',\n",
       " '',\n",
       " 'ailleur paradi',\n",
       " 'meilleure parité matière compétence',\n",
       " '',\n",
       " 'mentalit',\n",
       " 'nes taarf kife t3ish',\n",
       " 'environnem',\n",
       " 'suffit voir parent encourage enfant reussir études espoir quiter pay',\n",
       " '',\n",
       " 'applicatio lois',\n",
       " 'faciliter partager informatio encouragem',\n",
       " 'socialemen parlant habitant coopératif aceuillant chaleureux sérieux',\n",
       " 'is better in terms of friend and family abroad is better in term of cost of living',\n",
       " 'cultive difference rejette souvent juge constammen sent opprime',\n",
       " '',\n",
       " 'mentalite',\n",
       " '',\n",
       " 'chaleureux',\n",
       " 'acceptatio absence notion coutume tradition',\n",
       " 'open minded',\n",
       " 'comparable',\n",
       " '',\n",
       " 'respectueu développer',\n",
       " '',\n",
       " '',\n",
       " 'organisé',\n",
       " 'règles',\n",
       " 'différant']"
      ]
     },
     "execution_count": 230,
     "metadata": {},
     "output_type": "execute_result"
    }
   ],
   "source": [
    "# Show documents that were removed because they contain 0 vocabulary terms\n",
    "[Q5_corpus_fr_clean[i] for i,x in enumerate(idx) if not x]"
   ]
  },
  {
   "cell_type": "markdown",
   "metadata": {},
   "source": [
    "*****"
   ]
  },
  {
   "cell_type": "markdown",
   "metadata": {},
   "source": [
    "## 5) Topic Modeling using LDA method\n",
    "- **Input:** DTM matrix; corresponding vocabulary list; number of topics\n",
    "- **Output:** LDA topics"
   ]
  },
  {
   "cell_type": "code",
   "execution_count": 231,
   "metadata": {},
   "outputs": [],
   "source": [
    "from sklearn.decomposition import LatentDirichletAllocation"
   ]
  },
  {
   "cell_type": "code",
   "execution_count": 232,
   "metadata": {},
   "outputs": [],
   "source": [
    "dtm = tfidf_dtm_cropped\n",
    "vocab = tfidf_vocab\n",
    "Nb_Topics = 2"
   ]
  },
  {
   "cell_type": "code",
   "execution_count": 233,
   "metadata": {},
   "outputs": [
    {
     "name": "stdout",
     "output_type": "stream",
     "text": [
      "<class 'numpy.ndarray'>\n",
      "(2, 50)\n"
     ]
    }
   ],
   "source": [
    "# create instance of class\n",
    "lda = LatentDirichletAllocation(n_components=Nb_Topics, learning_method='online', random_state=2019)\n",
    "lda.fit(dtm)\n",
    "assert(Nb_Topics == lda.components_.shape[0])\n",
    "print(type(lda.components_))\n",
    "print(lda.components_.shape)\n",
    "lda.components_.sum(axis=1)\n",
    "lda_doc_weights = lda.transform(dtm)"
   ]
  },
  {
   "cell_type": "code",
   "execution_count": 234,
   "metadata": {},
   "outputs": [
    {
     "name": "stdout",
     "output_type": "stream",
     "text": [
      "<class 'numpy.ndarray'>\n",
      "(216, 2)\n"
     ]
    }
   ],
   "source": [
    "print(type(lda_doc_weights))\n",
    "print(lda_doc_weights.shape)"
   ]
  },
  {
   "cell_type": "code",
   "execution_count": 235,
   "metadata": {},
   "outputs": [
    {
     "data": {
      "text/plain": [
       "array([1., 1., 1., 1., 1., 1., 1., 1., 1., 1., 1., 1., 1., 1., 1., 1., 1.,\n",
       "       1., 1., 1., 1., 1., 1., 1., 1., 1., 1., 1., 1., 1., 1., 1., 1., 1.,\n",
       "       1., 1., 1., 1., 1., 1., 1., 1., 1., 1., 1., 1., 1., 1., 1., 1., 1.,\n",
       "       1., 1., 1., 1., 1., 1., 1., 1., 1., 1., 1., 1., 1., 1., 1., 1., 1.,\n",
       "       1., 1., 1., 1., 1., 1., 1., 1., 1., 1., 1., 1., 1., 1., 1., 1., 1.,\n",
       "       1., 1., 1., 1., 1., 1., 1., 1., 1., 1., 1., 1., 1., 1., 1., 1., 1.,\n",
       "       1., 1., 1., 1., 1., 1., 1., 1., 1., 1., 1., 1., 1., 1., 1., 1., 1.,\n",
       "       1., 1., 1., 1., 1., 1., 1., 1., 1., 1., 1., 1., 1., 1., 1., 1., 1.,\n",
       "       1., 1., 1., 1., 1., 1., 1., 1., 1., 1., 1., 1., 1., 1., 1., 1., 1.,\n",
       "       1., 1., 1., 1., 1., 1., 1., 1., 1., 1., 1., 1., 1., 1., 1., 1., 1.,\n",
       "       1., 1., 1., 1., 1., 1., 1., 1., 1., 1., 1., 1., 1., 1., 1., 1., 1.,\n",
       "       1., 1., 1., 1., 1., 1., 1., 1., 1., 1., 1., 1., 1., 1., 1., 1., 1.,\n",
       "       1., 1., 1., 1., 1., 1., 1., 1., 1., 1., 1., 1.])"
      ]
     },
     "execution_count": 235,
     "metadata": {},
     "output_type": "execute_result"
    }
   ],
   "source": [
    "# verify that the sum of each row = 1\n",
    "lda_doc_weights.sum(axis=1)"
   ]
  },
  {
   "cell_type": "code",
   "execution_count": 236,
   "metadata": {},
   "outputs": [],
   "source": [
    "# select the first row of the lda.components_ matrix\n",
    "x = lda.components_[0,:]"
   ]
  },
  {
   "cell_type": "code",
   "execution_count": 237,
   "metadata": {},
   "outputs": [
    {
     "name": "stdout",
     "output_type": "stream",
     "text": [
      "Top 10 words for each topic:\n",
      "\n",
      "Topic 0: étranger liberté gens culture travail salaire incomparab sécurité société civilisé\n",
      "Topic 1: mentalité vie respect niveau esprit sociale famille tolérance qualité mode\n",
      "\n"
     ]
    }
   ],
   "source": [
    "N = 10\n",
    "\n",
    "print(\"Top 10 words for each topic:\")\n",
    "print()\n",
    "\n",
    "for i in range(Nb_Topics):\n",
    "    topic_weights = lda.components_[i,:]\n",
    "    print (\"Topic %d: \" % (i), end='')\n",
    "    print (\" \".join([vocab[j]\n",
    "                    for j in topic_weights.argsort()[:-N - 1:-1]]))\n",
    "print()"
   ]
  },
  {
   "cell_type": "code",
   "execution_count": 298,
   "metadata": {},
   "outputs": [
    {
     "name": "stdout",
     "output_type": "stream",
     "text": [
      "\n",
      "Topic 0\n",
      "          term  topic_weight\n",
      "49    étranger     19.347103\n",
      "18     liberté      9.854619\n",
      "14        gens      9.436677\n",
      "5      culture      7.144872\n",
      "42     travail      5.038113\n",
      "34     salaire      4.752308\n",
      "15  incomparab      4.287471\n",
      "40    sécurité      4.279091\n",
      "38     société      4.248967\n",
      "2     civilisé      3.929086\n",
      "\n",
      "Topic 1\n",
      "         term  topic_weight\n",
      "22  mentalité     31.278428\n",
      "47        vie     20.822690\n",
      "32    respect     19.105679\n",
      "24     niveau     13.802767\n",
      "10     esprit      7.991189\n",
      "37    sociale      6.650360\n",
      "13    famille      5.820992\n",
      "41  tolérance      5.771791\n",
      "29    qualité      5.445808\n",
      "23       mode      5.111891\n"
     ]
    }
   ],
   "source": [
    "# The top 10 words and their weights in each topic\n",
    "for i in range(0,Nb_Topics):\n",
    "    print()\n",
    "    print(\"Topic\",i)\n",
    "    print(pd.DataFrame(dict(term=vocab, topic_weight= lda.components_[i,:])).sort_values(\"topic_weight\", ascending=False).head(10))"
   ]
  },
  {
   "cell_type": "markdown",
   "metadata": {},
   "source": [
    "#### Visualize topics as word clouds"
   ]
  },
  {
   "cell_type": "code",
   "execution_count": 299,
   "metadata": {},
   "outputs": [],
   "source": [
    "from PIL import Image\n",
    "from wordcloud import WordCloud, ImageColorGenerator\n",
    "Max_Words = 30\n",
    "wc = WordCloud(width = 1000, height = 500, min_font_size=4, max_words=Max_Words)"
   ]
  },
  {
   "cell_type": "code",
   "execution_count": 301,
   "metadata": {},
   "outputs": [
    {
     "name": "stdout",
     "output_type": "stream",
     "text": [
      "Topic 0\n"
     ]
    },
    {
     "data": {
      "image/png": "[encoded data removed]",
      "text/plain": [
       "<matplotlib.figure.Figure at 0x27cdb12dc50>"
      ]
     },
     "metadata": {},
     "output_type": "display_data"
    },
    {
     "name": "stdout",
     "output_type": "stream",
     "text": [
      "Topic 1\n"
     ]
    },
    {
     "data": {
      "image/png": "[encoded data removed]",
      "text/plain": [
       "<matplotlib.figure.Figure at 0x27cdbd33da0>"
      ]
     },
     "metadata": {},
     "output_type": "display_data"
    }
   ],
   "source": [
    "MaxFont = 150\n",
    "\n",
    "for i in range(Nb_Topics):\n",
    "    print(\"Topic\",i)\n",
    "    weighted_MF = int( MaxFont * np.max(lda.components_[i,:]) / np.max(lda.components_) )\n",
    "    d = dict(zip(vocab, lda.components_[i,:]))\n",
    "    z = wc.generate_from_frequencies(d, max_font_size=weighted_MF)\n",
    "    plt.figure(figsize=(15,8))\n",
    "    plt.imshow(z)\n",
    "    plt.axis(\"off\")\n",
    "    plt.show()"
   ]
  },
  {
   "cell_type": "markdown",
   "metadata": {},
   "source": [
    "### Naming the Topics"
   ]
  },
  {
   "cell_type": "code",
   "execution_count": 320,
   "metadata": {},
   "outputs": [],
   "source": [
    "topic_names = ['Ethiques et valeurs', 'Qualité de Vie']"
   ]
  },
  {
   "cell_type": "markdown",
   "metadata": {},
   "source": [
    "### Understand and Interpret Document Weights"
   ]
  },
  {
   "cell_type": "markdown",
   "metadata": {},
   "source": [
    "#### Visualize documents as points in topic space"
   ]
  },
  {
   "cell_type": "code",
   "execution_count": 321,
   "metadata": {},
   "outputs": [
    {
     "data": {
      "text/plain": [
       "Text(0,0.5,'Qualité')"
      ]
     },
     "execution_count": 321,
     "metadata": {},
     "output_type": "execute_result"
    },
    {
     "data": {
      "image/png": "[encoded data removed]",
      "text/plain": [
       "<matplotlib.figure.Figure at 0x27ce0bc8e48>"
      ]
     },
     "metadata": {},
     "output_type": "display_data"
    }
   ],
   "source": [
    "plt.scatter(lda_doc_weights[:,0],lda_doc_weights[:,1],s=2, marker=\"o\",color='blue')\n",
    "plt.xlabel('Ethiques')\n",
    "plt.ylabel('Qualité')"
   ]
  },
  {
   "cell_type": "code",
   "execution_count": 322,
   "metadata": {},
   "outputs": [
    {
     "data": {
      "text/plain": [
       "Text(0,0.5,'Qualité de vie')"
      ]
     },
     "execution_count": 322,
     "metadata": {},
     "output_type": "execute_result"
    },
    {
     "data": {
      "image/png": "[encoded data removed]",
      "text/plain": [
       "<matplotlib.figure.Figure at 0x27ce0b50e80>"
      ]
     },
     "metadata": {},
     "output_type": "display_data"
    }
   ],
   "source": [
    "plt.scatter(lda_doc_weights[:,0],lda_doc_weights[:,1],s=1, marker=\"o\",color='green')\n",
    "plt.xlabel('Ethiques et Valeurs')\n",
    "plt.ylabel('Qualité de vie')"
   ]
  },
  {
   "cell_type": "markdown",
   "metadata": {},
   "source": [
    "#### Visualize dominant topic of documents\n",
    "We define the 'dominant' topic of a document as the topic with the largest weight value for that document."
   ]
  },
  {
   "cell_type": "code",
   "execution_count": 323,
   "metadata": {},
   "outputs": [],
   "source": [
    "dom_topic_weights = pd.Series(np.max(lda_doc_weights,axis=1))\n",
    "dom_topic_labels = pd.Series(np.argmax(lda_doc_weights,axis=1))"
   ]
  },
  {
   "cell_type": "code",
   "execution_count": 324,
   "metadata": {},
   "outputs": [
    {
     "data": {
      "text/plain": [
       "1    122\n",
       "0     94\n",
       "dtype: int64"
      ]
     },
     "execution_count": 324,
     "metadata": {},
     "output_type": "execute_result"
    }
   ],
   "source": [
    "dom_topic_labels.value_counts()"
   ]
  },
  {
   "cell_type": "code",
   "execution_count": 325,
   "metadata": {},
   "outputs": [
    {
     "data": {
      "text/plain": [
       "<matplotlib.axes._subplots.AxesSubplot at 0x27ce0b94390>"
      ]
     },
     "execution_count": 325,
     "metadata": {},
     "output_type": "execute_result"
    },
    {
     "data": {
      "image/png": "[encoded data removed]",
      "text/plain": [
       "<matplotlib.figure.Figure at 0x27ce0ac5eb8>"
      ]
     },
     "metadata": {},
     "output_type": "display_data"
    }
   ],
   "source": [
    "dom_topic_labels.value_counts().plot(kind='bar')"
   ]
  },
  {
   "cell_type": "code",
   "execution_count": 326,
   "metadata": {
    "scrolled": true
   },
   "outputs": [
    {
     "data": {
      "text/plain": [
       "<matplotlib.axes._subplots.AxesSubplot at 0x27ce0bd0978>"
      ]
     },
     "execution_count": 326,
     "metadata": {},
     "output_type": "execute_result"
    },
    {
     "data": {
      "image/png": "[encoded data removed]",
      "text/plain": [
       "<matplotlib.figure.Figure at 0x27ce0c58198>"
      ]
     },
     "metadata": {},
     "output_type": "display_data"
    }
   ],
   "source": [
    "dom_topic_weights.plot(kind='hist')"
   ]
  },
  {
   "cell_type": "code",
   "execution_count": 327,
   "metadata": {},
   "outputs": [
    {
     "data": {
      "text/plain": [
       "count    216.000000\n",
       "mean       0.727111\n",
       "std        0.076783\n",
       "min        0.501754\n",
       "25%        0.735717\n",
       "50%        0.744022\n",
       "75%        0.785044\n",
       "max        0.826558\n",
       "dtype: float64"
      ]
     },
     "execution_count": 327,
     "metadata": {},
     "output_type": "execute_result"
    }
   ],
   "source": [
    "dom_topic_weights.describe()"
   ]
  },
  {
   "cell_type": "code",
   "execution_count": 328,
   "metadata": {},
   "outputs": [
    {
     "data": {
      "text/plain": [
       "2"
      ]
     },
     "execution_count": 328,
     "metadata": {},
     "output_type": "execute_result"
    }
   ],
   "source": [
    "np.sum((dom_topic_weights>.66) & (dom_topic_weights<.67))"
   ]
  },
  {
   "cell_type": "code",
   "execution_count": 329,
   "metadata": {},
   "outputs": [
    {
     "data": {
      "text/plain": [
       "178"
      ]
     },
     "execution_count": 329,
     "metadata": {},
     "output_type": "execute_result"
    }
   ],
   "source": [
    "# How many documents have a clearly dominant topic?\n",
    "np.sum(dom_topic_weights>=0.666)"
   ]
  },
  {
   "cell_type": "code",
   "execution_count": 330,
   "metadata": {},
   "outputs": [
    {
     "data": {
      "text/plain": [
       "0"
      ]
     },
     "execution_count": 330,
     "metadata": {},
     "output_type": "execute_result"
    }
   ],
   "source": [
    "# How many documents do not have a clearly dominant topic\n",
    "np.sum(dom_topic_weights<=0.5)"
   ]
  },
  {
   "cell_type": "code",
   "execution_count": 331,
   "metadata": {},
   "outputs": [],
   "source": [
    "# Which documents do not have a clearly dominant topic\n",
    "for i,x in enumerate(dom_topic_weights):\n",
    "    if x<=0.5:\n",
    "        print(lda_doc_weights[i,:],Q5_corpus_fr_clean_cropped[i])"
   ]
  },
  {
   "cell_type": "markdown",
   "metadata": {},
   "source": [
    "### Label each document with corresponding dominant topic"
   ]
  },
  {
   "cell_type": "code",
   "execution_count": 332,
   "metadata": {},
   "outputs": [],
   "source": [
    "# create a new column and initialize all its elements to 'Unknown'\n",
    "df['Q5_category'] = \"Unknown\""
   ]
  },
  {
   "cell_type": "code",
   "execution_count": 333,
   "metadata": {},
   "outputs": [
    {
     "data": {
      "text/plain": [
       "(258, 252, 216)"
      ]
     },
     "execution_count": 333,
     "metadata": {},
     "output_type": "execute_result"
    }
   ],
   "source": [
    "len(doc_filter_1),len(doc_filter_2),len(dom_topic_labels)"
   ]
  },
  {
   "cell_type": "code",
   "execution_count": 334,
   "metadata": {},
   "outputs": [],
   "source": [
    "j = 0\n",
    "k = 0\n",
    "for i in range(df.shape[0]):\n",
    "    if doc_filter_1[i]:\n",
    "        if doc_filter_2[j]:\n",
    "            df.loc[i,'Q5_category'] = topic_names[dom_topic_labels[k]]\n",
    "            k=k+1\n",
    "        j=j+1"
   ]
  },
  {
   "cell_type": "code",
   "execution_count": 335,
   "metadata": {},
   "outputs": [
    {
     "data": {
      "text/plain": [
       "(252, 252)"
      ]
     },
     "execution_count": 335,
     "metadata": {},
     "output_type": "execute_result"
    }
   ],
   "source": [
    "np.sum(doc_filter_1),j"
   ]
  },
  {
   "cell_type": "code",
   "execution_count": 336,
   "metadata": {},
   "outputs": [
    {
     "data": {
      "text/plain": [
       "(216, 216)"
      ]
     },
     "execution_count": 336,
     "metadata": {},
     "output_type": "execute_result"
    }
   ],
   "source": [
    "np.sum(doc_filter_2),k"
   ]
  },
  {
   "cell_type": "code",
   "execution_count": 337,
   "metadata": {},
   "outputs": [
    {
     "data": {
      "text/plain": [
       "Qualité de Vie         122\n",
       "Ethiques et valeurs     94\n",
       "Unknown                 42\n",
       "Name: Q5_category, dtype: int64"
      ]
     },
     "execution_count": 337,
     "metadata": {},
     "output_type": "execute_result"
    }
   ],
   "source": [
    "df['Q5_category'].value_counts()"
   ]
  },
  {
   "cell_type": "code",
   "execution_count": 338,
   "metadata": {},
   "outputs": [
    {
     "data": {
      "text/plain": [
       "<matplotlib.axes._subplots.AxesSubplot at 0x27ce0c33b70>"
      ]
     },
     "execution_count": 338,
     "metadata": {},
     "output_type": "execute_result"
    },
    {
     "data": {
      "image/png": "[encoded data removed]",
      "text/plain": [
       "<matplotlib.figure.Figure at 0x27ce0d05d30>"
      ]
     },
     "metadata": {},
     "output_type": "display_data"
    }
   ],
   "source": [
    "df['Q5_category'].value_counts().plot(kind='bar')"
   ]
  },
  {
   "cell_type": "markdown",
   "metadata": {},
   "source": [
    "*****"
   ]
  },
  {
   "cell_type": "markdown",
   "metadata": {},
   "source": [
    "## 6) Document Clustering"
   ]
  },
  {
   "cell_type": "code",
   "execution_count": 339,
   "metadata": {},
   "outputs": [],
   "source": [
    "from sklearn.cluster import KMeans\n",
    "from sklearn.metrics import silhouette_score"
   ]
  },
  {
   "cell_type": "code",
   "execution_count": 340,
   "metadata": {},
   "outputs": [],
   "source": [
    "dtm = tfidf_dtm_cropped"
   ]
  },
  {
   "cell_type": "markdown",
   "metadata": {},
   "source": [
    "### a) Using BOW feature vectors"
   ]
  },
  {
   "cell_type": "code",
   "execution_count": 341,
   "metadata": {},
   "outputs": [
    {
     "data": {
      "text/plain": [
       "KMeans(algorithm='auto', copy_x=True, init='k-means++', max_iter=300,\n",
       "    n_clusters=2, n_init=10, n_jobs=1, precompute_distances='auto',\n",
       "    random_state=10, tol=0.0001, verbose=0)"
      ]
     },
     "execution_count": 341,
     "metadata": {},
     "output_type": "execute_result"
    }
   ],
   "source": [
    "km = KMeans(n_clusters=2, random_state=10)\n",
    "km.fit(dtm)"
   ]
  },
  {
   "cell_type": "code",
   "execution_count": 342,
   "metadata": {},
   "outputs": [
    {
     "data": {
      "text/plain": [
       "177.00349085014903"
      ]
     },
     "execution_count": 342,
     "metadata": {},
     "output_type": "execute_result"
    }
   ],
   "source": [
    "# Sum of Squared Distances:\n",
    "km.inertia_"
   ]
  },
  {
   "cell_type": "code",
   "execution_count": 343,
   "metadata": {},
   "outputs": [
    {
     "data": {
      "text/plain": [
       "0    175\n",
       "1     41\n",
       "dtype: int64"
      ]
     },
     "execution_count": 343,
     "metadata": {},
     "output_type": "execute_result"
    }
   ],
   "source": [
    "# Number of documents in each cluster\n",
    "pd.Series(km.labels_).value_counts()"
   ]
  },
  {
   "cell_type": "markdown",
   "metadata": {},
   "source": [
    "### Elbow method"
   ]
  },
  {
   "cell_type": "code",
   "execution_count": 344,
   "metadata": {},
   "outputs": [],
   "source": [
    "K_values = range(1,11)\n",
    "Sum_of_squared_distances = []   \n",
    "for k in K_values:  \n",
    "    km = KMeans(n_clusters=k, random_state=10)  \n",
    "    km.fit(dtm) \n",
    "    Sum_of_squared_distances.append(km.inertia_)"
   ]
  },
  {
   "cell_type": "code",
   "execution_count": 345,
   "metadata": {},
   "outputs": [
    {
     "data": {
      "text/plain": [
       "[<matplotlib.lines.Line2D at 0x27ce0dcb390>]"
      ]
     },
     "execution_count": 345,
     "metadata": {},
     "output_type": "execute_result"
    },
    {
     "data": {
      "image/png": "[encoded data removed]",
      "text/plain": [
       "<matplotlib.figure.Figure at 0x27ce0d05128>"
      ]
     },
     "metadata": {},
     "output_type": "display_data"
    }
   ],
   "source": [
    "plt.plot(K_values,Sum_of_squared_distances)"
   ]
  },
  {
   "cell_type": "markdown",
   "metadata": {},
   "source": [
    "### b) Using LDA weights"
   ]
  },
  {
   "cell_type": "code",
   "execution_count": 346,
   "metadata": {},
   "outputs": [
    {
     "data": {
      "text/plain": [
       "KMeans(algorithm='auto', copy_x=True, init='k-means++', max_iter=300,\n",
       "    n_clusters=2, n_init=10, n_jobs=1, precompute_distances='auto',\n",
       "    random_state=10, tol=0.0001, verbose=0)"
      ]
     },
     "execution_count": 346,
     "metadata": {},
     "output_type": "execute_result"
    }
   ],
   "source": [
    "# create instance of KMeans class\n",
    "km2 = KMeans(n_clusters=2, random_state=10)\n",
    "\n",
    "# run kMeans algorithm\n",
    "km2.fit(lda_doc_weights)"
   ]
  },
  {
   "cell_type": "code",
   "execution_count": 347,
   "metadata": {},
   "outputs": [
    {
     "data": {
      "text/plain": [
       "2.522160951125314"
      ]
     },
     "execution_count": 347,
     "metadata": {},
     "output_type": "execute_result"
    }
   ],
   "source": [
    "# Determine the value of SSD (Sum of Squared Distances)\n",
    "km2.inertia_"
   ]
  },
  {
   "cell_type": "code",
   "execution_count": 348,
   "metadata": {},
   "outputs": [
    {
     "data": {
      "text/plain": [
       "0    121\n",
       "1     95\n",
       "dtype: int64"
      ]
     },
     "execution_count": 348,
     "metadata": {},
     "output_type": "execute_result"
    }
   ],
   "source": [
    "# Number of documents in each cluster\n",
    "pd.Series(km2.labels_).value_counts()"
   ]
  },
  {
   "cell_type": "markdown",
   "metadata": {},
   "source": [
    "### Elbow method\n",
    "Use the 'elbow' method in order to find best number of clusters."
   ]
  },
  {
   "cell_type": "code",
   "execution_count": 349,
   "metadata": {},
   "outputs": [],
   "source": [
    "K_values = range(1,11)\n",
    "Sum_of_squared_distances2 = []\n",
    "for k in K_values:\n",
    "    km_ = KMeans(n_clusters=k, random_state=6724)   # create instance of KMeans class\n",
    "    km_.fit(lda_doc_weights)\n",
    "    Sum_of_squared_distances2.append(km_.inertia_)"
   ]
  },
  {
   "cell_type": "code",
   "execution_count": 350,
   "metadata": {},
   "outputs": [
    {
     "data": {
      "text/plain": [
       "[<matplotlib.lines.Line2D at 0x27ce0e2e320>]"
      ]
     },
     "execution_count": 350,
     "metadata": {},
     "output_type": "execute_result"
    },
    {
     "data": {
      "image/png": "[encoded data removed]",
      "text/plain": [
       "<matplotlib.figure.Figure at 0x27ce0dcb908>"
      ]
     },
     "metadata": {},
     "output_type": "display_data"
    }
   ],
   "source": [
    "# plot the SSD curve\n",
    "plt.plot(K_values,Sum_of_squared_distances2)\n",
    "#plt.ylim([0, 50])"
   ]
  },
  {
   "cell_type": "markdown",
   "metadata": {},
   "source": [
    "On remarque que le nombre de clusters est égale à 2."
   ]
  },
  {
   "cell_type": "markdown",
   "metadata": {},
   "source": [
    "****"
   ]
  },
  {
   "cell_type": "markdown",
   "metadata": {},
   "source": [
    "### Conclusion: Topic Modeling vs. Clustering\n",
    "Based on the above results:\n"
   ]
  },
  {
   "cell_type": "markdown",
   "metadata": {},
   "source": [
    "LDA est la methode la plus adéquate to cluster the documents in this corpus.\n",
    "Each cluster represent a topic."
   ]
  },
  {
   "cell_type": "markdown",
   "metadata": {},
   "source": [
    "*****"
   ]
  },
  {
   "cell_type": "markdown",
   "metadata": {},
   "source": [
    "## 7) Predictive Modeling\n",
    "We would like to extract a predictive model of the form: ``Q1_category = f(other non-text attributes)`` which will help us understand how the answers vary based on the characteristics of the respondent.\n",
    "\n",
    "Instructions:\n",
    "- You should use the following 8 predictor attributes which are all **categorical**: 'Votre âge', 'Sexe', 'Etat civil', 'Niveau d'étude', 'Etablissement d'études', 'Situation professionnelle', 'Région', 'Domaine d'études'.\n",
    "- The ``Timestamp`` attribute is obviously useless and that is why I do not incude it in the model.\n",
    "- Because the attributes 'Etablissement d'études' and 'Domaine d'études' have a large number of unique values, you should reduce their number of values to only 5 values by aggregating the least frequent values to a single category called 'Other'.\n",
    "- After training this model, determine which of the 8 attributes are the best predictors of the Q1_category, based on the parameter values of this model.\n",
    "- You should use either the **logistic regression** or **random forest** method to approximate the function ``f``."
   ]
  },
  {
   "cell_type": "markdown",
   "metadata": {},
   "source": [
    "#### a) Prepare data"
   ]
  },
  {
   "cell_type": "code",
   "execution_count": 351,
   "metadata": {},
   "outputs": [],
   "source": [
    "df2 = df.copy()"
   ]
  },
  {
   "cell_type": "code",
   "execution_count": 352,
   "metadata": {},
   "outputs": [
    {
     "data": {
      "text/plain": [
       "Index(['Timestamp', 'Votre âge', 'Sexe', 'Etat civil', 'Niveau d'étude',\n",
       "       'Etablissement d'études', 'Situation professionnelle', 'Région',\n",
       "       'Domaine d'études'],\n",
       "      dtype='object')"
      ]
     },
     "execution_count": 352,
     "metadata": {},
     "output_type": "execute_result"
    }
   ],
   "source": [
    "df2.columns[0:9]"
   ]
  },
  {
   "cell_type": "code",
   "execution_count": 353,
   "metadata": {},
   "outputs": [
    {
     "data": {
      "text/plain": [
       "Votre âge                    object\n",
       "Sexe                         object\n",
       "Etat civil                   object\n",
       "Niveau d'étude               object\n",
       "Etablissement d'études       object\n",
       "Situation professionnelle    object\n",
       "Région                       object\n",
       "Domaine d'études             object\n",
       "dtype: object"
      ]
     },
     "execution_count": 353,
     "metadata": {},
     "output_type": "execute_result"
    }
   ],
   "source": [
    "df2.dtypes[1:9]"
   ]
  },
  {
   "cell_type": "code",
   "execution_count": 354,
   "metadata": {},
   "outputs": [
    {
     "data": {
      "text/html": [
       "<div>\n",
       "<style scoped>\n",
       "    .dataframe tbody tr th:only-of-type {\n",
       "        vertical-align: middle;\n",
       "    }\n",
       "\n",
       "    .dataframe tbody tr th {\n",
       "        vertical-align: top;\n",
       "    }\n",
       "\n",
       "    .dataframe thead th {\n",
       "        text-align: right;\n",
       "    }\n",
       "</style>\n",
       "<table border=\"1\" class=\"dataframe\">\n",
       "  <thead>\n",
       "    <tr style=\"text-align: right;\">\n",
       "      <th></th>\n",
       "      <th>Votre âge</th>\n",
       "      <th>Sexe</th>\n",
       "      <th>Etat civil</th>\n",
       "      <th>Niveau d'étude</th>\n",
       "      <th>Etablissement d'études</th>\n",
       "      <th>Situation professionnelle</th>\n",
       "      <th>Région</th>\n",
       "      <th>Domaine d'études</th>\n",
       "    </tr>\n",
       "  </thead>\n",
       "  <tbody>\n",
       "    <tr>\n",
       "      <th>0</th>\n",
       "      <td>20-25</td>\n",
       "      <td>Homme</td>\n",
       "      <td>Célibataire</td>\n",
       "      <td>Mastère</td>\n",
       "      <td>A University not appearing in this list</td>\n",
       "      <td>Etudiant</td>\n",
       "      <td>Autre</td>\n",
       "      <td>Sciences de l'Ingénieur</td>\n",
       "    </tr>\n",
       "    <tr>\n",
       "      <th>1</th>\n",
       "      <td>31 et plus</td>\n",
       "      <td>Homme</td>\n",
       "      <td>Marié</td>\n",
       "      <td>Licence</td>\n",
       "      <td>ATFP</td>\n",
       "      <td>en chômage</td>\n",
       "      <td>Grand Tunis</td>\n",
       "      <td>biologie medical</td>\n",
       "    </tr>\n",
       "    <tr>\n",
       "      <th>2</th>\n",
       "      <td>20-25</td>\n",
       "      <td>Homme</td>\n",
       "      <td>Célibataire</td>\n",
       "      <td>Licence</td>\n",
       "      <td>Autre</td>\n",
       "      <td>Etudiant</td>\n",
       "      <td>Grand Tunis</td>\n",
       "      <td>Economie et gestion</td>\n",
       "    </tr>\n",
       "    <tr>\n",
       "      <th>3</th>\n",
       "      <td>20-25</td>\n",
       "      <td>Homme</td>\n",
       "      <td>Célibataire</td>\n",
       "      <td>Licence</td>\n",
       "      <td>CFT</td>\n",
       "      <td>Etudiant</td>\n",
       "      <td>Grand Tunis</td>\n",
       "      <td>Informatique</td>\n",
       "    </tr>\n",
       "    <tr>\n",
       "      <th>4</th>\n",
       "      <td>20-25</td>\n",
       "      <td>Homme</td>\n",
       "      <td>Célibataire</td>\n",
       "      <td>Licence</td>\n",
       "      <td>Columbia University</td>\n",
       "      <td>Etudiant</td>\n",
       "      <td>Autre</td>\n",
       "      <td>Sciences humaines et sociales</td>\n",
       "    </tr>\n",
       "  </tbody>\n",
       "</table>\n",
       "</div>"
      ],
      "text/plain": [
       "    Votre âge   Sexe   Etat civil Niveau d'étude  \\\n",
       "0       20-25  Homme  Célibataire        Mastère   \n",
       "1  31 et plus  Homme        Marié        Licence   \n",
       "2       20-25  Homme  Célibataire        Licence   \n",
       "3       20-25  Homme  Célibataire        Licence   \n",
       "4       20-25  Homme  Célibataire        Licence   \n",
       "\n",
       "                    Etablissement d'études Situation professionnelle  \\\n",
       "0  A University not appearing in this list                  Etudiant   \n",
       "1                                     ATFP                en chômage   \n",
       "2                                   Autre                   Etudiant   \n",
       "3                                      CFT                  Etudiant   \n",
       "4                      Columbia University                  Etudiant   \n",
       "\n",
       "        Région               Domaine d'études  \n",
       "0        Autre        Sciences de l'Ingénieur  \n",
       "1  Grand Tunis               biologie medical  \n",
       "2  Grand Tunis            Economie et gestion  \n",
       "3  Grand Tunis                   Informatique  \n",
       "4        Autre  Sciences humaines et sociales  "
      ]
     },
     "execution_count": 354,
     "metadata": {},
     "output_type": "execute_result"
    }
   ],
   "source": [
    "df2.iloc[:,1:9].head()"
   ]
  },
  {
   "cell_type": "code",
   "execution_count": 355,
   "metadata": {},
   "outputs": [
    {
     "data": {
      "text/plain": [
       "Votre âge                     3\n",
       "Sexe                          2\n",
       "Etat civil                    2\n",
       "Niveau d'étude                3\n",
       "Etablissement d'études       83\n",
       "Situation professionnelle     3\n",
       "Région                        4\n",
       "dtype: int64"
      ]
     },
     "execution_count": 355,
     "metadata": {},
     "output_type": "execute_result"
    }
   ],
   "source": [
    "# verify the number of distinct values in each predictor attribute\n",
    "df2.iloc[:,1:8].nunique(axis=0)"
   ]
  },
  {
   "cell_type": "code",
   "execution_count": 356,
   "metadata": {},
   "outputs": [
    {
     "data": {
      "text/plain": [
       "20-25         208\n",
       "26-30          34\n",
       "31 et plus     16\n",
       "Name: Votre âge, dtype: int64"
      ]
     },
     "execution_count": 356,
     "metadata": {},
     "output_type": "execute_result"
    }
   ],
   "source": [
    "df2['Votre âge'].value_counts()"
   ]
  },
  {
   "cell_type": "code",
   "execution_count": 357,
   "metadata": {},
   "outputs": [
    {
     "data": {
      "text/plain": [
       "<matplotlib.axes._subplots.AxesSubplot at 0x27ce0e12588>"
      ]
     },
     "execution_count": 357,
     "metadata": {},
     "output_type": "execute_result"
    },
    {
     "data": {
      "image/png": "[encoded data removed]",
      "text/plain": [
       "<matplotlib.figure.Figure at 0x27ce0e2eac8>"
      ]
     },
     "metadata": {},
     "output_type": "display_data"
    }
   ],
   "source": [
    "df2['Votre âge'].value_counts().plot(kind='bar')"
   ]
  },
  {
   "cell_type": "code",
   "execution_count": 358,
   "metadata": {},
   "outputs": [
    {
     "data": {
      "image/png": "[encoded data removed]",
      "text/plain": [
       "<matplotlib.figure.Figure at 0x27cdf15b7f0>"
      ]
     },
     "metadata": {},
     "output_type": "display_data"
    }
   ],
   "source": [
    "from collections import Counter\n",
    "sent = df2[\"Sexe\"]\n",
    "\n",
    "## use Counter to count how many times each sentiment appears\n",
    "## and save each as a variable\n",
    "counter = Counter(sent)\n",
    "positive = counter['Femme']\n",
    "negative = counter['Homme']\n",
    "\n",
    "## declare the variables for the pie chart, using the Counter variables for “sizes”\n",
    "labels = 'Femme', 'Hommme'\n",
    "sizes = [positive, negative]\n",
    "colors = ['green', 'red']\n",
    "yourtext = \"Femme vs Homme:\"\n",
    "\n",
    "## use matplotlib to plot the chart\n",
    "plt.pie(sizes, labels = labels, colors = colors, shadow = True, startangle = 90)\n",
    "plt.title(\" \"+yourtext)\n",
    "plt.show()"
   ]
  },
  {
   "cell_type": "code",
   "execution_count": 359,
   "metadata": {},
   "outputs": [
    {
     "data": {
      "image/png": "[encoded data removed]",
      "text/plain": [
       "<matplotlib.figure.Figure at 0x27cdbd30518>"
      ]
     },
     "metadata": {},
     "output_type": "display_data"
    }
   ],
   "source": [
    "from collections import Counter\n",
    "sent = df2[\"Etat civil\"]\n",
    "\n",
    "## use Counter to count how many times each sentiment appears\n",
    "## and save each as a variable\n",
    "counter = Counter(sent)\n",
    "positive = counter['Célibataire']\n",
    "negative = counter['Marié']\n",
    "\n",
    "## declare the variables for the pie chart, using the Counter variables for “sizes”\n",
    "labels =  'Célibataire', 'Marié'\n",
    "sizes = [positive, negative]\n",
    "colors = ['green', 'red']\n",
    "yourtext = \"Célibataire vs marié\"\n",
    "\n",
    "## use matplotlib to plot the chart\n",
    "plt.pie(sizes, labels = labels, colors = colors, shadow = True, startangle = 90)\n",
    "plt.title(\" \"+yourtext)\n",
    "plt.show()"
   ]
  },
  {
   "cell_type": "code",
   "execution_count": 360,
   "metadata": {},
   "outputs": [
    {
     "data": {
      "text/plain": [
       "<matplotlib.axes._subplots.AxesSubplot at 0x27ce0bbd748>"
      ]
     },
     "execution_count": 360,
     "metadata": {},
     "output_type": "execute_result"
    },
    {
     "data": {
      "image/png": "[encoded data removed]",
      "text/plain": [
       "<matplotlib.figure.Figure at 0x27ce0dd95c0>"
      ]
     },
     "metadata": {},
     "output_type": "display_data"
    }
   ],
   "source": [
    "df2['Niveau d\\'étude'].value_counts().plot(kind='bar')"
   ]
  },
  {
   "cell_type": "code",
   "execution_count": 361,
   "metadata": {},
   "outputs": [
    {
     "data": {
      "text/plain": [
       "Grand Tunis    175\n",
       "Autre           62\n",
       "Sfax            12\n",
       "Sousse           9\n",
       "Name: Région, dtype: int64"
      ]
     },
     "execution_count": 361,
     "metadata": {},
     "output_type": "execute_result"
    }
   ],
   "source": [
    "df2['Région'].value_counts()"
   ]
  },
  {
   "cell_type": "code",
   "execution_count": 379,
   "metadata": {},
   "outputs": [],
   "source": [
    "# The \"Etablissement d'études\" attribute also has too many distinct values!\n",
    "#df2['Etablissement d\\'études'].value_counts()"
   ]
  },
  {
   "cell_type": "code",
   "execution_count": 363,
   "metadata": {},
   "outputs": [
    {
     "data": {
      "text/plain": [
       "Other    109\n",
       "INSAT     86\n",
       "ENIT      38\n",
       "FST       14\n",
       "ESSAI     11\n",
       "Name: Etablissement d'études, dtype: int64"
      ]
     },
     "execution_count": 363,
     "metadata": {},
     "output_type": "execute_result"
    }
   ],
   "source": [
    "# Let's reduce the number of values of the \"Etablissement d'études\" attribute\n",
    "df2.loc[~df2['Etablissement d\\'études'].isin(['INSAT', 'ENIT','FST','ESSAI']),'Etablissement d\\'études'] = 'Other'\n",
    "df2['Etablissement d\\'études'].value_counts()"
   ]
  },
  {
   "cell_type": "code",
   "execution_count": 378,
   "metadata": {},
   "outputs": [],
   "source": [
    "# The \"Domaine d'études\" attribute also has too many distinct values!\n",
    "#df2['Domaine d\\'études'].value_counts()"
   ]
  },
  {
   "cell_type": "code",
   "execution_count": 365,
   "metadata": {},
   "outputs": [],
   "source": [
    "# Let's reduce the number of distinct values of the \"Domaine d'études\" attribute to only 2\n",
    "# You can use a different way of doing this (for example, reduce to 5 values instead of 2)\n",
    "df2.loc[df2['Domaine d\\'études'] != 'Sciences de l\\'Ingénieur', 'Domaine d\\'études'] = 'Other'"
   ]
  },
  {
   "cell_type": "code",
   "execution_count": 366,
   "metadata": {},
   "outputs": [
    {
     "data": {
      "text/plain": [
       "Votre âge                    3\n",
       "Sexe                         2\n",
       "Etat civil                   2\n",
       "Niveau d'étude               3\n",
       "Etablissement d'études       5\n",
       "Situation professionnelle    3\n",
       "Région                       4\n",
       "Domaine d'études             2\n",
       "dtype: int64"
      ]
     },
     "execution_count": 366,
     "metadata": {},
     "output_type": "execute_result"
    }
   ],
   "source": [
    "# verify the number of distinct values in each predictor attribute\n",
    "df2.iloc[:,1:9].nunique(axis=0)"
   ]
  },
  {
   "cell_type": "code",
   "execution_count": 367,
   "metadata": {},
   "outputs": [
    {
     "data": {
      "text/plain": [
       "Sciences de l'Ingénieur    181\n",
       "Other                       77\n",
       "Name: Domaine d'études, dtype: int64"
      ]
     },
     "execution_count": 367,
     "metadata": {},
     "output_type": "execute_result"
    }
   ],
   "source": [
    "df2['Domaine d\\'études'].value_counts()"
   ]
  },
  {
   "cell_type": "markdown",
   "metadata": {},
   "source": [
    "#### b) Pattern extraction"
   ]
  },
  {
   "cell_type": "markdown",
   "metadata": {},
   "source": [
    "#Check the independence between the independent variables"
   ]
  },
  {
   "cell_type": "code",
   "execution_count": 370,
   "metadata": {},
   "outputs": [
    {
     "data": {
      "text/plain": [
       "[<matplotlib.lines.Line2D at 0x27cdbe53518>]"
      ]
     },
     "execution_count": 370,
     "metadata": {},
     "output_type": "execute_result"
    },
    {
     "data": {
      "image/png": "[encoded data removed]",
      "text/plain": [
       "<matplotlib.figure.Figure at 0x27cdf2f5b38>"
      ]
     },
     "metadata": {},
     "output_type": "display_data"
    }
   ],
   "source": [
    "res_class = LogisticRegression(random_state=0, solver='lbfgs',multi_class='multinomial').fit(data3, df2['Q5_category'])\n",
    "res_class.coef_[1]\n",
    "plt.plot(res_class.coef_[1])"
   ]
  },
  {
   "cell_type": "markdown",
   "metadata": {},
   "source": [
    "## Visualization and interpretation of results"
   ]
  },
  {
   "cell_type": "code",
   "execution_count": 375,
   "metadata": {},
   "outputs": [
    {
     "data": {
      "text/plain": [
       "<matplotlib.axes._subplots.AxesSubplot at 0x27cdc0e9b38>"
      ]
     },
     "execution_count": 375,
     "metadata": {},
     "output_type": "execute_result"
    },
    {
     "data": {
      "image/png": "[encoded data removed]",
      "text/plain": [
       "<matplotlib.figure.Figure at 0x27cdc0c9e10>"
      ]
     },
     "metadata": {},
     "output_type": "display_data"
    }
   ],
   "source": [
    "import seaborn as sns\n",
    "sns.countplot(x='Q5_category',hue='Sexe',data=df2)"
   ]
  },
  {
   "cell_type": "code",
   "execution_count": 372,
   "metadata": {},
   "outputs": [
    {
     "data": {
      "text/plain": [
       "<matplotlib.axes._subplots.AxesSubplot at 0x27cdbe772b0>"
      ]
     },
     "execution_count": 372,
     "metadata": {},
     "output_type": "execute_result"
    },
    {
     "data": {
      "image/png": "[encoded data removed]",
      "text/plain": [
       "<matplotlib.figure.Figure at 0x27ce0e715c0>"
      ]
     },
     "metadata": {},
     "output_type": "display_data"
    }
   ],
   "source": [
    "sns.countplot(x='Q5_category',hue='Votre âge',data=df2)"
   ]
  },
  {
   "cell_type": "code",
   "execution_count": 373,
   "metadata": {},
   "outputs": [
    {
     "data": {
      "text/plain": [
       "<matplotlib.axes._subplots.AxesSubplot at 0x27cdbee5c50>"
      ]
     },
     "execution_count": 373,
     "metadata": {},
     "output_type": "execute_result"
    },
    {
     "data": {
      "image/png": "[encoded data removed]",
      "text/plain": [
       "<matplotlib.figure.Figure at 0x27cdbe53e10>"
      ]
     },
     "metadata": {},
     "output_type": "display_data"
    }
   ],
   "source": [
    "sns.countplot(x='Q5_category',hue='Etat civil',data=df2)"
   ]
  },
  {
   "cell_type": "code",
   "execution_count": 376,
   "metadata": {},
   "outputs": [
    {
     "data": {
      "text/plain": [
       "<matplotlib.axes._subplots.AxesSubplot at 0x27cdc105588>"
      ]
     },
     "execution_count": 376,
     "metadata": {},
     "output_type": "execute_result"
    },
    {
     "data": {
      "image/png": "[encoded data removed]",
      "text/plain": [
       "<matplotlib.figure.Figure at 0x27cdc11e2e8>"
      ]
     },
     "metadata": {},
     "output_type": "display_data"
    }
   ],
   "source": [
    "sns.countplot(x='Q5_category',hue='Situation professionnelle',data=df2)"
   ]
  },
  {
   "cell_type": "code",
   "execution_count": 377,
   "metadata": {},
   "outputs": [
    {
     "data": {
      "text/plain": [
       "<matplotlib.axes._subplots.AxesSubplot at 0x27cdc1daba8>"
      ]
     },
     "execution_count": 377,
     "metadata": {},
     "output_type": "execute_result"
    },
    {
     "data": {
      "image/png": "[encoded data removed]",
      "text/plain": [
       "<matplotlib.figure.Figure at 0x27cdc1aebe0>"
      ]
     },
     "metadata": {},
     "output_type": "display_data"
    }
   ],
   "source": [
    "sns.countplot(x='Q5_category',hue='Région',data=df2)"
   ]
  }
 ],
 "metadata": {
  "kernelspec": {
   "display_name": "Python 3",
   "language": "python",
   "name": "python3"
  },
  "language_info": {
   "codemirror_mode": {
    "name": "ipython",
    "version": 3
   },
   "file_extension": ".py",
   "mimetype": "text/x-python",
   "name": "python",
   "nbconvert_exporter": "python",
   "pygments_lexer": "ipython3",
   "version": "3.6.4"
  }
 },
 "nbformat": 4,
 "nbformat_minor": 2
}
